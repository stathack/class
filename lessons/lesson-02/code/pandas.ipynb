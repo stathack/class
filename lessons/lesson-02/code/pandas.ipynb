{
 "cells": [
  {
   "cell_type": "markdown",
   "metadata": {},
   "source": [
    "Examples of lists and tuples"
   ]
  },
  {
   "cell_type": "code",
   "execution_count": 47,
   "metadata": {
    "collapsed": false
   },
   "outputs": [],
   "source": [
    "##list\n",
    "a = [66.25, 333, 333, 1, 1234.5]\n",
    "\n",
    "##nested list\n",
    "matrix = [\n",
    "    [1, 2, 3, 4],\n",
    "    [5, 6, 7, 8],\n",
    "    [9, 10, 11, 12],\n",
    "    ]\n",
    "\n",
    "##tuple\n",
    "t = 12345, 54321, 'hello!'\n",
    "\n",
    "##nested tuple\n",
    "u = t, (1, 2, 3, 4, 5)\n",
    "\n",
    "#combinations\n",
    "v = ([1, 2, 3], [3, 2, 1])\n",
    "\n",
    "\n",
    "zipped = zip(range(1,6), a)"
   ]
  },
  {
   "cell_type": "code",
   "execution_count": null,
   "metadata": {
    "collapsed": false
   },
   "outputs": [],
   "source": []
  },
  {
   "cell_type": "markdown",
   "metadata": {},
   "source": [
    "Examples of Dictionaries"
   ]
  },
  {
   "cell_type": "code",
   "execution_count": 37,
   "metadata": {
    "collapsed": false
   },
   "outputs": [],
   "source": [
    "tel = {'jack': 4098, 'sape': 4139}\n",
    "tel['guido'] = 4127\n",
    "\n",
    "#del tel['sape']\n",
    "\n",
    "tel1=dict([('sape', 4139), ('guido', 4127), ('jack', 4098)])"
   ]
  },
  {
   "cell_type": "markdown",
   "metadata": {},
   "source": [
    "Pandas dataframes"
   ]
  },
  {
   "cell_type": "code",
   "execution_count": 29,
   "metadata": {
    "collapsed": false
   },
   "outputs": [],
   "source": [
    "import pandas as pd\n",
    "\n",
    "##converting dictionaries to pandas\n",
    "df = pd.DataFrame(data=tel.items(),columns=['name', 'id'])\n",
    "\n",
    "##Opening from the web\n",
    "import urllib2\n",
    "url = \"http://mlr.cs.umass.edu/ml/machine-learning-databases/iris/iris.data\"\n",
    "f = urllib2.urlopen(url)\n",
    "columns = ['Sepal Length', 'Sepal Width', 'Petal Length', 'Petal Width', 'Class'\n",
    "    ]\n",
    "\n",
    "iris= pd.read_csv(f,header=0, names=columns)\n"
   ]
  },
  {
   "cell_type": "markdown",
   "metadata": {},
   "source": [
    "Numpy arrays"
   ]
  },
  {
   "cell_type": "code",
   "execution_count": 26,
   "metadata": {
    "collapsed": false
   },
   "outputs": [
    {
     "name": "stdout",
     "output_type": "stream",
     "text": [
      "[  6.62500000e+01   3.33000000e+02   3.33000000e+02   1.00000000e+00\n",
      "   1.23450000e+03]\n",
      "[66.25, 333, 333, 1, 1234.5]\n"
     ]
    }
   ],
   "source": [
    "import numpy as np\n",
    "C = np.array(a)\n",
    "print(C)\n",
    "print(a)"
   ]
  },
  {
   "cell_type": "code",
   "execution_count": 27,
   "metadata": {
    "collapsed": false
   },
   "outputs": [
    {
     "data": {
      "text/plain": [
       "array([  151.25,   631.4 ,   631.4 ,    33.8 ,  2254.1 ])"
      ]
     },
     "execution_count": 27,
     "metadata": {},
     "output_type": "execute_result"
    }
   ],
   "source": [
    "C * 9 / 5 + 32\n",
    "#a* 9 / 5 + 32"
   ]
  },
  {
   "cell_type": "code",
   "execution_count": 39,
   "metadata": {
    "collapsed": false
   },
   "outputs": [],
   "source": [
    "#iris.values"
   ]
  },
  {
   "cell_type": "markdown",
   "metadata": {},
   "source": [
    "loops"
   ]
  },
  {
   "cell_type": "code",
   "execution_count": 46,
   "metadata": {
    "collapsed": false
   },
   "outputs": [
    {
     "name": "stdout",
     "output_type": "stream",
     "text": [
      "0 K\n",
      "1 e\n",
      "2 a\n",
      "3 r\n",
      "4 n\n",
      "5 s\n"
     ]
    }
   ],
   "source": [
    "##list and tuple\n",
    "for i, v in enumerate(a):\n",
    "    print i, v"
   ]
  },
  {
   "cell_type": "code",
   "execution_count": 44,
   "metadata": {
    "collapsed": false
   },
   "outputs": [
    {
     "name": "stdout",
     "output_type": "stream",
     "text": [
      "Hello Daniel Elisio!\n",
      "Hello Connor Kirsch!\n",
      "Hello Victor Quiroz!\n",
      "Hello Paymon Rayetparvar!\n",
      "Hello Ashwin Singh!\n",
      "Hello Gabriel De La O!\n",
      "Hello Collin Hazlett!\n",
      "Hello Valerie Rodden!\n",
      "Hello Steven Fiero!\n",
      "Hello Leslie Kearns!\n"
     ]
    }
   ],
   "source": [
    "##list of tuples using zip\n",
    "\n",
    "first=[\"Daniel\",\"Connor\",\"Victor\",\"Paymon\",\"Ashwin\",\"Gabriel\",\"Collin\",\"Valerie\",\"Steven\",\"Leslie\"]\n",
    "last=[\"Elisio\",\"Kirsch\",\"Quiroz\",\"Rayetparvar\",\"Singh\",\"De La O\",\"Hazlett\",\"Rodden\",\"Fiero\",\"Kearns\"]\n",
    "\n",
    "for q, a in zip(first, last):\n",
    "    print 'Hello {0} {1}!'.format(q, a)"
   ]
  },
  {
   "cell_type": "code",
   "execution_count": 61,
   "metadata": {
    "collapsed": false
   },
   "outputs": [
    {
     "name": "stdout",
     "output_type": "stream",
     "text": [
      "sape 4139\n",
      "jack 4098\n",
      "guido 4127\n"
     ]
    }
   ],
   "source": [
    "#dictionaries\n",
    "for key,value in tel1.iteritems():\n",
    "   print key,value\n",
    "    \n"
   ]
  },
  {
   "cell_type": "markdown",
   "metadata": {},
   "source": [
    "Functions"
   ]
  },
  {
   "cell_type": "code",
   "execution_count": 73,
   "metadata": {
    "collapsed": false
   },
   "outputs": [],
   "source": [
    "def printme( str ):\n",
    "    \"This prints a passed string into this function\"\n",
    "    test=\"Hello \"+str\n",
    "    print test\n",
    "    return test;"
   ]
  },
  {
   "cell_type": "code",
   "execution_count": 78,
   "metadata": {
    "collapsed": false
   },
   "outputs": [
    {
     "name": "stdout",
     "output_type": "stream",
     "text": [
      "Hello Daniel\n"
     ]
    }
   ],
   "source": [
    "printme(first[0])"
   ]
  },
  {
   "cell_type": "markdown",
   "metadata": {},
   "source": [
    "Functional Programming tools"
   ]
  },
  {
   "cell_type": "code",
   "execution_count": 95,
   "metadata": {
    "collapsed": false
   },
   "outputs": [
    {
     "data": {
      "text/plain": [
       "[]"
      ]
     },
     "execution_count": 95,
     "metadata": {},
     "output_type": "execute_result"
    }
   ],
   "source": [
    "##filter\n",
    "\n",
    "def f(x): \n",
    "    return x  > 12 and x <= 22\n",
    "\n",
    "blue=range(2, 25)\n",
    "\n",
    "#blue\n",
    "filter(f, blue)\n",
    "\n",
    "\n"
   ]
  },
  {
   "cell_type": "code",
   "execution_count": 101,
   "metadata": {
    "collapsed": false
   },
   "outputs": [
    {
     "data": {
      "text/plain": [
       "[1, 8, 27, 64, 125, 216, 343, 512, 729, 1000]"
      ]
     },
     "execution_count": 101,
     "metadata": {},
     "output_type": "execute_result"
    }
   ],
   "source": [
    "##Map\n",
    "def cube(x): \n",
    "    return x*x*x\n",
    "\n",
    "green=range(1, 11)\n",
    "\n",
    "map(cube, green)\n"
   ]
  },
  {
   "cell_type": "code",
   "execution_count": 102,
   "metadata": {
    "collapsed": false
   },
   "outputs": [
    {
     "data": {
      "text/plain": [
       "55"
      ]
     },
     "execution_count": 102,
     "metadata": {},
     "output_type": "execute_result"
    }
   ],
   "source": [
    "def add(x,y): \n",
    "    return x+y\n",
    "\n",
    "\n",
    "reduce(add, green)"
   ]
  },
  {
   "cell_type": "code",
   "execution_count": 133,
   "metadata": {
    "collapsed": false
   },
   "outputs": [
    {
     "data": {
      "text/html": [
       "<div>\n",
       "<table border=\"1\" class=\"dataframe\">\n",
       "  <thead>\n",
       "    <tr style=\"text-align: right;\">\n",
       "      <th></th>\n",
       "      <th>b</th>\n",
       "      <th>d</th>\n",
       "      <th>e</th>\n",
       "    </tr>\n",
       "  </thead>\n",
       "  <tbody>\n",
       "    <tr>\n",
       "      <th>Utah</th>\n",
       "      <td>-1.944372</td>\n",
       "      <td>-0.228793</td>\n",
       "      <td>0.829178</td>\n",
       "    </tr>\n",
       "    <tr>\n",
       "      <th>Ohio</th>\n",
       "      <td>-2.010442</td>\n",
       "      <td>-0.666726</td>\n",
       "      <td>-1.782100</td>\n",
       "    </tr>\n",
       "    <tr>\n",
       "      <th>Texas</th>\n",
       "      <td>1.033335</td>\n",
       "      <td>-0.604392</td>\n",
       "      <td>0.407699</td>\n",
       "    </tr>\n",
       "    <tr>\n",
       "      <th>Oregon</th>\n",
       "      <td>-0.305605</td>\n",
       "      <td>0.979761</td>\n",
       "      <td>-0.091309</td>\n",
       "    </tr>\n",
       "  </tbody>\n",
       "</table>\n",
       "</div>"
      ],
      "text/plain": [
       "               b         d         e\n",
       "Utah   -1.944372 -0.228793  0.829178\n",
       "Ohio   -2.010442 -0.666726 -1.782100\n",
       "Texas   1.033335 -0.604392  0.407699\n",
       "Oregon -0.305605  0.979761 -0.091309"
      ]
     },
     "execution_count": 133,
     "metadata": {},
     "output_type": "execute_result"
    }
   ],
   "source": [
    "##functional for pandas\n",
    "frame = pd.DataFrame(np.random.randn(4, 3), columns=list('bde'), index=['Utah', 'Ohio', 'Texas', 'Oregon'])\n",
    "frame.head()"
   ]
  },
  {
   "cell_type": "code",
   "execution_count": 137,
   "metadata": {
    "collapsed": false
   },
   "outputs": [
    {
     "data": {
      "text/plain": [
       "b    3.043777\n",
       "d    1.646487\n",
       "e    2.611278\n",
       "dtype: float64"
      ]
     },
     "execution_count": 137,
     "metadata": {},
     "output_type": "execute_result"
    }
   ],
   "source": [
    "\n",
    "##apply function to every row or column\n",
    "frame.apply(lambda x: x.max() - x.min())"
   ]
  },
  {
   "cell_type": "code",
   "execution_count": 122,
   "metadata": {
    "collapsed": false
   },
   "outputs": [],
   "source": [
    "##applies functions to every element of the dataframe\n",
    "frame.applymap(lambda x: '%.2f' % x)"
   ]
  },
  {
   "cell_type": "code",
   "execution_count": 139,
   "metadata": {
    "collapsed": false
   },
   "outputs": [
    {
     "data": {
      "text/plain": [
       "Utah      0.570091\n",
       "Ohio     -5.659734\n",
       "Texas     0.067767\n",
       "Oregon   -0.000761\n",
       "Name: e, dtype: float64"
      ]
     },
     "execution_count": 139,
     "metadata": {},
     "output_type": "execute_result"
    }
   ],
   "source": [
    "frame['e'].map(lambda x: '%.2f' % x)"
   ]
  },
  {
   "cell_type": "code",
   "execution_count": null,
   "metadata": {
    "collapsed": true
   },
   "outputs": [],
   "source": []
  }
 ],
 "metadata": {
  "kernelspec": {
   "display_name": "Python 2",
   "language": "python",
   "name": "python2"
  },
  "language_info": {
   "codemirror_mode": {
    "name": "ipython",
    "version": 2
   },
   "file_extension": ".py",
   "mimetype": "text/x-python",
   "name": "python",
   "nbconvert_exporter": "python",
   "pygments_lexer": "ipython2",
   "version": "2.7.11"
  }
 },
 "nbformat": 4,
 "nbformat_minor": 0
}
