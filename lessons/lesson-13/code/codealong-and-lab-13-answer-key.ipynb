{
 "cells": [
  {
   "cell_type": "markdown",
   "metadata": {},
   "source": [
    "# ATX-DAT-2 | Codealong and Lab 13 | Answer Key"
   ]
  },
  {
   "cell_type": "markdown",
   "metadata": {},
   "source": [
    "# Codealong - Text Processing with scikit-learn"
   ]
  },
  {
   "cell_type": "code",
   "execution_count": 14,
   "metadata": {
    "collapsed": false
   },
   "outputs": [],
   "source": [
    "import os\n",
    "import math\n",
    "import numpy as np\n",
    "import pandas as pd\n",
    "%matplotlib inline\n",
    "import matplotlib.pyplot as plt\n",
    "from sklearn import feature_extraction, ensemble, cross_validation, metrics\n",
    "\n",
    "pd.set_option('display.max_rows', 10)\n",
    "pd.set_option('display.notebook_repr_html', True)\n",
    "pd.set_option('display.max_columns', 10)\n",
    "\n",
    "\n",
    "plt.style.use('ggplot')"
   ]
  },
  {
   "cell_type": "markdown",
   "metadata": {},
   "source": [
    "The data is about sentiments on Amazon reviews."
   ]
  },
  {
   "cell_type": "code",
   "execution_count": 15,
   "metadata": {
    "collapsed": false
   },
   "outputs": [],
   "source": [
    "reviews = []\n",
    "sentiments = []\n",
    "\n",
    "with open(os.path.join('..', 'datasets', 'amazon-reviews.txt')) as f:\n",
    "    for line in f.readlines():\n",
    "        line = line.strip('\\n')\n",
    "        review, sentiment = line.split('\\t')\n",
    "        sentiment = np.nan if sentiment == '' else int(sentiment)\n",
    "\n",
    "        reviews.append(review)\n",
    "        sentiments.append(sentiment)\n",
    "\n",
    "df = pd.DataFrame({'review': reviews, 'sentiment': sentiments})"
   ]
  },
  {
   "cell_type": "code",
   "execution_count": 16,
   "metadata": {
    "collapsed": false
   },
   "outputs": [
    {
     "data": {
      "text/html": [
       "<div>\n",
       "<table border=\"1\" class=\"dataframe\">\n",
       "  <thead>\n",
       "    <tr style=\"text-align: right;\">\n",
       "      <th></th>\n",
       "      <th>review</th>\n",
       "      <th>sentiment</th>\n",
       "    </tr>\n",
       "  </thead>\n",
       "  <tbody>\n",
       "    <tr>\n",
       "      <th>0</th>\n",
       "      <td>I try not to adjust the volume setting to avoi...</td>\n",
       "      <td>NaN</td>\n",
       "    </tr>\n",
       "    <tr>\n",
       "      <th>1</th>\n",
       "      <td>So there is no way for me to plug it in here i...</td>\n",
       "      <td>0.0</td>\n",
       "    </tr>\n",
       "    <tr>\n",
       "      <th>2</th>\n",
       "      <td>Good case, Excellent value.</td>\n",
       "      <td>1.0</td>\n",
       "    </tr>\n",
       "    <tr>\n",
       "      <th>3</th>\n",
       "      <td>I thought Motorola made reliable products!.</td>\n",
       "      <td>NaN</td>\n",
       "    </tr>\n",
       "    <tr>\n",
       "      <th>4</th>\n",
       "      <td>Battery for Motorola Razr.</td>\n",
       "      <td>NaN</td>\n",
       "    </tr>\n",
       "  </tbody>\n",
       "</table>\n",
       "</div>"
      ],
      "text/plain": [
       "                                              review  sentiment\n",
       "0  I try not to adjust the volume setting to avoi...        NaN\n",
       "1  So there is no way for me to plug it in here i...        0.0\n",
       "2                        Good case, Excellent value.        1.0\n",
       "3        I thought Motorola made reliable products!.        NaN\n",
       "4                         Battery for Motorola Razr.        NaN"
      ]
     },
     "execution_count": 16,
     "metadata": {},
     "output_type": "execute_result"
    }
   ],
   "source": [
    "df.head()"
   ]
  },
  {
   "cell_type": "code",
   "execution_count": 17,
   "metadata": {
    "collapsed": true
   },
   "outputs": [],
   "source": [
    "df.dropna(inplace = True) # Let's drop the NaN"
   ]
  },
  {
   "cell_type": "code",
   "execution_count": 18,
   "metadata": {
    "collapsed": false
   },
   "outputs": [
    {
     "data": {
      "text/html": [
       "<div>\n",
       "<table border=\"1\" class=\"dataframe\">\n",
       "  <thead>\n",
       "    <tr style=\"text-align: right;\">\n",
       "      <th></th>\n",
       "      <th>review</th>\n",
       "      <th>sentiment</th>\n",
       "    </tr>\n",
       "  </thead>\n",
       "  <tbody>\n",
       "    <tr>\n",
       "      <th>1</th>\n",
       "      <td>So there is no way for me to plug it in here i...</td>\n",
       "      <td>0.0</td>\n",
       "    </tr>\n",
       "    <tr>\n",
       "      <th>2</th>\n",
       "      <td>Good case, Excellent value.</td>\n",
       "      <td>1.0</td>\n",
       "    </tr>\n",
       "    <tr>\n",
       "      <th>5</th>\n",
       "      <td>Great for the jawbone.</td>\n",
       "      <td>1.0</td>\n",
       "    </tr>\n",
       "    <tr>\n",
       "      <th>10</th>\n",
       "      <td>Tied to charger for conversations lasting more...</td>\n",
       "      <td>0.0</td>\n",
       "    </tr>\n",
       "    <tr>\n",
       "      <th>11</th>\n",
       "      <td>The mic is great.</td>\n",
       "      <td>1.0</td>\n",
       "    </tr>\n",
       "  </tbody>\n",
       "</table>\n",
       "</div>"
      ],
      "text/plain": [
       "                                               review  sentiment\n",
       "1   So there is no way for me to plug it in here i...        0.0\n",
       "2                         Good case, Excellent value.        1.0\n",
       "5                              Great for the jawbone.        1.0\n",
       "10  Tied to charger for conversations lasting more...        0.0\n",
       "11                                  The mic is great.        1.0"
      ]
     },
     "execution_count": 18,
     "metadata": {},
     "output_type": "execute_result"
    }
   ],
   "source": [
    "df.head()"
   ]
  },
  {
   "cell_type": "code",
   "execution_count": 19,
   "metadata": {
    "collapsed": true
   },
   "outputs": [],
   "source": [
    "X = df.review\n",
    "y = df.sentiment"
   ]
  },
  {
   "cell_type": "markdown",
   "metadata": {},
   "source": [
    "## Train/test sets"
   ]
  },
  {
   "cell_type": "code",
   "execution_count": 20,
   "metadata": {
    "collapsed": true
   },
   "outputs": [],
   "source": [
    "train_X, test_X, train_y, test_y = cross_validation.train_test_split(X, y, test_size = 0.4)"
   ]
  },
  {
   "cell_type": "code",
   "execution_count": 21,
   "metadata": {
    "collapsed": false
   },
   "outputs": [
    {
     "data": {
      "text/plain": [
       "2766                                   Excellent product.\n",
       "2152    It's very convenient and simple to use - gets ...\n",
       "2534                                    Poor Reliability.\n",
       "376                    My headset works just peachy-keen.\n",
       "2580    I didn't want the clip going over the top of m...\n",
       "                              ...                        \n",
       "997               Now I know that I made a wise decision.\n",
       "2549                           Would recommend this item.\n",
       "1988                 Talk about USELESS customer service.\n",
       "1453    The update procedure is difficult and cumbersome.\n",
       "2225                                 Perfect for the PS3.\n",
       "Name: review, dtype: object"
      ]
     },
     "execution_count": 21,
     "metadata": {},
     "output_type": "execute_result"
    }
   ],
   "source": [
    "train_X"
   ]
  },
  {
   "cell_type": "markdown",
   "metadata": {
    "collapsed": true
   },
   "source": [
    "## `CountVectorizer`"
   ]
  },
  {
   "cell_type": "markdown",
   "metadata": {},
   "source": [
    "`CountVectorizer` converts a collection of text into a matrix of features.  Each row will be a sample (an article or piece of text) and each column will be a text feature (usually a count or binary feature per word).\n",
    "\n",
    "`CountVectorizer` takes a column of text and creates a new dataset.  It generates a feature for every word in all of the pieces of text.\n",
    "\n",
    "CAUTION: Using all of the words can be useful, but we may need to use regularization to avoid overfitting.  Otherwise, rare words may cause the model to overfit and not generalize.\n",
    "\n",
    "(And check http://scikit-learn.org/stable/modules/generated/sklearn.feature_extraction.text.CountVectorizer.html as needed)"
   ]
  },
  {
   "cell_type": "code",
   "execution_count": 88,
   "metadata": {
    "collapsed": false
   },
   "outputs": [],
   "source": [
    "# Instantiate a new CountVectorizer\n",
    "\n",
    "# Stopwords are non-content words.  (e.g. 'to', 'the', and 'it'\n",
    "# They aren’t helpful for prediction, so we remove them.\n",
    "\n",
    "vectorizer = feature_extraction.text.CountVectorizer(ngram_range=(1, 2),stop_words = 'english')"
   ]
  },
  {
   "cell_type": "code",
   "execution_count": 89,
   "metadata": {
    "collapsed": false
   },
   "outputs": [
    {
     "data": {
      "text/plain": [
       "CountVectorizer(analyzer=u'word', binary=False, decode_error=u'strict',\n",
       "        dtype=<type 'numpy.int64'>, encoding=u'utf-8', input=u'content',\n",
       "        lowercase=True, max_df=1.0, max_features=None, min_df=1,\n",
       "        ngram_range=(1, 2), preprocessor=None, stop_words='english',\n",
       "        strip_accents=None, token_pattern=u'(?u)\\\\b\\\\w\\\\w+\\\\b',\n",
       "        tokenizer=None, vocabulary=None)"
      ]
     },
     "execution_count": 89,
     "metadata": {},
     "output_type": "execute_result"
    }
   ],
   "source": [
    "vectorizer"
   ]
  },
  {
   "cell_type": "markdown",
   "metadata": {},
   "source": [
    "Vectorizers are like other models in scikit-learn:\n",
    "- We create a vectorizer object with the parameters of our feature space\n",
    "- We fit a vectorizer to learn the vocabulary\n",
    "- We transform a set of text into that feature space\n",
    "\n",
    "Note: there is a distinction between fit and transform:\n",
    "- We fit from our training set.  This is part of the model building process, so we don't look at our test set\n",
    "- We transform our test set using our model fit on the training set"
   ]
  },
  {
   "cell_type": "code",
   "execution_count": 90,
   "metadata": {
    "collapsed": false
   },
   "outputs": [
    {
     "data": {
      "text/plain": [
       "CountVectorizer(analyzer=u'word', binary=False, decode_error=u'strict',\n",
       "        dtype=<type 'numpy.int64'>, encoding=u'utf-8', input=u'content',\n",
       "        lowercase=True, max_df=1.0, max_features=None, min_df=1,\n",
       "        ngram_range=(1, 2), preprocessor=None, stop_words='english',\n",
       "        strip_accents=None, token_pattern=u'(?u)\\\\b\\\\w\\\\w+\\\\b',\n",
       "        tokenizer=None, vocabulary=None)"
      ]
     },
     "execution_count": 90,
     "metadata": {},
     "output_type": "execute_result"
    }
   ],
   "source": [
    "# We use `fit` to learn the vocabulary of the reviews\n",
    "\n",
    "vectorizer.fit(train_X)"
   ]
  },
  {
   "cell_type": "code",
   "execution_count": 92,
   "metadata": {
    "collapsed": false
   },
   "outputs": [
    {
     "data": {
      "text/plain": [
       "[u'10',\n",
       " u'10 minutes',\n",
       " u'10 saved',\n",
       " u'10 series',\n",
       " u'11',\n",
       " u'11 months',\n",
       " u'12',\n",
       " u'12 minutes',\n",
       " u'20',\n",
       " u'20 left',\n",
       " u'2000',\n",
       " u'24',\n",
       " u'24 hours',\n",
       " u'2mp',\n",
       " u'2mp pics',\n",
       " u'350',\n",
       " u'350 headset',\n",
       " u'3o',\n",
       " u'3o minutes',\n",
       " u'42',\n",
       " u'42 usb',\n",
       " u'45',\n",
       " u'45 minutes',\n",
       " u'50',\n",
       " u'50 cent',\n",
       " u'50 drain',\n",
       " u'5020',\n",
       " u'5020 pretty',\n",
       " u'510',\n",
       " u'510 maintains',\n",
       " u'510 right',\n",
       " u'5320',\n",
       " u'8125',\n",
       " u'8525',\n",
       " u'8525 phone',\n",
       " u'abhor',\n",
       " u'ability',\n",
       " u'ability actually',\n",
       " u'ability phone',\n",
       " u'able',\n",
       " u'able roam',\n",
       " u'able voice',\n",
       " u'abound',\n",
       " u'absolutely',\n",
       " u'absolutely great',\n",
       " u'absolutely loved',\n",
       " u'ac',\n",
       " u'ac charger',\n",
       " u'accept',\n",
       " u'accept cassette',\n",
       " u'access',\n",
       " u'access fine',\n",
       " u'accessing',\n",
       " u'accessing internet',\n",
       " u'accessory',\n",
       " u'accessory good',\n",
       " u'accompanied',\n",
       " u'accompanied software',\n",
       " u'according',\n",
       " u'according people',\n",
       " u'actually',\n",
       " u'actually know',\n",
       " u'actually outperform',\n",
       " u'actually try',\n",
       " u'actually turns',\n",
       " u'ad',\n",
       " u'adapter',\n",
       " u'adapter does',\n",
       " u'addition',\n",
       " u'addition feels',\n",
       " u'additional',\n",
       " u'additional ear',\n",
       " u'adorable',\n",
       " u'adorable eye',\n",
       " u'advertised',\n",
       " u'advertised d807',\n",
       " u'advise',\n",
       " u'advise purchase',\n",
       " u'aggravating',\n",
       " u'ago',\n",
       " u'ago really',\n",
       " u'alarm',\n",
       " u'alarm clock',\n",
       " u'allowing',\n",
       " u'allowing screen',\n",
       " u'alot',\n",
       " u'alot money',\n",
       " u'aluminum',\n",
       " u'aluminum case',\n",
       " u'amazed',\n",
       " u'amazed quality',\n",
       " u'amazed quick',\n",
       " u'amazon',\n",
       " u'amazon hard',\n",
       " u'amazon having',\n",
       " u'amazon picture',\n",
       " u'amazon sucks',\n",
       " u'amp',\n",
       " u'amp looks',\n",
       " u'angeles',\n",
       " u'angeles horrible',\n",
       " u'angle',\n",
       " u'angle party',\n",
       " u'answer',\n",
       " u'answer calls',\n",
       " u'ant',\n",
       " u'ant easy',\n",
       " u'anti',\n",
       " u'anti glare',\n",
       " u'apart',\n",
       " u'apart months',\n",
       " u'appearance',\n",
       " u'appearance really',\n",
       " u'appears',\n",
       " u'appears actually',\n",
       " u'appears good',\n",
       " u'applifies',\n",
       " u'area',\n",
       " u'area unit',\n",
       " u'arguing',\n",
       " u'arguing verizon',\n",
       " u'armband',\n",
       " u'arrival',\n",
       " u'arrival original',\n",
       " u'arrived',\n",
       " u'arrived did',\n",
       " u'arrived promised',\n",
       " u'arrived quickly',\n",
       " u'asia',\n",
       " u'ask',\n",
       " u'ask wife',\n",
       " u'assumed',\n",
       " u'assumed best',\n",
       " u'att',\n",
       " u'att 8525',\n",
       " u'attacked',\n",
       " u'attacked phone',\n",
       " u'attractive',\n",
       " u'attractive appears',\n",
       " u'audio',\n",
       " u'audio quality',\n",
       " u'auto',\n",
       " u'auto answer',\n",
       " u'average',\n",
       " u'average phone',\n",
       " u'avoid',\n",
       " u'avoid phone',\n",
       " u'avoiding',\n",
       " u'avoiding product',\n",
       " u'away',\n",
       " u'away enter',\n",
       " u'away store',\n",
       " u'awesome',\n",
       " u'awesome device',\n",
       " u'awesome new',\n",
       " u'awful',\n",
       " u'awful people',\n",
       " u'awkward',\n",
       " u'awkward use',\n",
       " u'awsome',\n",
       " u'awsome device',\n",
       " u'background',\n",
       " u'background calls',\n",
       " u'background distracting',\n",
       " u'backlight',\n",
       " u'backlight turns',\n",
       " u'bad',\n",
       " u'bad battery',\n",
       " u'bad customer',\n",
       " u'bad pay',\n",
       " u'bad phone',\n",
       " u'bad purchase',\n",
       " u'bad reception',\n",
       " u'bad say',\n",
       " u'bad service',\n",
       " u'bad unit',\n",
       " u'balance',\n",
       " u'balance awful',\n",
       " u'bar',\n",
       " u'bar phones',\n",
       " u'barely',\n",
       " u'barely hear',\n",
       " u'barely took',\n",
       " u'bargain',\n",
       " u'bargain bought',\n",
       " u'bars',\n",
       " u'bars cell',\n",
       " u'bars days',\n",
       " u'basement',\n",
       " u'basic',\n",
       " u'basic cell',\n",
       " u'basically',\n",
       " u'basically service',\n",
       " u'basically threw',\n",
       " u'batteries',\n",
       " u'batteries fraction',\n",
       " u'battery',\n",
       " u'battery bars',\n",
       " u'battery capacity',\n",
       " u'battery charge',\n",
       " u'battery china',\n",
       " u'battery completely',\n",
       " u'battery connection',\n",
       " u'battery dying',\n",
       " u'battery embedded',\n",
       " u'battery good',\n",
       " u'battery lasts',\n",
       " u'battery life',\n",
       " u'battery literally',\n",
       " u'battery terrible',\n",
       " u'battery went',\n",
       " u'battery working',\n",
       " u'battery works',\n",
       " u'beats',\n",
       " u'beats using',\n",
       " u'beautiful',\n",
       " u'beautiful styling',\n",
       " u'bed',\n",
       " u'bed turned',\n",
       " u'behing',\n",
       " u'behing ear',\n",
       " u'believe',\n",
       " u'believe worth',\n",
       " u'belt',\n",
       " u'belt deffinitely',\n",
       " u'belt headset',\n",
       " u'belt keeping',\n",
       " u'best',\n",
       " u'best bluetooth',\n",
       " u'best bt',\n",
       " u'best customer',\n",
       " u'best download',\n",
       " u'best games',\n",
       " u'best mistake',\n",
       " u'best phone',\n",
       " u'best purchase',\n",
       " u'better',\n",
       " u'better better',\n",
       " u'better consumer',\n",
       " u'better directed',\n",
       " u'better expect',\n",
       " u'better greater',\n",
       " u'better hard',\n",
       " u'better new',\n",
       " u'better reception',\n",
       " u'better things',\n",
       " u'better tried',\n",
       " u'better ve',\n",
       " u'beware',\n",
       " u'beware flush',\n",
       " u'big',\n",
       " u'big disappointment',\n",
       " u'big drawback',\n",
       " u'big key',\n",
       " u'big lots',\n",
       " u'big waste',\n",
       " u'bit',\n",
       " u'bit disappointed',\n",
       " u'black',\n",
       " u'black couldn',\n",
       " u'black model',\n",
       " u'black sudden',\n",
       " u'black white',\n",
       " u'black worst',\n",
       " u'blackberry',\n",
       " u'blackberry flip',\n",
       " u'bland',\n",
       " u'bland especially',\n",
       " u'blew',\n",
       " u'blue',\n",
       " u'blue ant',\n",
       " u'blue tooth',\n",
       " u'blueant',\n",
       " u'blueant supertooth',\n",
       " u'bluetooth',\n",
       " u'bluetooth does',\n",
       " u'bluetooth headset',\n",
       " u'bluetooth market',\n",
       " u'bluetooth motorola',\n",
       " u'bluetooth wearing',\n",
       " u'bluetooth weeks',\n",
       " u'book',\n",
       " u'book time',\n",
       " u'bother',\n",
       " u'bother store',\n",
       " u'bought',\n",
       " u'bought 10',\n",
       " u'bought bought',\n",
       " u'bought cheapy',\n",
       " u'bought hoping',\n",
       " u'bought mother',\n",
       " u'bought new',\n",
       " u'bought phone',\n",
       " u'bought rest',\n",
       " u'bought use',\n",
       " u'brand',\n",
       " u'break',\n",
       " u'break easily',\n",
       " u'breakage',\n",
       " u'breakage unacceptible',\n",
       " u'breaks',\n",
       " u'breaks easily',\n",
       " u'brilliant',\n",
       " u'broke',\n",
       " u'broke fond',\n",
       " u'broke months',\n",
       " u'broke phone',\n",
       " u'broke time',\n",
       " u'broke use',\n",
       " u'broken',\n",
       " u'broken device',\n",
       " u'broken went',\n",
       " u'browser',\n",
       " u'browser offers',\n",
       " u'browsing',\n",
       " u'browsing significantly',\n",
       " u'bt',\n",
       " u'bt headset',\n",
       " u'bubbling',\n",
       " u'bubbling peeling',\n",
       " u'buds',\n",
       " u'buds play',\n",
       " u'build',\n",
       " u'build unlike',\n",
       " u'built',\n",
       " u'built quality',\n",
       " u'bulky',\n",
       " u'button',\n",
       " u'buttons',\n",
       " u'buttons bad',\n",
       " u'buttons headset',\n",
       " u'buttons phone',\n",
       " u'buttons placed',\n",
       " u'buttons recessed',\n",
       " u'buy',\n",
       " u'buy battery',\n",
       " u'buy d807',\n",
       " u'buy phone',\n",
       " u'buy product',\n",
       " u'buyer',\n",
       " u'buyer beware',\n",
       " u'buying',\n",
       " u'buying built',\n",
       " u'buying new',\n",
       " u'buzzing',\n",
       " u'buzzing override',\n",
       " u'ca',\n",
       " u'ca 42',\n",
       " u'cable',\n",
       " u'cable did',\n",
       " u'cable got',\n",
       " u'cable looks',\n",
       " u'cable seat',\n",
       " u'calendar',\n",
       " u'calendar sync',\n",
       " u'called',\n",
       " u'called applifies',\n",
       " u'calls',\n",
       " u'calls drop',\n",
       " u'calls experienced',\n",
       " u'calls long',\n",
       " u'calls randomly',\n",
       " u'calls returned',\n",
       " u'calls unit',\n",
       " u'calls voice',\n",
       " u'came',\n",
       " u'came phone',\n",
       " u'came sizes',\n",
       " u'came v325i',\n",
       " u'came verizon',\n",
       " u'camera',\n",
       " u'camera cellphone',\n",
       " u'camera color',\n",
       " u'camera nice',\n",
       " u'camera phone',\n",
       " u'camera quality',\n",
       " u'camera rated',\n",
       " u'camera really',\n",
       " u'camera thats',\n",
       " u'canal',\n",
       " u'capability',\n",
       " u'capability life',\n",
       " u'capacity',\n",
       " u'capacity confortable',\n",
       " u'car',\n",
       " u'car accept',\n",
       " u'car charger',\n",
       " u'car chargers',\n",
       " u'car freeway',\n",
       " u'car grip',\n",
       " u'car kits',\n",
       " u'car problem',\n",
       " u'car ride',\n",
       " u'car usually',\n",
       " u'care',\n",
       " u'care cool',\n",
       " u'careful',\n",
       " u'carries',\n",
       " u'carries highest',\n",
       " u'carry',\n",
       " u'carry cut',\n",
       " u'case',\n",
       " u'case best',\n",
       " u'case doesn',\n",
       " u'case excellent',\n",
       " u'case extra',\n",
       " u'case feels',\n",
       " u'case fits',\n",
       " u'case flimsy',\n",
       " u'case lense',\n",
       " u'case new',\n",
       " u'case price',\n",
       " u'case small',\n",
       " u'case smell',\n",
       " u'cases',\n",
       " u'cases just',\n",
       " u'cases order',\n",
       " u'cases ve',\n",
       " u'casing',\n",
       " u'casing wire',\n",
       " u'cassette',\n",
       " u'cat',\n",
       " u'cat attacked',\n",
       " u'catching',\n",
       " u'catching cable',\n",
       " u'caused',\n",
       " u'caused lose',\n",
       " u'causing',\n",
       " u'causing discomfort',\n",
       " u'cell',\n",
       " u'cell phone',\n",
       " u'cell phones',\n",
       " u'cell static',\n",
       " u'cellphone',\n",
       " u'cellphone excels',\n",
       " u'cent',\n",
       " u'cent coming',\n",
       " u'center',\n",
       " u'center lot',\n",
       " u'certainly',\n",
       " u'certainly comfortable',\n",
       " u'certainly engineered',\n",
       " u'charge',\n",
       " u'charge cingular',\n",
       " u'charge kept',\n",
       " u'charge life',\n",
       " u'charge like',\n",
       " u'charge long',\n",
       " u'charge shipping',\n",
       " u'charged',\n",
       " u'charged overnite',\n",
       " u'charged use',\n",
       " u'charged went',\n",
       " u'charger',\n",
       " u'charger ac',\n",
       " u'charger arrived',\n",
       " u'charger broken',\n",
       " u'charger conversations',\n",
       " u'charger doesn',\n",
       " u'charger included',\n",
       " u'charger reviews',\n",
       " u'charger week',\n",
       " u'charger work',\n",
       " u'charger worked',\n",
       " u'chargers',\n",
       " u'chargers car',\n",
       " u'chargers cradles',\n",
       " u'charges',\n",
       " u'charges service',\n",
       " u'charging',\n",
       " u'charging current',\n",
       " u'charging phone',\n",
       " u'charm',\n",
       " u'charm adorable',\n",
       " u'charm phone',\n",
       " u'cheap',\n",
       " u'cheap feel',\n",
       " u'cheap hey',\n",
       " u'cheap little',\n",
       " u'cheap plastic',\n",
       " u'cheaper',\n",
       " u'cheaper competitors',\n",
       " u'cheapy',\n",
       " u'cheapy big',\n",
       " u'check',\n",
       " u'check voice',\n",
       " u'china',\n",
       " u'china came',\n",
       " u'chinese',\n",
       " u'chinese crap',\n",
       " u'chinese forgeries',\n",
       " u'choice',\n",
       " u'choices',\n",
       " u'choices loud',\n",
       " u'christmas',\n",
       " u'christmas bought',\n",
       " u'cingulair',\n",
       " u'cingulair nicer',\n",
       " u'cingular',\n",
       " u'cingular 8125',\n",
       " u'cingular att',\n",
       " u'cingular inform',\n",
       " u'cingular support',\n",
       " u'clarity',\n",
       " u'clarity ease',\n",
       " u'clarity phone',\n",
       " u'classy',\n",
       " u'clear',\n",
       " u'clear crisp',\n",
       " u'clear great',\n",
       " u'clear people',\n",
       " u'clear quality',\n",
       " u'clear reception',\n",
       " u'clear skype',\n",
       " u'clearly',\n",
       " u'clearly ready',\n",
       " u'clever',\n",
       " u'clever way',\n",
       " u'clicks',\n",
       " u'clicks place',\n",
       " u'clip',\n",
       " u'clip going',\n",
       " u'clipping',\n",
       " u'clipping belt',\n",
       " u'clips',\n",
       " u'clock',\n",
       " u'clock docking',\n",
       " u'colleague',\n",
       " u'colleague great',\n",
       " u'color',\n",
       " u'color balance',\n",
       " u'colors',\n",
       " u'combination',\n",
       " u'comes',\n",
       " u'comes earpad',\n",
       " u'comes screen',\n",
       " u'comfortable',\n",
       " u'comfortable fit',\n",
       " u'comfortable functionality',\n",
       " u'comfortable hand',\n",
       " u'comfortable headsets',\n",
       " u'comfortable hour',\n",
       " u'comfortable jabra',\n",
       " u'comfortable long',\n",
       " u'comfortably',\n",
       " u'comfortably came',\n",
       " u'comfortible',\n",
       " u'comfortible wear',\n",
       " u'coming',\n",
       " u'coming worthless',\n",
       " u'communicate',\n",
       " u'communications',\n",
       " u'communications tool',\n",
       " u'company',\n",
       " u'company shipped',\n",
       " u'company told',\n",
       " u'comparably',\n",
       " u'comparably priced',\n",
       " u'compared',\n",
       " u'compared phone',\n",
       " u'compete',\n",
       " u'compete new',\n",
       " u'competitors',\n",
       " u'complained',\n",
       " u'complained headset',\n",
       " u'complaint',\n",
       " u'complaint standard',\n",
       " u'completely',\n",
       " u'completely dead',\n",
       " u'completely secure',\n",
       " u'completely stopped',\n",
       " u'completely unhappy',\n",
       " u'completely useless',\n",
       " u'compromise',\n",
       " u'compromise qwerty',\n",
       " u'computer',\n",
       " u'computer lap',\n",
       " u'conditions',\n",
       " u'conditions quality',\n",
       " u'confortable',\n",
       " u'confortable wear',\n",
       " u'confusing',\n",
       " u'confusing caused',\n",
       " u'connected',\n",
       " u'connected 10',\n",
       " u'connected wife',\n",
       " u'connection',\n",
       " u'connection broken',\n",
       " u'connection cell',\n",
       " u'connection computer',\n",
       " u'connection phone',\n",
       " u'constantly',\n",
       " u'constantly saying',\n",
       " u'constructed',\n",
       " u'constructed menus',\n",
       " u'construction',\n",
       " u'construction feels',\n",
       " u'consumer',\n",
       " u'consumer experience',\n",
       " u'contact',\n",
       " u'contact cingular',\n",
       " u'contacted',\n",
       " u'contacted company',\n",
       " u'contacts',\n",
       " u'contacts imagine',\n",
       " u'control',\n",
       " u'control center',\n",
       " u'convenient',\n",
       " u'convenient simple',\n",
       " u'conversation',\n",
       " u'conversations',\n",
       " u'conversations lasting',\n",
       " u'conversations phone',\n",
       " u'converter',\n",
       " u'cool',\n",
       " u'cool cases',\n",
       " u'cool looks',\n",
       " u'cool styles',\n",
       " u'copy',\n",
       " u'copy design',\n",
       " u'correctly',\n",
       " u'correctly don',\n",
       " u'cost',\n",
       " u'cost item',\n",
       " u'costs',\n",
       " u'costs does',\n",
       " u'couldn',\n",
       " u'couldn ask',\n",
       " u'couldn happier',\n",
       " u'couldn hear',\n",
       " u'couldn produce',\n",
       " u'couldn receive',\n",
       " u'couldn simpler',\n",
       " u'couldn understand',\n",
       " u'couldn use',\n",
       " u'counterfeit',\n",
       " u'couple',\n",
       " u'couple feet',\n",
       " u'couple important',\n",
       " u'couple minutes',\n",
       " u'cover',\n",
       " u'cover important',\n",
       " u'cover let',\n",
       " u'coverage',\n",
       " u'coverage basement',\n",
       " u'coverage los',\n",
       " u'coverage upstairs',\n",
       " u'covered',\n",
       " u'cradle',\n",
       " u'cradle belt',\n",
       " u'cradles',\n",
       " u'cradles headphones',\n",
       " u'crap',\n",
       " u'crap crappy',\n",
       " u'crap verizon',\n",
       " u'crappy',\n",
       " u'crappy samsung',\n",
       " u'creaks',\n",
       " u'creaks like',\n",
       " u'crisp',\n",
       " u'crisp clear',\n",
       " u'crisp sound',\n",
       " u'cumbersome',\n",
       " u'current',\n",
       " u'customer',\n",
       " u'customer service',\n",
       " u'cut',\n",
       " u'cute',\n",
       " u'cutouts',\n",
       " u'cutouts buttons',\n",
       " u'd807',\n",
       " u'd807 wrongly',\n",
       " u'darn',\n",
       " u'darn thing',\n",
       " u'data',\n",
       " u'data cable',\n",
       " u'date',\n",
       " u'day',\n",
       " u'day blew',\n",
       " u'day pain',\n",
       " u'days',\n",
       " u'days charging',\n",
       " u'days later',\n",
       " u'days longer',\n",
       " u'dead',\n",
       " u'dead 12',\n",
       " u'dead headset',\n",
       " u'deal',\n",
       " u'decade',\n",
       " u'decade old',\n",
       " u'decent',\n",
       " u'decent ve',\n",
       " u'decent volume',\n",
       " u'decision',\n",
       " u'defeats',\n",
       " u'defeats purpose',\n",
       " u'defect',\n",
       " u'defect risk',\n",
       " u'defective',\n",
       " u'defective crap',\n",
       " u'deffinitely',\n",
       " u'deffinitely make',\n",
       " u'definitly',\n",
       " u'definitly recommend',\n",
       " u'delivery',\n",
       " u'delivery time',\n",
       " u'described',\n",
       " u'description',\n",
       " u'description return',\n",
       " u'design',\n",
       " u'design flaw',\n",
       " u'design good',\n",
       " u'design humans',\n",
       " u'design look',\n",
       " u'design quality',\n",
       " u'designs',\n",
       " u'destroying',\n",
       " u'destroying screen',\n",
       " u'development',\n",
       " u'development division',\n",
       " u'device',\n",
       " u'device certainly',\n",
       " u'device great',\n",
       " u'device transformed',\n",
       " u'device turned',\n",
       " u'device works',\n",
       " u'devices',\n",
       " u'devices easy',\n",
       " u'dialing',\n",
       " u'dialing car',\n",
       " u'dialing feature',\n",
       " u'did',\n",
       " u'did don',\n",
       " u'did match',\n",
       " u'did new',\n",
       " u'did sturdiness',\n",
       " u'did work',\n",
       " u'didn',\n",
       " u'didn explain',\n",
       " u'didn think',\n",
       " u'didn want',\n",
       " u'didn work',\n",
       " u'died',\n",
       " u'died weeks',\n",
       " u'different',\n",
       " u'different case',\n",
       " u'difficult',\n",
       " u'difficult cumbersome',\n",
       " u'difficult install',\n",
       " u'difficult navigate',\n",
       " u'difficult push',\n",
       " u'difficult recommend',\n",
       " u'directed',\n",
       " u'directed ear',\n",
       " u'directions',\n",
       " u'directions pair',\n",
       " u'dirty',\n",
       " u'disapointing',\n",
       " u'disapointing results',\n",
       " u'disappointed',\n",
       " u'disappointed battery',\n",
       " u'disappointed charger',\n",
       " u'disappointing',\n",
       " u'disappointing accessory',\n",
       " u'disappointing thing',\n",
       " u'disappointment',\n",
       " u'disappointment calendar',\n",
       " u'disappointment hate',\n",
       " u'discarded',\n",
       " u'discarded scratched',\n",
       " u'discomfort',\n",
       " u'disconnected',\n",
       " u'disgusting',\n",
       " u'display',\n",
       " u'display beautiful',\n",
       " u'disposable',\n",
       " u'dissapointed',\n",
       " u'distracting',\n",
       " u'dit',\n",
       " u'dit work',\n",
       " u'division',\n",
       " u'division obviously',\n",
       " u'dna',\n",
       " u'dna copy',\n",
       " u'docking',\n",
       " u'docking station',\n",
       " u'does',\n",
       " u'does better',\n",
       " u'does charge',\n",
       " u'does cheap',\n",
       " u'does communicate',\n",
       " u'does expect',\n",
       " u'does fit',\n",
       " u'does maintain',\n",
       " u'does make',\n",
       " u'does match',\n",
       " u'does need',\n",
       " u'does provide',\n",
       " u'does smudged',\n",
       " u'does work',\n",
       " u'doesn',\n",
       " u'doesn fit',\n",
       " u'doesn job',\n",
       " u'doesn long',\n",
       " u'doesn make',\n",
       " u'doesn mess',\n",
       " u'doesn slide',\n",
       " u'doesn wear',\n",
       " u'doesn work',\n",
       " u'doing',\n",
       " u'don',\n",
       " u'don bad',\n",
       " u'don bother',\n",
       " u'don buy',\n",
       " u'don care',\n",
       " u'don like',\n",
       " u'don loudest',\n",
       " u'don make',\n",
       " u'don mess',\n",
       " u'don share',\n",
       " u'don think',\n",
       " u'don use',\n",
       " u'don waste',\n",
       " u'dont',\n",
       " u'dont buy',\n",
       " u'dont waste',\n",
       " u'download',\n",
       " u'download pictures',\n",
       " u'downloading',\n",
       " u'downloading ringtones',\n",
       " u'dozen',\n",
       " u'dozen contacts',\n",
       " u'drain',\n",
       " u'drained',\n",
       " u'drained dying',\n",
       " u'drawback',\n",
       " u'drawback mp3',\n",
       " u'driving',\n",
       " u'driving car',\n",
       " u'droid',\n",
       " u'drop',\n",
       " u'drop phone',\n",
       " u'dropped',\n",
       " u'dropped calls',\n",
       " u'dropped coverage',\n",
       " u'dropping',\n",
       " u'dropping signal',\n",
       " u'durable',\n",
       " u'dustpan',\n",
       " u'dustpan indoors',\n",
       " u'dying',\n",
       " u'e2',\n",
       " u'e2 broke',\n",
       " u'e715',\n",
       " u'e715 worst',\n",
       " u'ear',\n",
       " u'ear buds',\n",
       " u'ear canal',\n",
       " u'ear causing',\n",
       " u'ear comfortable',\n",
       " u'ear don',\n",
       " u'ear face',\n",
       " u'ear gels',\n",
       " u'ear headsets',\n",
       " u'ear hook',\n",
       " u'ear loop',\n",
       " u'ear loops',\n",
       " u'ear outlet',\n",
       " u'ear piece',\n",
       " u'ear plug',\n",
       " u'earbud',\n",
       " u'earbud headsets',\n",
       " u'earbud piece',\n",
       " u'earbud tips',\n",
       " u'earbuds',\n",
       " u'earbugs',\n",
       " u'earbugs avoid',\n",
       " u'earpad',\n",
       " u'earpad recommend',\n",
       " u'earpiece',\n",
       " u'earpieces',\n",
       " u'earpieces left',\n",
       " u'ears',\n",
       " u'ears hurt',\n",
       " u'ears occupied',\n",
       " u'ears sensitive',\n",
       " u'ease',\n",
       " u'ease thing',\n",
       " u'ease use',\n",
       " u'easier',\n",
       " u'easier bluetooth',\n",
       " u'easier hold',\n",
       " u'easily',\n",
       " u'easily touches',\n",
       " u'easy',\n",
       " u'easy barely',\n",
       " u'easy operate',\n",
       " u'easy pair',\n",
       " u'easy set',\n",
       " u'easy toactivate',\n",
       " u'easy use',\n",
       " u'echo',\n",
       " u'echo problem',\n",
       " u'effective',\n",
       " u'effective simple',\n",
       " u'effort',\n",
       " u'elegant',\n",
       " u'elegant cool',\n",
       " u'embarassing',\n",
       " u'embarassing ears',\n",
       " u'embedded',\n",
       " u'embedded sleek',\n",
       " u'encourage',\n",
       " u'encourage people',\n",
       " u'end',\n",
       " u'end completely',\n",
       " u'end couldn',\n",
       " u'end excellent',\n",
       " u'end keys',\n",
       " u'engineered',\n",
       " u'engineered clever',\n",
       " u'enjoy',\n",
       " u'enjoy clarity',\n",
       " u'enter',\n",
       " u'enter car',\n",
       " u'entire',\n",
       " u'entire day',\n",
       " u'env',\n",
       " u'equipment',\n",
       " u'equipment works',\n",
       " u'ericsson',\n",
       " u'ericsson w810i',\n",
       " u'especially',\n",
       " u'especially black',\n",
       " u'especially paired',\n",
       " u'essentially',\n",
       " u'essentially communications',\n",
       " u'essentially forget',\n",
       " u'europe',\n",
       " u'europe asia',\n",
       " u'eventually',\n",
       " u'eventually screen',\n",
       " u'exactly',\n",
       " u'exactly described',\n",
       " u'exactly wanted',\n",
       " u'excellent',\n",
       " u'excellent bluetooth',\n",
       " u'excellent camera',\n",
       " u'excellent product',\n",
       " u'excellent service',\n",
       " u'excellent sound',\n",
       " u'excellent tool',\n",
       " u'excellent use',\n",
       " u'excellent value',\n",
       " u'excellent wallet',\n",
       " u'excels',\n",
       " u'excels roles',\n",
       " u'excessive',\n",
       " u'excessive static',\n",
       " u'exchange',\n",
       " u'exchange bad',\n",
       " u'excited',\n",
       " u'excited headset',\n",
       " u'excited source',\n",
       " u'excrutiatingly',\n",
       " u'excrutiatingly slow',\n",
       " u'expect',\n",
       " u'expect work',\n",
       " u'expectations',\n",
       " u'expectations relatively',\n",
       " u'expected',\n",
       " u'expected better',\n",
       " u'expensive',\n",
       " u'expensive performance',\n",
       " u'expensive replace',\n",
       " u'expensive sold',\n",
       " u'experience',\n",
       " u'experience amazon',\n",
       " u'experience motorola',\n",
       " u'experience terrible',\n",
       " u'experienced',\n",
       " u'explain',\n",
       " u'explain microphone',\n",
       " u'extended',\n",
       " u'extended periods',\n",
       " u'extra',\n",
       " u'extra minutes',\n",
       " u'extra originally',\n",
       " u'extremely',\n",
       " u'extremely nice',\n",
       " u'extremely slow',\n",
       " u'eye',\n",
       " u'eye catching',\n",
       " u'face',\n",
       " u'faceplates',\n",
       " u'faceplates looks',\n",
       " u'failed',\n",
       " u'failed months',\n",
       " u'fails',\n",
       " u'fails ability',\n",
       " ...]"
      ]
     },
     "execution_count": 92,
     "metadata": {},
     "output_type": "execute_result"
    }
   ],
   "source": [
    "# The bag-of-words\n",
    "\n",
    "vectorizer.get_feature_names()"
   ]
  },
  {
   "cell_type": "code",
   "execution_count": 93,
   "metadata": {
    "collapsed": false
   },
   "outputs": [],
   "source": [
    "# We use `tranform` to generate the sample X word matrix - one column per feature (here, a word)\n",
    "\n",
    "train_X_transformed = vectorizer.transform(train_X)\n",
    "test_X_transformed = vectorizer.transform(test_X)"
   ]
  },
  {
   "cell_type": "code",
   "execution_count": 94,
   "metadata": {
    "collapsed": false
   },
   "outputs": [
    {
     "data": {
      "text/plain": [
       "<600x3299 sparse matrix of type '<type 'numpy.int64'>'\n",
       "\twith 5123 stored elements in Compressed Sparse Row format>"
      ]
     },
     "execution_count": 94,
     "metadata": {},
     "output_type": "execute_result"
    }
   ],
   "source": [
    "train_X_transformed"
   ]
  },
  {
   "cell_type": "markdown",
   "metadata": {
    "collapsed": true
   },
   "source": [
    "While dense matrices store every entry in the matrix, sparse matrices only store the nonzero entries.  Sparse matrices don't have a lot of extra features, and some algorithms may not work for them so you use them when you need to work with matrices that would be too big for the computer to handle them, but they are mostly zero, so they compress easily.  You can convert from sparse matrices to dense matrices with `.todense()`"
   ]
  },
  {
   "cell_type": "code",
   "execution_count": 95,
   "metadata": {
    "collapsed": false
   },
   "outputs": [
    {
     "data": {
      "text/plain": [
       "matrix([[0, 0, 0, ..., 0, 0, 0],\n",
       "        [0, 0, 0, ..., 0, 0, 0],\n",
       "        [0, 0, 0, ..., 0, 0, 0],\n",
       "        ..., \n",
       "        [0, 0, 0, ..., 0, 0, 0],\n",
       "        [0, 0, 0, ..., 0, 0, 0],\n",
       "        [0, 0, 0, ..., 0, 0, 0]])"
      ]
     },
     "execution_count": 95,
     "metadata": {},
     "output_type": "execute_result"
    }
   ],
   "source": [
    "train_X_transformed.todense()"
   ]
  },
  {
   "cell_type": "markdown",
   "metadata": {},
   "source": [
    "## Random Forest"
   ]
  },
  {
   "cell_type": "markdown",
   "metadata": {},
   "source": [
    "We can now build a random forest model to predict \"sentiment\"."
   ]
  },
  {
   "cell_type": "code",
   "execution_count": 143,
   "metadata": {
    "collapsed": false
   },
   "outputs": [
    {
     "data": {
      "text/plain": [
       "array([ 0.72826302,  0.79917992,  0.76278036])"
      ]
     },
     "execution_count": 143,
     "metadata": {},
     "output_type": "execute_result"
    }
   ],
   "source": [
    "model = ensemble.RandomForestClassifier(n_estimators = 20, max_features= 100, max_depth=7)\n",
    "\n",
    "cross_validation.cross_val_score(model, train_X_transformed, train_y, scoring = 'roc_auc')"
   ]
  },
  {
   "cell_type": "code",
   "execution_count": 144,
   "metadata": {
    "collapsed": false
   },
   "outputs": [
    {
     "data": {
      "text/plain": [
       "RandomForestClassifier(bootstrap=True, class_weight=None, criterion='gini',\n",
       "            max_depth=7, max_features=100, max_leaf_nodes=None,\n",
       "            min_samples_leaf=1, min_samples_split=2,\n",
       "            min_weight_fraction_leaf=0.0, n_estimators=20, n_jobs=1,\n",
       "            oob_score=False, random_state=None, verbose=0,\n",
       "            warm_start=False)"
      ]
     },
     "execution_count": 144,
     "metadata": {},
     "output_type": "execute_result"
    }
   ],
   "source": [
    "model.fit(train_X_transformed, train_y)"
   ]
  },
  {
   "cell_type": "code",
   "execution_count": 145,
   "metadata": {
    "collapsed": false
   },
   "outputs": [
    {
     "data": {
      "text/plain": [
       "0.80833333333333335"
      ]
     },
     "execution_count": 145,
     "metadata": {},
     "output_type": "execute_result"
    }
   ],
   "source": [
    "model.score(train_X_transformed, train_y)"
   ]
  },
  {
   "cell_type": "code",
   "execution_count": 146,
   "metadata": {
    "collapsed": false
   },
   "outputs": [
    {
     "data": {
      "image/png": "[encoded data removed]",
      "text/plain": [
       "<matplotlib.figure.Figure at 0x11ad96890>"
      ]
     },
     "metadata": {},
     "output_type": "display_data"
    }
   ],
   "source": [
    "train_y_hat = model.predict(train_X_transformed)\n",
    "\n",
    "fpr, tpr, thresholds = metrics.roc_curve(train_y, train_y_hat)\n",
    "\n",
    "plt.figure()\n",
    "plt.plot(fpr, tpr, label = 'ROC curve (area = %0.2f)' % metrics.auc(fpr, tpr))\n",
    "plt.plot([0, 1], [0, 1], 'k--')\n",
    "plt.xlim([.0, 1.])\n",
    "plt.ylim([.0, 1.1])\n",
    "plt.xlabel('FPR/Fall-out')\n",
    "plt.ylabel('TPR/Sensitivity')\n",
    "plt.title('Testing Sentiment ROC')\n",
    "plt.legend(loc = 'lower right')\n",
    "plt.show()"
   ]
  },
  {
   "cell_type": "code",
   "execution_count": 147,
   "metadata": {
    "collapsed": false
   },
   "outputs": [
    {
     "data": {
      "text/plain": [
       "0.75749999999999995"
      ]
     },
     "execution_count": 147,
     "metadata": {},
     "output_type": "execute_result"
    }
   ],
   "source": [
    "model.score(test_X_transformed, test_y)"
   ]
  },
  {
   "cell_type": "code",
   "execution_count": 148,
   "metadata": {
    "collapsed": false
   },
   "outputs": [
    {
     "data": {
      "image/png": "[encoded data removed]",
      "text/plain": [
       "<matplotlib.figure.Figure at 0x115c7bc90>"
      ]
     },
     "metadata": {},
     "output_type": "display_data"
    }
   ],
   "source": [
    "test_y_hat = model.predict(test_X_transformed)\n",
    "\n",
    "fpr, tpr, thresholds = metrics.roc_curve(test_y, test_y_hat)\n",
    "\n",
    "plt.figure()\n",
    "plt.plot(fpr, tpr, label = 'ROC curve (area = %0.2f)' % metrics.auc(fpr, tpr))\n",
    "plt.plot([0, 1], [0, 1], 'k--')\n",
    "plt.xlim([.0, 1.])\n",
    "plt.ylim([.0, 1.1])\n",
    "plt.xlabel('FPR/Fall-out')\n",
    "plt.ylabel('TPR/Sensitivity')\n",
    "plt.title('Training Sentiment ROC')\n",
    "plt.legend(loc = 'lower right')\n",
    "plt.show()"
   ]
  },
  {
   "cell_type": "code",
   "execution_count": 150,
   "metadata": {
    "collapsed": false
   },
   "outputs": [
    {
     "data": {
      "text/plain": [
       "<bound method DataFrame.count of       importance            words\n",
       "0            0.0               10\n",
       "1            0.0       10 minutes\n",
       "2            0.0         10 saved\n",
       "3            0.0        10 series\n",
       "4            0.0               11\n",
       "...          ...              ...\n",
       "3294         0.0        years ago\n",
       "3295         0.0       years best\n",
       "3296         0.0    years carries\n",
       "3297         0.0  years seriously\n",
       "3298         0.0     years worked\n",
       "\n",
       "[3299 rows x 2 columns]>"
      ]
     },
     "execution_count": 150,
     "metadata": {},
     "output_type": "execute_result"
    }
   ],
   "source": [
    "importance=pd.DataFrame({'words': vectorizer.get_feature_names(), 'importance': model.feature_importances_})\n",
    "importance[importance.importance>0].sort_values(by = 'importance').tail(20)\n",
    "\n",
    "importance.count"
   ]
  },
  {
   "cell_type": "markdown",
   "metadata": {},
   "source": [
    "# Lab - TF-IDF"
   ]
  },
  {
   "cell_type": "markdown",
   "metadata": {
    "collapsed": true
   },
   "source": [
    "Directions: Redo the analysis above with `TfidfVectorizer` instead of `CountVectorizer`.  What do you get?\n",
    "\n",
    "(Check http://scikit-learn.org/stable/modules/generated/sklearn.feature_extraction.text.TfidfVectorizer.html as needed)"
   ]
  },
  {
   "cell_type": "code",
   "execution_count": 35,
   "metadata": {
    "collapsed": false
   },
   "outputs": [],
   "source": [
    "vectorizer = feature_extraction.text.TfidfVectorizer(stop_words = 'english')"
   ]
  },
  {
   "cell_type": "code",
   "execution_count": 36,
   "metadata": {
    "collapsed": false
   },
   "outputs": [
    {
     "data": {
      "text/plain": [
       "TfidfVectorizer(analyzer=u'word', binary=False, decode_error=u'strict',\n",
       "        dtype=<type 'numpy.int64'>, encoding=u'utf-8', input=u'content',\n",
       "        lowercase=True, max_df=1.0, max_features=None, min_df=1,\n",
       "        ngram_range=(1, 1), norm=u'l2', preprocessor=None, smooth_idf=True,\n",
       "        stop_words='english', strip_accents=None, sublinear_tf=False,\n",
       "        token_pattern=u'(?u)\\\\b\\\\w\\\\w+\\\\b', tokenizer=None, use_idf=True,\n",
       "        vocabulary=None)"
      ]
     },
     "execution_count": 36,
     "metadata": {},
     "output_type": "execute_result"
    }
   ],
   "source": [
    "vectorizer.fit(train_X)"
   ]
  },
  {
   "cell_type": "code",
   "execution_count": 37,
   "metadata": {
    "collapsed": true
   },
   "outputs": [],
   "source": [
    "train_X_transformed = vectorizer.transform(train_X)"
   ]
  },
  {
   "cell_type": "code",
   "execution_count": 38,
   "metadata": {
    "collapsed": true
   },
   "outputs": [],
   "source": [
    "test_X_transformed = vectorizer.transform(test_X)"
   ]
  },
  {
   "cell_type": "code",
   "execution_count": 39,
   "metadata": {
    "collapsed": false
   },
   "outputs": [
    {
     "data": {
      "text/plain": [
       "array([ 0.76138839,  0.80253025,  0.73560315])"
      ]
     },
     "execution_count": 39,
     "metadata": {},
     "output_type": "execute_result"
    }
   ],
   "source": [
    "model = ensemble.RandomForestClassifier(n_estimators = 5)\n",
    "\n",
    "cross_validation.cross_val_score(model, train_X_transformed, train_y, scoring = 'roc_auc')"
   ]
  },
  {
   "cell_type": "code",
   "execution_count": 40,
   "metadata": {
    "collapsed": false
   },
   "outputs": [
    {
     "data": {
      "text/plain": [
       "RandomForestClassifier(bootstrap=True, class_weight=None, criterion='gini',\n",
       "            max_depth=None, max_features='auto', max_leaf_nodes=None,\n",
       "            min_samples_leaf=1, min_samples_split=2,\n",
       "            min_weight_fraction_leaf=0.0, n_estimators=5, n_jobs=1,\n",
       "            oob_score=False, random_state=None, verbose=0,\n",
       "            warm_start=False)"
      ]
     },
     "execution_count": 40,
     "metadata": {},
     "output_type": "execute_result"
    }
   ],
   "source": [
    "model.fit(train_X_transformed, train_y)"
   ]
  },
  {
   "cell_type": "code",
   "execution_count": 41,
   "metadata": {
    "collapsed": false
   },
   "outputs": [
    {
     "data": {
      "text/plain": [
       "0.97833333333333339"
      ]
     },
     "execution_count": 41,
     "metadata": {},
     "output_type": "execute_result"
    }
   ],
   "source": [
    "model.score(train_X_transformed, train_y)"
   ]
  },
  {
   "cell_type": "code",
   "execution_count": 42,
   "metadata": {
    "collapsed": false
   },
   "outputs": [
    {
     "data": {
      "image/png": "[encoded data removed]",
      "text/plain": [
       "<matplotlib.figure.Figure at 0x103bbe210>"
      ]
     },
     "metadata": {},
     "output_type": "display_data"
    }
   ],
   "source": [
    "train_y_hat = model.predict(train_X_transformed)\n",
    "\n",
    "fpr, tpr, thresholds = metrics.roc_curve(train_y, train_y_hat)\n",
    "\n",
    "plt.figure()\n",
    "plt.plot(fpr, tpr, label = 'ROC curve (area = %0.2f)' % metrics.auc(fpr, tpr))\n",
    "plt.plot([0, 1], [0, 1], 'k--')\n",
    "plt.xlim([.0, 1.])\n",
    "plt.ylim([.0, 1.1])\n",
    "plt.xlabel('FPR/Fall-out')\n",
    "plt.ylabel('TPR/Sensitivity')\n",
    "plt.title('Testing Sentiment ROC')\n",
    "plt.legend(loc = 'lower right')\n",
    "plt.show()"
   ]
  },
  {
   "cell_type": "code",
   "execution_count": 43,
   "metadata": {
    "collapsed": false
   },
   "outputs": [
    {
     "data": {
      "text/plain": [
       "0.73250000000000004"
      ]
     },
     "execution_count": 43,
     "metadata": {},
     "output_type": "execute_result"
    }
   ],
   "source": [
    "model.score(test_X_transformed, test_y)"
   ]
  },
  {
   "cell_type": "code",
   "execution_count": 44,
   "metadata": {
    "collapsed": false
   },
   "outputs": [
    {
     "data": {
      "image/png": "[encoded data removed]",
      "text/plain": [
       "<matplotlib.figure.Figure at 0x119356750>"
      ]
     },
     "metadata": {},
     "output_type": "display_data"
    }
   ],
   "source": [
    "test_y_hat = model.predict(test_X_transformed)\n",
    "\n",
    "fpr, tpr, thresholds = metrics.roc_curve(test_y, test_y_hat)\n",
    "\n",
    "plt.figure()\n",
    "plt.plot(fpr, tpr, label = 'ROC curve (area = %0.2f)' % metrics.auc(fpr, tpr))\n",
    "plt.plot([0, 1], [0, 1], 'k--')\n",
    "plt.xlim([.0, 1.])\n",
    "plt.ylim([.0, 1.1])\n",
    "plt.xlabel('FPR/Fall-out')\n",
    "plt.ylabel('TPR/Sensitivity')\n",
    "plt.title('Training Sentiment ROC')\n",
    "plt.legend(loc = 'lower right')\n",
    "plt.show()"
   ]
  },
  {
   "cell_type": "code",
   "execution_count": null,
   "metadata": {
    "collapsed": true
   },
   "outputs": [],
   "source": []
  },
  {
   "cell_type": "code",
   "execution_count": null,
   "metadata": {
    "collapsed": true
   },
   "outputs": [],
   "source": []
  }
 ],
 "metadata": {
  "kernelspec": {
   "display_name": "Python 2",
   "language": "python",
   "name": "python2"
  },
  "language_info": {
   "codemirror_mode": {
    "name": "ipython",
    "version": 2
   },
   "file_extension": ".py",
   "mimetype": "text/x-python",
   "name": "python",
   "nbconvert_exporter": "python",
   "pygments_lexer": "ipython2",
   "version": "2.7.11"
  }
 },
 "nbformat": 4,
 "nbformat_minor": 0
}
