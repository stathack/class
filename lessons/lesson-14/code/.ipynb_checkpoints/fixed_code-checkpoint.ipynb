{
 "cells": [
  {
   "cell_type": "code",
   "execution_count": 154,
   "metadata": {
    "collapsed": false
   },
   "outputs": [],
   "source": [
    "# spacy is used for pre-processing and traditional NLP\n",
    "import spacy\n",
    "from spacy.en import English"
   ]
  },
  {
   "cell_type": "code",
   "execution_count": 155,
   "metadata": {
    "collapsed": false
   },
   "outputs": [],
   "source": [
    "import re\n",
    "import pandas as pd\n",
    "\n",
    "##it catches errors in the conversion to unicode\n",
    "\n",
    "data=open('../assets/dataset/captured-tweets.txt', 'r')\n",
    "tweets=[]\n",
    "error=0\n",
    "for x in data:\n",
    "    try:\n",
    "        x=unicode(x).replace('\\n','')\n",
    "        tweets.append(re.sub(r\"\\bhttp.*\\w+\", \"\", x) )\n",
    "    except StandardError:\n",
    "        error+=1    "
   ]
  },
  {
   "cell_type": "code",
   "execution_count": 134,
   "metadata": {
    "collapsed": false
   },
   "outputs": [],
   "source": [
    "def mentions_company(data, company='Google'):\n",
    "    parsed = nlp_toolkit(data)\n",
    "    for entity in parsed.ents:\n",
    "        if entity.text == company and entity.label_ == 'ORG':\n",
    "            return True\n",
    "    return False"
   ]
  },
  {
   "cell_type": "code",
   "execution_count": 138,
   "metadata": {
    "collapsed": false
   },
   "outputs": [],
   "source": [
    "def get_actions(parsed):\n",
    "    actions = [el.lemma_ \n",
    "                for el in parsed \n",
    "                if el.pos == spacy.parts_of_speech.VERB\n",
    "               ]\n",
    "    return actions"
   ]
  },
  {
   "cell_type": "code",
   "execution_count": 161,
   "metadata": {
    "collapsed": true
   },
   "outputs": [],
   "source": [
    "def mentions_country(parsed, country):\n",
    "    for entity in parsed.ents:\n",
    "        if entity.text == country and entity.label_ == 'GPE':\n",
    "            return True\n",
    "    return False"
   ]
  },
  {
   "cell_type": "code",
   "execution_count": 151,
   "metadata": {
    "collapsed": false
   },
   "outputs": [
    {
     "data": {
      "text/plain": [
       "\"for tweet in tweets:\\n    parsed = nlp_toolkit(tweet)\\n    if mentions_company(parsed, 'Google'):\\n        print tweet\\n       \""
      ]
     },
     "execution_count": 151,
     "metadata": {},
     "output_type": "execute_result"
    }
   ],
   "source": [
    "'''for tweet in tweets:\n",
    "    parsed = nlp_toolkit(tweet)\n",
    "    if mentions_company(parsed, 'Google'):\n",
    "        print tweet\n",
    "       ''' \n",
    "##can be done easier this way\n",
    "##[tweet for tweet in tweets if mentions_company(nlp_toolkit(tweet), 'Google')]"
   ]
  },
  {
   "cell_type": "code",
   "execution_count": 150,
   "metadata": {
    "collapsed": false
   },
   "outputs": [],
   "source": [
    "## or even easier this way\n",
    "filter(lambda s:  mentions_company(nlp_toolkit(s), 'Google'), tweets)"
   ]
  },
  {
   "cell_type": "code",
   "execution_count": 163,
   "metadata": {
    "collapsed": false
   },
   "outputs": [
    {
     "data": {
      "text/plain": [
       "[u'GOBE! Iran warns Nigeria to release Shiite leader El-Zakzaky - SEE ',\n",
       " u'GOBE! Iran warns Nigeria to release Shiite leader El-Zakzaky - SEE ',\n",
       " u\"Hhmmm. Iran claiming to have 'warned Nigeria' to release detained Shiite leader.... @afalli\",\n",
       " u'RT @NEWS957: Saudi Arabia announces it is severing ties with Iran, Canada urging diplomacy ']"
      ]
     },
     "execution_count": 163,
     "metadata": {},
     "output_type": "execute_result"
    }
   ],
   "source": [
    "filter(lambda s:  mentions_country(nlp_toolkit(s), 'Iran') & \\\n",
    "                                   ('release' in get_actions(nlp_toolkit(s)) or\\\n",
    "                                    'announce' in get_actions(nlp_toolkit(s)))\\\n",
    "                                   , tweets)"
   ]
  },
  {
   "cell_type": "code",
   "execution_count": null,
   "metadata": {
    "collapsed": false
   },
   "outputs": [],
   "source": []
  },
  {
   "cell_type": "code",
   "execution_count": null,
   "metadata": {
    "collapsed": false
   },
   "outputs": [],
   "source": []
  },
  {
   "cell_type": "code",
   "execution_count": null,
   "metadata": {
    "collapsed": true
   },
   "outputs": [],
   "source": []
  }
 ],
 "metadata": {
  "kernelspec": {
   "display_name": "Python 2",
   "language": "python",
   "name": "python2"
  },
  "language_info": {
   "codemirror_mode": {
    "name": "ipython",
    "version": 2
   },
   "file_extension": ".py",
   "mimetype": "text/x-python",
   "name": "python",
   "nbconvert_exporter": "python",
   "pygments_lexer": "ipython2",
   "version": "2.7.11"
  }
 },
 "nbformat": 4,
 "nbformat_minor": 0
}
