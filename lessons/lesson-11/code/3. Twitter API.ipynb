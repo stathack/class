{
 "cells": [
  {
   "cell_type": "markdown",
   "metadata": {},
   "source": [
    "# Tutorial Brief"
   ]
  },
  {
   "cell_type": "markdown",
   "metadata": {},
   "source": [
    "We will be using tweepy library to perform data mine on twitter.\n",
    "\n",
    "##Twitter API\n",
    "\n",
    "https://apps.twitter.com/\n",
    "\n",
    "###Topics:\n",
    "\n",
    "**Topic 1**: Register You App.\n",
    "\n",
    "**Topic 2**: Using REST API\n",
    "\n",
    "**Video Tutorial**:\n",
    "\n",
    "https://www.youtube.com/user/roshanRush"
   ]
  },
  {
   "cell_type": "markdown",
   "metadata": {},
   "source": [
    "# Import the library"
   ]
  },
  {
   "cell_type": "code",
   "execution_count": 1,
   "metadata": {
    "collapsed": false
   },
   "outputs": [],
   "source": [
    "import tweepy\n",
    "import pandas as pd\n",
    "import numpy as np\n",
    "%matplotlib inline\n",
    "import matplotlib.pyplot as plt\n",
    "\n",
    "pd.options.display.max_columns = 50\n",
    "pd.options.display.max_rows= 50\n",
    "pd.options.display.width= 120"
   ]
  },
  {
   "cell_type": "markdown",
   "metadata": {},
   "source": [
    "# Authentication"
   ]
  },
  {
   "cell_type": "code",
   "execution_count": 2,
   "metadata": {
    "collapsed": false
   },
   "outputs": [],
   "source": [
    "consumer_key = \"MYzZWA8BPDxrFxIk9g2XA\" # Use your own key. To get a key https://apps.twitter.com/\n",
    "consumer_secret = \"mRIq4GdmPm5rGrUeqBbTvjvZS5qH88pLhylBIaiEU\"\n",
    "\n",
    "auth = tweepy.OAuthHandler(consumer_key=consumer_key, consumer_secret=consumer_secret)\n",
    "\n",
    "api = tweepy.API(auth)"
   ]
  },
  {
   "cell_type": "markdown",
   "metadata": {},
   "source": [
    "# REST API"
   ]
  },
  {
   "cell_type": "markdown",
   "metadata": {},
   "source": [
    "## Searching for Tweets"
   ]
  },
  {
   "cell_type": "markdown",
   "metadata": {},
   "source": [
    "###`API.search(q[, lang][, locale][, rpp][, page][, since_id][, geocode][, show_user])`\n",
    "```\n",
    "\n",
    "    Returns tweets that match a specified query.\n",
    "    Parameters:\t\n",
    "\n",
    "        q – the search query string\n",
    "        lang – Restricts tweets to the given language, given by an ISO 639-1 code.\n",
    "        locale – Specify the language of the query you are sending. This is intended for language-specific clients and the default should work in the majority of cases.\n",
    "        rpp – The number of tweets to return per page, up to a max of 100.\n",
    "        page – The page number (starting at 1) to return, up to a max of roughly 1500 results (based on rpp * page.\n",
    "        geocode – Returns tweets by users located within a given radius of the given latitude/longitude. The location is preferentially taking from the Geotagging API, but will fall back to their Twitter profile. The parameter value is specified by “latitide,longitude,radius”, where radius units must be specified as either “mi” (miles) or “km” (kilometers). Note that you cannot use the near operator via the API to geocode arbitrary locations; however you can use this geocode parameter to search near geocodes directly.\n",
    "        show_user – When true, prepends “<user>:” to the beginning of the tweet. This is useful for readers that do not display Atom’s author field. The default is false.\n",
    "\n",
    "    Return type:\t\n",
    "\n",
    "    list of SearchResult objects\n",
    "```"
   ]
  },
  {
   "cell_type": "code",
   "execution_count": 5,
   "metadata": {
    "collapsed": false
   },
   "outputs": [],
   "source": [
    "results = api.search(q=\"Austin\")\n"
   ]
  },
  {
   "cell_type": "markdown",
   "metadata": {},
   "source": [
    "### Inspecting Results"
   ]
  },
  {
   "cell_type": "code",
   "execution_count": 6,
   "metadata": {
    "collapsed": false
   },
   "outputs": [
    {
     "data": {
      "text/plain": [
       "15"
      ]
     },
     "execution_count": 6,
     "metadata": {},
     "output_type": "execute_result"
    }
   ],
   "source": [
    "len(results)"
   ]
  },
  {
   "cell_type": "code",
   "execution_count": 7,
   "metadata": {
    "collapsed": false
   },
   "outputs": [
    {
     "name": "stdout",
     "output_type": "stream",
     "text": [
      "@jobsyellow - Jobs Yellow Pages (2016-05-03 01:43:58)\n",
      "TX JOB: Austin TX - Sales Engineer I CDK Data Services Inc. - Stability meets Agility. With... https://t.co/bdJP6Iyd6K #Austin,#TX,#jobs\n"
     ]
    }
   ],
   "source": [
    "def print_tweet(tweet):\n",
    "    print \"@%s - %s (%s)\" % (tweet.user.screen_name, tweet.user.name, tweet.created_at)\n",
    "    print tweet.text\n",
    "\n",
    "tweet=results[1]\n",
    "print_tweet(tweet)"
   ]
  },
  {
   "cell_type": "markdown",
   "metadata": {},
   "source": [
    "### Inspecting a Status Object"
   ]
  },
  {
   "cell_type": "code",
   "execution_count": 8,
   "metadata": {
    "collapsed": false
   },
   "outputs": [
    {
     "name": "stdout",
     "output_type": "stream",
     "text": [
      "author : User(follow_request_sent=None, has_extended_profile=False, profile_use_background_image=True, _json={u'follow_request_sent': None, u'has_extended_profile': False, u'profile_use_background_image': True, u'default_profile_image': False, u'id': 585697621, u'profile_background_image_url_https': u'https://abs.twimg.com/images/themes/theme1/bg.png', u'verified': False, u'profile_text_color': u'333333', u'profile_image_url_https': u'https://pbs.twimg.com/profile_images/721307680292282369/nesq2DPL_normal.jpg', u'profile_sidebar_fill_color': u'DDEEF6', u'entities': {u'description': {u'urls': []}}, u'followers_count': 281, u'profile_sidebar_border_color': u'C0DEED', u'id_str': u'585697621', u'profile_background_color': u'C0DEED', u'listed_count': 0, u'is_translation_enabled': False, u'utc_offset': -18000, u'statuses_count': 4615, u'description': u'', u'friends_count': 231, u'location': u'', u'profile_link_color': u'0084B4', u'profile_image_url': u'http://pbs.twimg.com/profile_images/721307680292282369/nesq2DPL_normal.jpg', u'following': None, u'geo_enabled': True, u'profile_banner_url': u'https://pbs.twimg.com/profile_banners/585697621/1460819656', u'profile_background_image_url': u'http://abs.twimg.com/images/themes/theme1/bg.png', u'screen_name': u'amberr_austin', u'lang': u'en', u'profile_background_tile': False, u'favourites_count': 510, u'name': u'.', u'notifications': None, u'url': None, u'created_at': u'Sun May 20 14:07:41 +0000 2012', u'contributors_enabled': False, u'time_zone': u'Central Time (US & Canada)', u'protected': False, u'default_profile': True, u'is_translator': False}, time_zone=u'Central Time (US & Canada)', id=585697621, _api=<tweepy.api.API object at 0x103bac190>, verified=False, profile_text_color=u'333333', profile_image_url_https=u'https://pbs.twimg.com/profile_images/721307680292282369/nesq2DPL_normal.jpg', profile_sidebar_fill_color=u'DDEEF6', is_translator=False, geo_enabled=True, entities={u'description': {u'urls': []}}, followers_count=281, protected=False, id_str=u'585697621', default_profile_image=False, listed_count=0, lang=u'en', utc_offset=-18000, statuses_count=4615, description=u'', friends_count=231, profile_link_color=u'0084B4', profile_image_url=u'http://pbs.twimg.com/profile_images/721307680292282369/nesq2DPL_normal.jpg', notifications=None, profile_background_image_url_https=u'https://abs.twimg.com/images/themes/theme1/bg.png', profile_background_color=u'C0DEED', profile_banner_url=u'https://pbs.twimg.com/profile_banners/585697621/1460819656', profile_background_image_url=u'http://abs.twimg.com/images/themes/theme1/bg.png', name=u'.', is_translation_enabled=False, profile_background_tile=False, favourites_count=510, screen_name=u'amberr_austin', url=None, created_at=datetime.datetime(2012, 5, 20, 14, 7, 41), contributors_enabled=False, location=u'', profile_sidebar_border_color=u'C0DEED', default_profile=True, following=False)\n",
      "contributors : None\n",
      "coordinates : None\n",
      "created_at : 2016-05-03 01:44:02\n",
      "destroy : <bound method Status.destroy of Status(contributors=None, truncated=False, text=u'k can like Austin wake up already or? \\U0001f612', is_quote_status=False, in_reply_to_status_id=None, id=727312730886123521, favorite_count=0, _api=<tweepy.api.API object at 0x103bac190>, author=User(follow_request_sent=None, has_extended_profile=False, profile_use_background_image=True, _json={u'follow_request_sent': None, u'has_extended_profile': False, u'profile_use_background_image': True, u'default_profile_image': False, u'id': 585697621, u'profile_background_image_url_https': u'https://abs.twimg.com/images/themes/theme1/bg.png', u'verified': False, u'profile_text_color': u'333333', u'profile_image_url_https': u'https://pbs.twimg.com/profile_images/721307680292282369/nesq2DPL_normal.jpg', u'profile_sidebar_fill_color': u'DDEEF6', u'entities': {u'description': {u'urls': []}}, u'followers_count': 281, u'profile_sidebar_border_color': u'C0DEED', u'id_str': u'585697621', u'profile_background_color': u'C0DEED', u'listed_count': 0, u'is_translation_enabled': False, u'utc_offset': -18000, u'statuses_count': 4615, u'description': u'', u'friends_count': 231, u'location': u'', u'profile_link_color': u'0084B4', u'profile_image_url': u'http://pbs.twimg.com/profile_images/721307680292282369/nesq2DPL_normal.jpg', u'following': None, u'geo_enabled': True, u'profile_banner_url': u'https://pbs.twimg.com/profile_banners/585697621/1460819656', u'profile_background_image_url': u'http://abs.twimg.com/images/themes/theme1/bg.png', u'screen_name': u'amberr_austin', u'lang': u'en', u'profile_background_tile': False, u'favourites_count': 510, u'name': u'.', u'notifications': None, u'url': None, u'created_at': u'Sun May 20 14:07:41 +0000 2012', u'contributors_enabled': False, u'time_zone': u'Central Time (US & Canada)', u'protected': False, u'default_profile': True, u'is_translator': False}, time_zone=u'Central Time (US & Canada)', id=585697621, _api=<tweepy.api.API object at 0x103bac190>, verified=False, profile_text_color=u'333333', profile_image_url_https=u'https://pbs.twimg.com/profile_images/721307680292282369/nesq2DPL_normal.jpg', profile_sidebar_fill_color=u'DDEEF6', is_translator=False, geo_enabled=True, entities={u'description': {u'urls': []}}, followers_count=281, protected=False, id_str=u'585697621', default_profile_image=False, listed_count=0, lang=u'en', utc_offset=-18000, statuses_count=4615, description=u'', friends_count=231, profile_link_color=u'0084B4', profile_image_url=u'http://pbs.twimg.com/profile_images/721307680292282369/nesq2DPL_normal.jpg', notifications=None, profile_background_image_url_https=u'https://abs.twimg.com/images/themes/theme1/bg.png', profile_background_color=u'C0DEED', profile_banner_url=u'https://pbs.twimg.com/profile_banners/585697621/1460819656', profile_background_image_url=u'http://abs.twimg.com/images/themes/theme1/bg.png', name=u'.', is_translation_enabled=False, profile_background_tile=False, favourites_count=510, screen_name=u'amberr_austin', url=None, created_at=datetime.datetime(2012, 5, 20, 14, 7, 41), contributors_enabled=False, location=u'', profile_sidebar_border_color=u'C0DEED', default_profile=True, following=False), _json={u'contributors': None, u'truncated': False, u'text': u'k can like Austin wake up already or? \\U0001f612', u'is_quote_status': False, u'in_reply_to_status_id': None, u'id': 727312730886123521, u'favorite_count': 0, u'entities': {u'symbols': [], u'user_mentions': [], u'hashtags': [], u'urls': []}, u'retweeted': False, u'coordinates': None, u'source': u'<a href=\"http://twitter.com/download/iphone\" rel=\"nofollow\">Twitter for iPhone</a>', u'in_reply_to_screen_name': None, u'in_reply_to_user_id': None, u'retweet_count': 0, u'id_str': u'727312730886123521', u'favorited': False, u'user': {u'follow_request_sent': None, u'has_extended_profile': False, u'profile_use_background_image': True, u'default_profile_image': False, u'id': 585697621, u'profile_background_image_url_https': u'https://abs.twimg.com/images/themes/theme1/bg.png', u'verified': False, u'profile_text_color': u'333333', u'profile_image_url_https': u'https://pbs.twimg.com/profile_images/721307680292282369/nesq2DPL_normal.jpg', u'profile_sidebar_fill_color': u'DDEEF6', u'entities': {u'description': {u'urls': []}}, u'followers_count': 281, u'profile_sidebar_border_color': u'C0DEED', u'id_str': u'585697621', u'profile_background_color': u'C0DEED', u'listed_count': 0, u'is_translation_enabled': False, u'utc_offset': -18000, u'statuses_count': 4615, u'description': u'', u'friends_count': 231, u'location': u'', u'profile_link_color': u'0084B4', u'profile_image_url': u'http://pbs.twimg.com/profile_images/721307680292282369/nesq2DPL_normal.jpg', u'following': None, u'geo_enabled': True, u'profile_banner_url': u'https://pbs.twimg.com/profile_banners/585697621/1460819656', u'profile_background_image_url': u'http://abs.twimg.com/images/themes/theme1/bg.png', u'screen_name': u'amberr_austin', u'lang': u'en', u'profile_background_tile': False, u'favourites_count': 510, u'name': u'.', u'notifications': None, u'url': None, u'created_at': u'Sun May 20 14:07:41 +0000 2012', u'contributors_enabled': False, u'time_zone': u'Central Time (US & Canada)', u'protected': False, u'default_profile': True, u'is_translator': False}, u'geo': None, u'in_reply_to_user_id_str': None, u'lang': u'en', u'created_at': u'Tue May 03 01:44:02 +0000 2016', u'in_reply_to_status_id_str': None, u'place': None, u'metadata': {u'iso_language_code': u'en', u'result_type': u'recent'}}, coordinates=None, entities={u'symbols': [], u'user_mentions': [], u'hashtags': [], u'urls': []}, in_reply_to_screen_name=None, id_str=u'727312730886123521', retweet_count=0, in_reply_to_user_id=None, favorited=False, source_url=u'http://twitter.com/download/iphone', user=User(follow_request_sent=None, has_extended_profile=False, profile_use_background_image=True, _json={u'follow_request_sent': None, u'has_extended_profile': False, u'profile_use_background_image': True, u'default_profile_image': False, u'id': 585697621, u'profile_background_image_url_https': u'https://abs.twimg.com/images/themes/theme1/bg.png', u'verified': False, u'profile_text_color': u'333333', u'profile_image_url_https': u'https://pbs.twimg.com/profile_images/721307680292282369/nesq2DPL_normal.jpg', u'profile_sidebar_fill_color': u'DDEEF6', u'entities': {u'description': {u'urls': []}}, u'followers_count': 281, u'profile_sidebar_border_color': u'C0DEED', u'id_str': u'585697621', u'profile_background_color': u'C0DEED', u'listed_count': 0, u'is_translation_enabled': False, u'utc_offset': -18000, u'statuses_count': 4615, u'description': u'', u'friends_count': 231, u'location': u'', u'profile_link_color': u'0084B4', u'profile_image_url': u'http://pbs.twimg.com/profile_images/721307680292282369/nesq2DPL_normal.jpg', u'following': None, u'geo_enabled': True, u'profile_banner_url': u'https://pbs.twimg.com/profile_banners/585697621/1460819656', u'profile_background_image_url': u'http://abs.twimg.com/images/themes/theme1/bg.png', u'screen_name': u'amberr_austin', u'lang': u'en', u'profile_background_tile': False, u'favourites_count': 510, u'name': u'.', u'notifications': None, u'url': None, u'created_at': u'Sun May 20 14:07:41 +0000 2012', u'contributors_enabled': False, u'time_zone': u'Central Time (US & Canada)', u'protected': False, u'default_profile': True, u'is_translator': False}, time_zone=u'Central Time (US & Canada)', id=585697621, _api=<tweepy.api.API object at 0x103bac190>, verified=False, profile_text_color=u'333333', profile_image_url_https=u'https://pbs.twimg.com/profile_images/721307680292282369/nesq2DPL_normal.jpg', profile_sidebar_fill_color=u'DDEEF6', is_translator=False, geo_enabled=True, entities={u'description': {u'urls': []}}, followers_count=281, protected=False, id_str=u'585697621', default_profile_image=False, listed_count=0, lang=u'en', utc_offset=-18000, statuses_count=4615, description=u'', friends_count=231, profile_link_color=u'0084B4', profile_image_url=u'http://pbs.twimg.com/profile_images/721307680292282369/nesq2DPL_normal.jpg', notifications=None, profile_background_image_url_https=u'https://abs.twimg.com/images/themes/theme1/bg.png', profile_background_color=u'C0DEED', profile_banner_url=u'https://pbs.twimg.com/profile_banners/585697621/1460819656', profile_background_image_url=u'http://abs.twimg.com/images/themes/theme1/bg.png', name=u'.', is_translation_enabled=False, profile_background_tile=False, favourites_count=510, screen_name=u'amberr_austin', url=None, created_at=datetime.datetime(2012, 5, 20, 14, 7, 41), contributors_enabled=False, location=u'', profile_sidebar_border_color=u'C0DEED', default_profile=True, following=False), geo=None, in_reply_to_user_id_str=None, lang=u'en', created_at=datetime.datetime(2016, 5, 3, 1, 44, 2), in_reply_to_status_id_str=None, place=None, source=u'Twitter for iPhone', retweeted=False, metadata={u'iso_language_code': u'en', u'result_type': u'recent'})>\n",
      "entities : {u'symbols': [], u'user_mentions': [], u'hashtags': [], u'urls': []}\n",
      "favorite : <bound method Status.favorite of Status(contributors=None, truncated=False, text=u'k can like Austin wake up already or? \\U0001f612', is_quote_status=False, in_reply_to_status_id=None, id=727312730886123521, favorite_count=0, _api=<tweepy.api.API object at 0x103bac190>, author=User(follow_request_sent=None, has_extended_profile=False, profile_use_background_image=True, _json={u'follow_request_sent': None, u'has_extended_profile': False, u'profile_use_background_image': True, u'default_profile_image': False, u'id': 585697621, u'profile_background_image_url_https': u'https://abs.twimg.com/images/themes/theme1/bg.png', u'verified': False, u'profile_text_color': u'333333', u'profile_image_url_https': u'https://pbs.twimg.com/profile_images/721307680292282369/nesq2DPL_normal.jpg', u'profile_sidebar_fill_color': u'DDEEF6', u'entities': {u'description': {u'urls': []}}, u'followers_count': 281, u'profile_sidebar_border_color': u'C0DEED', u'id_str': u'585697621', u'profile_background_color': u'C0DEED', u'listed_count': 0, u'is_translation_enabled': False, u'utc_offset': -18000, u'statuses_count': 4615, u'description': u'', u'friends_count': 231, u'location': u'', u'profile_link_color': u'0084B4', u'profile_image_url': u'http://pbs.twimg.com/profile_images/721307680292282369/nesq2DPL_normal.jpg', u'following': None, u'geo_enabled': True, u'profile_banner_url': u'https://pbs.twimg.com/profile_banners/585697621/1460819656', u'profile_background_image_url': u'http://abs.twimg.com/images/themes/theme1/bg.png', u'screen_name': u'amberr_austin', u'lang': u'en', u'profile_background_tile': False, u'favourites_count': 510, u'name': u'.', u'notifications': None, u'url': None, u'created_at': u'Sun May 20 14:07:41 +0000 2012', u'contributors_enabled': False, u'time_zone': u'Central Time (US & Canada)', u'protected': False, u'default_profile': True, u'is_translator': False}, time_zone=u'Central Time (US & Canada)', id=585697621, _api=<tweepy.api.API object at 0x103bac190>, verified=False, profile_text_color=u'333333', profile_image_url_https=u'https://pbs.twimg.com/profile_images/721307680292282369/nesq2DPL_normal.jpg', profile_sidebar_fill_color=u'DDEEF6', is_translator=False, geo_enabled=True, entities={u'description': {u'urls': []}}, followers_count=281, protected=False, id_str=u'585697621', default_profile_image=False, listed_count=0, lang=u'en', utc_offset=-18000, statuses_count=4615, description=u'', friends_count=231, profile_link_color=u'0084B4', profile_image_url=u'http://pbs.twimg.com/profile_images/721307680292282369/nesq2DPL_normal.jpg', notifications=None, profile_background_image_url_https=u'https://abs.twimg.com/images/themes/theme1/bg.png', profile_background_color=u'C0DEED', profile_banner_url=u'https://pbs.twimg.com/profile_banners/585697621/1460819656', profile_background_image_url=u'http://abs.twimg.com/images/themes/theme1/bg.png', name=u'.', is_translation_enabled=False, profile_background_tile=False, favourites_count=510, screen_name=u'amberr_austin', url=None, created_at=datetime.datetime(2012, 5, 20, 14, 7, 41), contributors_enabled=False, location=u'', profile_sidebar_border_color=u'C0DEED', default_profile=True, following=False), _json={u'contributors': None, u'truncated': False, u'text': u'k can like Austin wake up already or? \\U0001f612', u'is_quote_status': False, u'in_reply_to_status_id': None, u'id': 727312730886123521, u'favorite_count': 0, u'entities': {u'symbols': [], u'user_mentions': [], u'hashtags': [], u'urls': []}, u'retweeted': False, u'coordinates': None, u'source': u'<a href=\"http://twitter.com/download/iphone\" rel=\"nofollow\">Twitter for iPhone</a>', u'in_reply_to_screen_name': None, u'in_reply_to_user_id': None, u'retweet_count': 0, u'id_str': u'727312730886123521', u'favorited': False, u'user': {u'follow_request_sent': None, u'has_extended_profile': False, u'profile_use_background_image': True, u'default_profile_image': False, u'id': 585697621, u'profile_background_image_url_https': u'https://abs.twimg.com/images/themes/theme1/bg.png', u'verified': False, u'profile_text_color': u'333333', u'profile_image_url_https': u'https://pbs.twimg.com/profile_images/721307680292282369/nesq2DPL_normal.jpg', u'profile_sidebar_fill_color': u'DDEEF6', u'entities': {u'description': {u'urls': []}}, u'followers_count': 281, u'profile_sidebar_border_color': u'C0DEED', u'id_str': u'585697621', u'profile_background_color': u'C0DEED', u'listed_count': 0, u'is_translation_enabled': False, u'utc_offset': -18000, u'statuses_count': 4615, u'description': u'', u'friends_count': 231, u'location': u'', u'profile_link_color': u'0084B4', u'profile_image_url': u'http://pbs.twimg.com/profile_images/721307680292282369/nesq2DPL_normal.jpg', u'following': None, u'geo_enabled': True, u'profile_banner_url': u'https://pbs.twimg.com/profile_banners/585697621/1460819656', u'profile_background_image_url': u'http://abs.twimg.com/images/themes/theme1/bg.png', u'screen_name': u'amberr_austin', u'lang': u'en', u'profile_background_tile': False, u'favourites_count': 510, u'name': u'.', u'notifications': None, u'url': None, u'created_at': u'Sun May 20 14:07:41 +0000 2012', u'contributors_enabled': False, u'time_zone': u'Central Time (US & Canada)', u'protected': False, u'default_profile': True, u'is_translator': False}, u'geo': None, u'in_reply_to_user_id_str': None, u'lang': u'en', u'created_at': u'Tue May 03 01:44:02 +0000 2016', u'in_reply_to_status_id_str': None, u'place': None, u'metadata': {u'iso_language_code': u'en', u'result_type': u'recent'}}, coordinates=None, entities={u'symbols': [], u'user_mentions': [], u'hashtags': [], u'urls': []}, in_reply_to_screen_name=None, id_str=u'727312730886123521', retweet_count=0, in_reply_to_user_id=None, favorited=False, source_url=u'http://twitter.com/download/iphone', user=User(follow_request_sent=None, has_extended_profile=False, profile_use_background_image=True, _json={u'follow_request_sent': None, u'has_extended_profile': False, u'profile_use_background_image': True, u'default_profile_image': False, u'id': 585697621, u'profile_background_image_url_https': u'https://abs.twimg.com/images/themes/theme1/bg.png', u'verified': False, u'profile_text_color': u'333333', u'profile_image_url_https': u'https://pbs.twimg.com/profile_images/721307680292282369/nesq2DPL_normal.jpg', u'profile_sidebar_fill_color': u'DDEEF6', u'entities': {u'description': {u'urls': []}}, u'followers_count': 281, u'profile_sidebar_border_color': u'C0DEED', u'id_str': u'585697621', u'profile_background_color': u'C0DEED', u'listed_count': 0, u'is_translation_enabled': False, u'utc_offset': -18000, u'statuses_count': 4615, u'description': u'', u'friends_count': 231, u'location': u'', u'profile_link_color': u'0084B4', u'profile_image_url': u'http://pbs.twimg.com/profile_images/721307680292282369/nesq2DPL_normal.jpg', u'following': None, u'geo_enabled': True, u'profile_banner_url': u'https://pbs.twimg.com/profile_banners/585697621/1460819656', u'profile_background_image_url': u'http://abs.twimg.com/images/themes/theme1/bg.png', u'screen_name': u'amberr_austin', u'lang': u'en', u'profile_background_tile': False, u'favourites_count': 510, u'name': u'.', u'notifications': None, u'url': None, u'created_at': u'Sun May 20 14:07:41 +0000 2012', u'contributors_enabled': False, u'time_zone': u'Central Time (US & Canada)', u'protected': False, u'default_profile': True, u'is_translator': False}, time_zone=u'Central Time (US & Canada)', id=585697621, _api=<tweepy.api.API object at 0x103bac190>, verified=False, profile_text_color=u'333333', profile_image_url_https=u'https://pbs.twimg.com/profile_images/721307680292282369/nesq2DPL_normal.jpg', profile_sidebar_fill_color=u'DDEEF6', is_translator=False, geo_enabled=True, entities={u'description': {u'urls': []}}, followers_count=281, protected=False, id_str=u'585697621', default_profile_image=False, listed_count=0, lang=u'en', utc_offset=-18000, statuses_count=4615, description=u'', friends_count=231, profile_link_color=u'0084B4', profile_image_url=u'http://pbs.twimg.com/profile_images/721307680292282369/nesq2DPL_normal.jpg', notifications=None, profile_background_image_url_https=u'https://abs.twimg.com/images/themes/theme1/bg.png', profile_background_color=u'C0DEED', profile_banner_url=u'https://pbs.twimg.com/profile_banners/585697621/1460819656', profile_background_image_url=u'http://abs.twimg.com/images/themes/theme1/bg.png', name=u'.', is_translation_enabled=False, profile_background_tile=False, favourites_count=510, screen_name=u'amberr_austin', url=None, created_at=datetime.datetime(2012, 5, 20, 14, 7, 41), contributors_enabled=False, location=u'', profile_sidebar_border_color=u'C0DEED', default_profile=True, following=False), geo=None, in_reply_to_user_id_str=None, lang=u'en', created_at=datetime.datetime(2016, 5, 3, 1, 44, 2), in_reply_to_status_id_str=None, place=None, source=u'Twitter for iPhone', retweeted=False, metadata={u'iso_language_code': u'en', u'result_type': u'recent'})>\n",
      "favorite_count : 0\n",
      "favorited : False\n",
      "geo : None\n",
      "id : 727312730886123521\n",
      "id_str : 727312730886123521\n",
      "in_reply_to_screen_name : None\n",
      "in_reply_to_status_id : None\n",
      "in_reply_to_status_id_str : None\n",
      "in_reply_to_user_id : None\n",
      "in_reply_to_user_id_str : None\n",
      "is_quote_status : False\n",
      "lang : en\n",
      "metadata : {u'iso_language_code': u'en', u'result_type': u'recent'}\n",
      "parse : <bound method type.parse of <class 'tweepy.models.Status'>>\n",
      "parse_list : <bound method type.parse_list of <class 'tweepy.models.Status'>>\n",
      "place : None\n",
      "retweet : <bound method Status.retweet of Status(contributors=None, truncated=False, text=u'k can like Austin wake up already or? \\U0001f612', is_quote_status=False, in_reply_to_status_id=None, id=727312730886123521, favorite_count=0, _api=<tweepy.api.API object at 0x103bac190>, author=User(follow_request_sent=None, has_extended_profile=False, profile_use_background_image=True, _json={u'follow_request_sent': None, u'has_extended_profile': False, u'profile_use_background_image': True, u'default_profile_image': False, u'id': 585697621, u'profile_background_image_url_https': u'https://abs.twimg.com/images/themes/theme1/bg.png', u'verified': False, u'profile_text_color': u'333333', u'profile_image_url_https': u'https://pbs.twimg.com/profile_images/721307680292282369/nesq2DPL_normal.jpg', u'profile_sidebar_fill_color': u'DDEEF6', u'entities': {u'description': {u'urls': []}}, u'followers_count': 281, u'profile_sidebar_border_color': u'C0DEED', u'id_str': u'585697621', u'profile_background_color': u'C0DEED', u'listed_count': 0, u'is_translation_enabled': False, u'utc_offset': -18000, u'statuses_count': 4615, u'description': u'', u'friends_count': 231, u'location': u'', u'profile_link_color': u'0084B4', u'profile_image_url': u'http://pbs.twimg.com/profile_images/721307680292282369/nesq2DPL_normal.jpg', u'following': None, u'geo_enabled': True, u'profile_banner_url': u'https://pbs.twimg.com/profile_banners/585697621/1460819656', u'profile_background_image_url': u'http://abs.twimg.com/images/themes/theme1/bg.png', u'screen_name': u'amberr_austin', u'lang': u'en', u'profile_background_tile': False, u'favourites_count': 510, u'name': u'.', u'notifications': None, u'url': None, u'created_at': u'Sun May 20 14:07:41 +0000 2012', u'contributors_enabled': False, u'time_zone': u'Central Time (US & Canada)', u'protected': False, u'default_profile': True, u'is_translator': False}, time_zone=u'Central Time (US & Canada)', id=585697621, _api=<tweepy.api.API object at 0x103bac190>, verified=False, profile_text_color=u'333333', profile_image_url_https=u'https://pbs.twimg.com/profile_images/721307680292282369/nesq2DPL_normal.jpg', profile_sidebar_fill_color=u'DDEEF6', is_translator=False, geo_enabled=True, entities={u'description': {u'urls': []}}, followers_count=281, protected=False, id_str=u'585697621', default_profile_image=False, listed_count=0, lang=u'en', utc_offset=-18000, statuses_count=4615, description=u'', friends_count=231, profile_link_color=u'0084B4', profile_image_url=u'http://pbs.twimg.com/profile_images/721307680292282369/nesq2DPL_normal.jpg', notifications=None, profile_background_image_url_https=u'https://abs.twimg.com/images/themes/theme1/bg.png', profile_background_color=u'C0DEED', profile_banner_url=u'https://pbs.twimg.com/profile_banners/585697621/1460819656', profile_background_image_url=u'http://abs.twimg.com/images/themes/theme1/bg.png', name=u'.', is_translation_enabled=False, profile_background_tile=False, favourites_count=510, screen_name=u'amberr_austin', url=None, created_at=datetime.datetime(2012, 5, 20, 14, 7, 41), contributors_enabled=False, location=u'', profile_sidebar_border_color=u'C0DEED', default_profile=True, following=False), _json={u'contributors': None, u'truncated': False, u'text': u'k can like Austin wake up already or? \\U0001f612', u'is_quote_status': False, u'in_reply_to_status_id': None, u'id': 727312730886123521, u'favorite_count': 0, u'entities': {u'symbols': [], u'user_mentions': [], u'hashtags': [], u'urls': []}, u'retweeted': False, u'coordinates': None, u'source': u'<a href=\"http://twitter.com/download/iphone\" rel=\"nofollow\">Twitter for iPhone</a>', u'in_reply_to_screen_name': None, u'in_reply_to_user_id': None, u'retweet_count': 0, u'id_str': u'727312730886123521', u'favorited': False, u'user': {u'follow_request_sent': None, u'has_extended_profile': False, u'profile_use_background_image': True, u'default_profile_image': False, u'id': 585697621, u'profile_background_image_url_https': u'https://abs.twimg.com/images/themes/theme1/bg.png', u'verified': False, u'profile_text_color': u'333333', u'profile_image_url_https': u'https://pbs.twimg.com/profile_images/721307680292282369/nesq2DPL_normal.jpg', u'profile_sidebar_fill_color': u'DDEEF6', u'entities': {u'description': {u'urls': []}}, u'followers_count': 281, u'profile_sidebar_border_color': u'C0DEED', u'id_str': u'585697621', u'profile_background_color': u'C0DEED', u'listed_count': 0, u'is_translation_enabled': False, u'utc_offset': -18000, u'statuses_count': 4615, u'description': u'', u'friends_count': 231, u'location': u'', u'profile_link_color': u'0084B4', u'profile_image_url': u'http://pbs.twimg.com/profile_images/721307680292282369/nesq2DPL_normal.jpg', u'following': None, u'geo_enabled': True, u'profile_banner_url': u'https://pbs.twimg.com/profile_banners/585697621/1460819656', u'profile_background_image_url': u'http://abs.twimg.com/images/themes/theme1/bg.png', u'screen_name': u'amberr_austin', u'lang': u'en', u'profile_background_tile': False, u'favourites_count': 510, u'name': u'.', u'notifications': None, u'url': None, u'created_at': u'Sun May 20 14:07:41 +0000 2012', u'contributors_enabled': False, u'time_zone': u'Central Time (US & Canada)', u'protected': False, u'default_profile': True, u'is_translator': False}, u'geo': None, u'in_reply_to_user_id_str': None, u'lang': u'en', u'created_at': u'Tue May 03 01:44:02 +0000 2016', u'in_reply_to_status_id_str': None, u'place': None, u'metadata': {u'iso_language_code': u'en', u'result_type': u'recent'}}, coordinates=None, entities={u'symbols': [], u'user_mentions': [], u'hashtags': [], u'urls': []}, in_reply_to_screen_name=None, id_str=u'727312730886123521', retweet_count=0, in_reply_to_user_id=None, favorited=False, source_url=u'http://twitter.com/download/iphone', user=User(follow_request_sent=None, has_extended_profile=False, profile_use_background_image=True, _json={u'follow_request_sent': None, u'has_extended_profile': False, u'profile_use_background_image': True, u'default_profile_image': False, u'id': 585697621, u'profile_background_image_url_https': u'https://abs.twimg.com/images/themes/theme1/bg.png', u'verified': False, u'profile_text_color': u'333333', u'profile_image_url_https': u'https://pbs.twimg.com/profile_images/721307680292282369/nesq2DPL_normal.jpg', u'profile_sidebar_fill_color': u'DDEEF6', u'entities': {u'description': {u'urls': []}}, u'followers_count': 281, u'profile_sidebar_border_color': u'C0DEED', u'id_str': u'585697621', u'profile_background_color': u'C0DEED', u'listed_count': 0, u'is_translation_enabled': False, u'utc_offset': -18000, u'statuses_count': 4615, u'description': u'', u'friends_count': 231, u'location': u'', u'profile_link_color': u'0084B4', u'profile_image_url': u'http://pbs.twimg.com/profile_images/721307680292282369/nesq2DPL_normal.jpg', u'following': None, u'geo_enabled': True, u'profile_banner_url': u'https://pbs.twimg.com/profile_banners/585697621/1460819656', u'profile_background_image_url': u'http://abs.twimg.com/images/themes/theme1/bg.png', u'screen_name': u'amberr_austin', u'lang': u'en', u'profile_background_tile': False, u'favourites_count': 510, u'name': u'.', u'notifications': None, u'url': None, u'created_at': u'Sun May 20 14:07:41 +0000 2012', u'contributors_enabled': False, u'time_zone': u'Central Time (US & Canada)', u'protected': False, u'default_profile': True, u'is_translator': False}, time_zone=u'Central Time (US & Canada)', id=585697621, _api=<tweepy.api.API object at 0x103bac190>, verified=False, profile_text_color=u'333333', profile_image_url_https=u'https://pbs.twimg.com/profile_images/721307680292282369/nesq2DPL_normal.jpg', profile_sidebar_fill_color=u'DDEEF6', is_translator=False, geo_enabled=True, entities={u'description': {u'urls': []}}, followers_count=281, protected=False, id_str=u'585697621', default_profile_image=False, listed_count=0, lang=u'en', utc_offset=-18000, statuses_count=4615, description=u'', friends_count=231, profile_link_color=u'0084B4', profile_image_url=u'http://pbs.twimg.com/profile_images/721307680292282369/nesq2DPL_normal.jpg', notifications=None, profile_background_image_url_https=u'https://abs.twimg.com/images/themes/theme1/bg.png', profile_background_color=u'C0DEED', profile_banner_url=u'https://pbs.twimg.com/profile_banners/585697621/1460819656', profile_background_image_url=u'http://abs.twimg.com/images/themes/theme1/bg.png', name=u'.', is_translation_enabled=False, profile_background_tile=False, favourites_count=510, screen_name=u'amberr_austin', url=None, created_at=datetime.datetime(2012, 5, 20, 14, 7, 41), contributors_enabled=False, location=u'', profile_sidebar_border_color=u'C0DEED', default_profile=True, following=False), geo=None, in_reply_to_user_id_str=None, lang=u'en', created_at=datetime.datetime(2016, 5, 3, 1, 44, 2), in_reply_to_status_id_str=None, place=None, source=u'Twitter for iPhone', retweeted=False, metadata={u'iso_language_code': u'en', u'result_type': u'recent'})>\n",
      "retweet_count : 0\n",
      "retweeted : False\n",
      "retweets : <bound method Status.retweets of Status(contributors=None, truncated=False, text=u'k can like Austin wake up already or? \\U0001f612', is_quote_status=False, in_reply_to_status_id=None, id=727312730886123521, favorite_count=0, _api=<tweepy.api.API object at 0x103bac190>, author=User(follow_request_sent=None, has_extended_profile=False, profile_use_background_image=True, _json={u'follow_request_sent': None, u'has_extended_profile': False, u'profile_use_background_image': True, u'default_profile_image': False, u'id': 585697621, u'profile_background_image_url_https': u'https://abs.twimg.com/images/themes/theme1/bg.png', u'verified': False, u'profile_text_color': u'333333', u'profile_image_url_https': u'https://pbs.twimg.com/profile_images/721307680292282369/nesq2DPL_normal.jpg', u'profile_sidebar_fill_color': u'DDEEF6', u'entities': {u'description': {u'urls': []}}, u'followers_count': 281, u'profile_sidebar_border_color': u'C0DEED', u'id_str': u'585697621', u'profile_background_color': u'C0DEED', u'listed_count': 0, u'is_translation_enabled': False, u'utc_offset': -18000, u'statuses_count': 4615, u'description': u'', u'friends_count': 231, u'location': u'', u'profile_link_color': u'0084B4', u'profile_image_url': u'http://pbs.twimg.com/profile_images/721307680292282369/nesq2DPL_normal.jpg', u'following': None, u'geo_enabled': True, u'profile_banner_url': u'https://pbs.twimg.com/profile_banners/585697621/1460819656', u'profile_background_image_url': u'http://abs.twimg.com/images/themes/theme1/bg.png', u'screen_name': u'amberr_austin', u'lang': u'en', u'profile_background_tile': False, u'favourites_count': 510, u'name': u'.', u'notifications': None, u'url': None, u'created_at': u'Sun May 20 14:07:41 +0000 2012', u'contributors_enabled': False, u'time_zone': u'Central Time (US & Canada)', u'protected': False, u'default_profile': True, u'is_translator': False}, time_zone=u'Central Time (US & Canada)', id=585697621, _api=<tweepy.api.API object at 0x103bac190>, verified=False, profile_text_color=u'333333', profile_image_url_https=u'https://pbs.twimg.com/profile_images/721307680292282369/nesq2DPL_normal.jpg', profile_sidebar_fill_color=u'DDEEF6', is_translator=False, geo_enabled=True, entities={u'description': {u'urls': []}}, followers_count=281, protected=False, id_str=u'585697621', default_profile_image=False, listed_count=0, lang=u'en', utc_offset=-18000, statuses_count=4615, description=u'', friends_count=231, profile_link_color=u'0084B4', profile_image_url=u'http://pbs.twimg.com/profile_images/721307680292282369/nesq2DPL_normal.jpg', notifications=None, profile_background_image_url_https=u'https://abs.twimg.com/images/themes/theme1/bg.png', profile_background_color=u'C0DEED', profile_banner_url=u'https://pbs.twimg.com/profile_banners/585697621/1460819656', profile_background_image_url=u'http://abs.twimg.com/images/themes/theme1/bg.png', name=u'.', is_translation_enabled=False, profile_background_tile=False, favourites_count=510, screen_name=u'amberr_austin', url=None, created_at=datetime.datetime(2012, 5, 20, 14, 7, 41), contributors_enabled=False, location=u'', profile_sidebar_border_color=u'C0DEED', default_profile=True, following=False), _json={u'contributors': None, u'truncated': False, u'text': u'k can like Austin wake up already or? \\U0001f612', u'is_quote_status': False, u'in_reply_to_status_id': None, u'id': 727312730886123521, u'favorite_count': 0, u'entities': {u'symbols': [], u'user_mentions': [], u'hashtags': [], u'urls': []}, u'retweeted': False, u'coordinates': None, u'source': u'<a href=\"http://twitter.com/download/iphone\" rel=\"nofollow\">Twitter for iPhone</a>', u'in_reply_to_screen_name': None, u'in_reply_to_user_id': None, u'retweet_count': 0, u'id_str': u'727312730886123521', u'favorited': False, u'user': {u'follow_request_sent': None, u'has_extended_profile': False, u'profile_use_background_image': True, u'default_profile_image': False, u'id': 585697621, u'profile_background_image_url_https': u'https://abs.twimg.com/images/themes/theme1/bg.png', u'verified': False, u'profile_text_color': u'333333', u'profile_image_url_https': u'https://pbs.twimg.com/profile_images/721307680292282369/nesq2DPL_normal.jpg', u'profile_sidebar_fill_color': u'DDEEF6', u'entities': {u'description': {u'urls': []}}, u'followers_count': 281, u'profile_sidebar_border_color': u'C0DEED', u'id_str': u'585697621', u'profile_background_color': u'C0DEED', u'listed_count': 0, u'is_translation_enabled': False, u'utc_offset': -18000, u'statuses_count': 4615, u'description': u'', u'friends_count': 231, u'location': u'', u'profile_link_color': u'0084B4', u'profile_image_url': u'http://pbs.twimg.com/profile_images/721307680292282369/nesq2DPL_normal.jpg', u'following': None, u'geo_enabled': True, u'profile_banner_url': u'https://pbs.twimg.com/profile_banners/585697621/1460819656', u'profile_background_image_url': u'http://abs.twimg.com/images/themes/theme1/bg.png', u'screen_name': u'amberr_austin', u'lang': u'en', u'profile_background_tile': False, u'favourites_count': 510, u'name': u'.', u'notifications': None, u'url': None, u'created_at': u'Sun May 20 14:07:41 +0000 2012', u'contributors_enabled': False, u'time_zone': u'Central Time (US & Canada)', u'protected': False, u'default_profile': True, u'is_translator': False}, u'geo': None, u'in_reply_to_user_id_str': None, u'lang': u'en', u'created_at': u'Tue May 03 01:44:02 +0000 2016', u'in_reply_to_status_id_str': None, u'place': None, u'metadata': {u'iso_language_code': u'en', u'result_type': u'recent'}}, coordinates=None, entities={u'symbols': [], u'user_mentions': [], u'hashtags': [], u'urls': []}, in_reply_to_screen_name=None, id_str=u'727312730886123521', retweet_count=0, in_reply_to_user_id=None, favorited=False, source_url=u'http://twitter.com/download/iphone', user=User(follow_request_sent=None, has_extended_profile=False, profile_use_background_image=True, _json={u'follow_request_sent': None, u'has_extended_profile': False, u'profile_use_background_image': True, u'default_profile_image': False, u'id': 585697621, u'profile_background_image_url_https': u'https://abs.twimg.com/images/themes/theme1/bg.png', u'verified': False, u'profile_text_color': u'333333', u'profile_image_url_https': u'https://pbs.twimg.com/profile_images/721307680292282369/nesq2DPL_normal.jpg', u'profile_sidebar_fill_color': u'DDEEF6', u'entities': {u'description': {u'urls': []}}, u'followers_count': 281, u'profile_sidebar_border_color': u'C0DEED', u'id_str': u'585697621', u'profile_background_color': u'C0DEED', u'listed_count': 0, u'is_translation_enabled': False, u'utc_offset': -18000, u'statuses_count': 4615, u'description': u'', u'friends_count': 231, u'location': u'', u'profile_link_color': u'0084B4', u'profile_image_url': u'http://pbs.twimg.com/profile_images/721307680292282369/nesq2DPL_normal.jpg', u'following': None, u'geo_enabled': True, u'profile_banner_url': u'https://pbs.twimg.com/profile_banners/585697621/1460819656', u'profile_background_image_url': u'http://abs.twimg.com/images/themes/theme1/bg.png', u'screen_name': u'amberr_austin', u'lang': u'en', u'profile_background_tile': False, u'favourites_count': 510, u'name': u'.', u'notifications': None, u'url': None, u'created_at': u'Sun May 20 14:07:41 +0000 2012', u'contributors_enabled': False, u'time_zone': u'Central Time (US & Canada)', u'protected': False, u'default_profile': True, u'is_translator': False}, time_zone=u'Central Time (US & Canada)', id=585697621, _api=<tweepy.api.API object at 0x103bac190>, verified=False, profile_text_color=u'333333', profile_image_url_https=u'https://pbs.twimg.com/profile_images/721307680292282369/nesq2DPL_normal.jpg', profile_sidebar_fill_color=u'DDEEF6', is_translator=False, geo_enabled=True, entities={u'description': {u'urls': []}}, followers_count=281, protected=False, id_str=u'585697621', default_profile_image=False, listed_count=0, lang=u'en', utc_offset=-18000, statuses_count=4615, description=u'', friends_count=231, profile_link_color=u'0084B4', profile_image_url=u'http://pbs.twimg.com/profile_images/721307680292282369/nesq2DPL_normal.jpg', notifications=None, profile_background_image_url_https=u'https://abs.twimg.com/images/themes/theme1/bg.png', profile_background_color=u'C0DEED', profile_banner_url=u'https://pbs.twimg.com/profile_banners/585697621/1460819656', profile_background_image_url=u'http://abs.twimg.com/images/themes/theme1/bg.png', name=u'.', is_translation_enabled=False, profile_background_tile=False, favourites_count=510, screen_name=u'amberr_austin', url=None, created_at=datetime.datetime(2012, 5, 20, 14, 7, 41), contributors_enabled=False, location=u'', profile_sidebar_border_color=u'C0DEED', default_profile=True, following=False), geo=None, in_reply_to_user_id_str=None, lang=u'en', created_at=datetime.datetime(2016, 5, 3, 1, 44, 2), in_reply_to_status_id_str=None, place=None, source=u'Twitter for iPhone', retweeted=False, metadata={u'iso_language_code': u'en', u'result_type': u'recent'})>\n",
      "source : Twitter for iPhone\n",
      "source_url : http://twitter.com/download/iphone\n",
      "text : k can like Austin wake up already or? 😒\n",
      "truncated : False\n",
      "user : User(follow_request_sent=None, has_extended_profile=False, profile_use_background_image=True, _json={u'follow_request_sent': None, u'has_extended_profile': False, u'profile_use_background_image': True, u'default_profile_image': False, u'id': 585697621, u'profile_background_image_url_https': u'https://abs.twimg.com/images/themes/theme1/bg.png', u'verified': False, u'profile_text_color': u'333333', u'profile_image_url_https': u'https://pbs.twimg.com/profile_images/721307680292282369/nesq2DPL_normal.jpg', u'profile_sidebar_fill_color': u'DDEEF6', u'entities': {u'description': {u'urls': []}}, u'followers_count': 281, u'profile_sidebar_border_color': u'C0DEED', u'id_str': u'585697621', u'profile_background_color': u'C0DEED', u'listed_count': 0, u'is_translation_enabled': False, u'utc_offset': -18000, u'statuses_count': 4615, u'description': u'', u'friends_count': 231, u'location': u'', u'profile_link_color': u'0084B4', u'profile_image_url': u'http://pbs.twimg.com/profile_images/721307680292282369/nesq2DPL_normal.jpg', u'following': None, u'geo_enabled': True, u'profile_banner_url': u'https://pbs.twimg.com/profile_banners/585697621/1460819656', u'profile_background_image_url': u'http://abs.twimg.com/images/themes/theme1/bg.png', u'screen_name': u'amberr_austin', u'lang': u'en', u'profile_background_tile': False, u'favourites_count': 510, u'name': u'.', u'notifications': None, u'url': None, u'created_at': u'Sun May 20 14:07:41 +0000 2012', u'contributors_enabled': False, u'time_zone': u'Central Time (US & Canada)', u'protected': False, u'default_profile': True, u'is_translator': False}, time_zone=u'Central Time (US & Canada)', id=585697621, _api=<tweepy.api.API object at 0x103bac190>, verified=False, profile_text_color=u'333333', profile_image_url_https=u'https://pbs.twimg.com/profile_images/721307680292282369/nesq2DPL_normal.jpg', profile_sidebar_fill_color=u'DDEEF6', is_translator=False, geo_enabled=True, entities={u'description': {u'urls': []}}, followers_count=281, protected=False, id_str=u'585697621', default_profile_image=False, listed_count=0, lang=u'en', utc_offset=-18000, statuses_count=4615, description=u'', friends_count=231, profile_link_color=u'0084B4', profile_image_url=u'http://pbs.twimg.com/profile_images/721307680292282369/nesq2DPL_normal.jpg', notifications=None, profile_background_image_url_https=u'https://abs.twimg.com/images/themes/theme1/bg.png', profile_background_color=u'C0DEED', profile_banner_url=u'https://pbs.twimg.com/profile_banners/585697621/1460819656', profile_background_image_url=u'http://abs.twimg.com/images/themes/theme1/bg.png', name=u'.', is_translation_enabled=False, profile_background_tile=False, favourites_count=510, screen_name=u'amberr_austin', url=None, created_at=datetime.datetime(2012, 5, 20, 14, 7, 41), contributors_enabled=False, location=u'', profile_sidebar_border_color=u'C0DEED', default_profile=True, following=False)\n"
     ]
    }
   ],
   "source": [
    "tweet=results[0]\n",
    "\n",
    "for param in dir(tweet):\n",
    "    if not param.startswith(\"_\"):\n",
    "        print \"%s : %s\" % (param, eval(\"tweet.\" + param))"
   ]
  },
  {
   "cell_type": "markdown",
   "metadata": {},
   "source": [
    "### Inspecting a User Object"
   ]
  },
  {
   "cell_type": "code",
   "execution_count": 9,
   "metadata": {
    "collapsed": false
   },
   "outputs": [
    {
     "name": "stdout",
     "output_type": "stream",
     "text": [
      "contributors_enabled : False\n",
      "created_at : 2012-05-20 14:07:41\n",
      "default_profile : True\n",
      "default_profile_image : False\n",
      "description : \n",
      "entities : {u'description': {u'urls': []}}\n",
      "favourites_count : 510\n",
      "follow : <bound method User.follow of User(follow_request_sent=None, has_extended_profile=False, profile_use_background_image=True, _json={u'follow_request_sent': None, u'has_extended_profile': False, u'profile_use_background_image': True, u'default_profile_image': False, u'id': 585697621, u'profile_background_image_url_https': u'https://abs.twimg.com/images/themes/theme1/bg.png', u'verified': False, u'profile_text_color': u'333333', u'profile_image_url_https': u'https://pbs.twimg.com/profile_images/721307680292282369/nesq2DPL_normal.jpg', u'profile_sidebar_fill_color': u'DDEEF6', u'entities': {u'description': {u'urls': []}}, u'followers_count': 281, u'profile_sidebar_border_color': u'C0DEED', u'id_str': u'585697621', u'profile_background_color': u'C0DEED', u'listed_count': 0, u'is_translation_enabled': False, u'utc_offset': -18000, u'statuses_count': 4615, u'description': u'', u'friends_count': 231, u'location': u'', u'profile_link_color': u'0084B4', u'profile_image_url': u'http://pbs.twimg.com/profile_images/721307680292282369/nesq2DPL_normal.jpg', u'following': None, u'geo_enabled': True, u'profile_banner_url': u'https://pbs.twimg.com/profile_banners/585697621/1460819656', u'profile_background_image_url': u'http://abs.twimg.com/images/themes/theme1/bg.png', u'screen_name': u'amberr_austin', u'lang': u'en', u'profile_background_tile': False, u'favourites_count': 510, u'name': u'.', u'notifications': None, u'url': None, u'created_at': u'Sun May 20 14:07:41 +0000 2012', u'contributors_enabled': False, u'time_zone': u'Central Time (US & Canada)', u'protected': False, u'default_profile': True, u'is_translator': False}, time_zone=u'Central Time (US & Canada)', id=585697621, _api=<tweepy.api.API object at 0x103bac190>, verified=False, profile_text_color=u'333333', profile_image_url_https=u'https://pbs.twimg.com/profile_images/721307680292282369/nesq2DPL_normal.jpg', profile_sidebar_fill_color=u'DDEEF6', is_translator=False, geo_enabled=True, entities={u'description': {u'urls': []}}, followers_count=281, protected=False, id_str=u'585697621', default_profile_image=False, listed_count=0, lang=u'en', utc_offset=-18000, statuses_count=4615, description=u'', friends_count=231, profile_link_color=u'0084B4', profile_image_url=u'http://pbs.twimg.com/profile_images/721307680292282369/nesq2DPL_normal.jpg', notifications=None, profile_background_image_url_https=u'https://abs.twimg.com/images/themes/theme1/bg.png', profile_background_color=u'C0DEED', profile_banner_url=u'https://pbs.twimg.com/profile_banners/585697621/1460819656', profile_background_image_url=u'http://abs.twimg.com/images/themes/theme1/bg.png', name=u'.', is_translation_enabled=False, profile_background_tile=False, favourites_count=510, screen_name=u'amberr_austin', url=None, created_at=datetime.datetime(2012, 5, 20, 14, 7, 41), contributors_enabled=False, location=u'', profile_sidebar_border_color=u'C0DEED', default_profile=True, following=False)>\n",
      "follow_request_sent : None\n",
      "followers : <bound method User.followers of User(follow_request_sent=None, has_extended_profile=False, profile_use_background_image=True, _json={u'follow_request_sent': None, u'has_extended_profile': False, u'profile_use_background_image': True, u'default_profile_image': False, u'id': 585697621, u'profile_background_image_url_https': u'https://abs.twimg.com/images/themes/theme1/bg.png', u'verified': False, u'profile_text_color': u'333333', u'profile_image_url_https': u'https://pbs.twimg.com/profile_images/721307680292282369/nesq2DPL_normal.jpg', u'profile_sidebar_fill_color': u'DDEEF6', u'entities': {u'description': {u'urls': []}}, u'followers_count': 281, u'profile_sidebar_border_color': u'C0DEED', u'id_str': u'585697621', u'profile_background_color': u'C0DEED', u'listed_count': 0, u'is_translation_enabled': False, u'utc_offset': -18000, u'statuses_count': 4615, u'description': u'', u'friends_count': 231, u'location': u'', u'profile_link_color': u'0084B4', u'profile_image_url': u'http://pbs.twimg.com/profile_images/721307680292282369/nesq2DPL_normal.jpg', u'following': None, u'geo_enabled': True, u'profile_banner_url': u'https://pbs.twimg.com/profile_banners/585697621/1460819656', u'profile_background_image_url': u'http://abs.twimg.com/images/themes/theme1/bg.png', u'screen_name': u'amberr_austin', u'lang': u'en', u'profile_background_tile': False, u'favourites_count': 510, u'name': u'.', u'notifications': None, u'url': None, u'created_at': u'Sun May 20 14:07:41 +0000 2012', u'contributors_enabled': False, u'time_zone': u'Central Time (US & Canada)', u'protected': False, u'default_profile': True, u'is_translator': False}, time_zone=u'Central Time (US & Canada)', id=585697621, _api=<tweepy.api.API object at 0x103bac190>, verified=False, profile_text_color=u'333333', profile_image_url_https=u'https://pbs.twimg.com/profile_images/721307680292282369/nesq2DPL_normal.jpg', profile_sidebar_fill_color=u'DDEEF6', is_translator=False, geo_enabled=True, entities={u'description': {u'urls': []}}, followers_count=281, protected=False, id_str=u'585697621', default_profile_image=False, listed_count=0, lang=u'en', utc_offset=-18000, statuses_count=4615, description=u'', friends_count=231, profile_link_color=u'0084B4', profile_image_url=u'http://pbs.twimg.com/profile_images/721307680292282369/nesq2DPL_normal.jpg', notifications=None, profile_background_image_url_https=u'https://abs.twimg.com/images/themes/theme1/bg.png', profile_background_color=u'C0DEED', profile_banner_url=u'https://pbs.twimg.com/profile_banners/585697621/1460819656', profile_background_image_url=u'http://abs.twimg.com/images/themes/theme1/bg.png', name=u'.', is_translation_enabled=False, profile_background_tile=False, favourites_count=510, screen_name=u'amberr_austin', url=None, created_at=datetime.datetime(2012, 5, 20, 14, 7, 41), contributors_enabled=False, location=u'', profile_sidebar_border_color=u'C0DEED', default_profile=True, following=False)>\n",
      "followers_count : 281\n",
      "followers_ids : <bound method User.followers_ids of User(follow_request_sent=None, has_extended_profile=False, profile_use_background_image=True, _json={u'follow_request_sent': None, u'has_extended_profile': False, u'profile_use_background_image': True, u'default_profile_image': False, u'id': 585697621, u'profile_background_image_url_https': u'https://abs.twimg.com/images/themes/theme1/bg.png', u'verified': False, u'profile_text_color': u'333333', u'profile_image_url_https': u'https://pbs.twimg.com/profile_images/721307680292282369/nesq2DPL_normal.jpg', u'profile_sidebar_fill_color': u'DDEEF6', u'entities': {u'description': {u'urls': []}}, u'followers_count': 281, u'profile_sidebar_border_color': u'C0DEED', u'id_str': u'585697621', u'profile_background_color': u'C0DEED', u'listed_count': 0, u'is_translation_enabled': False, u'utc_offset': -18000, u'statuses_count': 4615, u'description': u'', u'friends_count': 231, u'location': u'', u'profile_link_color': u'0084B4', u'profile_image_url': u'http://pbs.twimg.com/profile_images/721307680292282369/nesq2DPL_normal.jpg', u'following': None, u'geo_enabled': True, u'profile_banner_url': u'https://pbs.twimg.com/profile_banners/585697621/1460819656', u'profile_background_image_url': u'http://abs.twimg.com/images/themes/theme1/bg.png', u'screen_name': u'amberr_austin', u'lang': u'en', u'profile_background_tile': False, u'favourites_count': 510, u'name': u'.', u'notifications': None, u'url': None, u'created_at': u'Sun May 20 14:07:41 +0000 2012', u'contributors_enabled': False, u'time_zone': u'Central Time (US & Canada)', u'protected': False, u'default_profile': True, u'is_translator': False}, time_zone=u'Central Time (US & Canada)', id=585697621, _api=<tweepy.api.API object at 0x103bac190>, verified=False, profile_text_color=u'333333', profile_image_url_https=u'https://pbs.twimg.com/profile_images/721307680292282369/nesq2DPL_normal.jpg', profile_sidebar_fill_color=u'DDEEF6', is_translator=False, geo_enabled=True, entities={u'description': {u'urls': []}}, followers_count=281, protected=False, id_str=u'585697621', default_profile_image=False, listed_count=0, lang=u'en', utc_offset=-18000, statuses_count=4615, description=u'', friends_count=231, profile_link_color=u'0084B4', profile_image_url=u'http://pbs.twimg.com/profile_images/721307680292282369/nesq2DPL_normal.jpg', notifications=None, profile_background_image_url_https=u'https://abs.twimg.com/images/themes/theme1/bg.png', profile_background_color=u'C0DEED', profile_banner_url=u'https://pbs.twimg.com/profile_banners/585697621/1460819656', profile_background_image_url=u'http://abs.twimg.com/images/themes/theme1/bg.png', name=u'.', is_translation_enabled=False, profile_background_tile=False, favourites_count=510, screen_name=u'amberr_austin', url=None, created_at=datetime.datetime(2012, 5, 20, 14, 7, 41), contributors_enabled=False, location=u'', profile_sidebar_border_color=u'C0DEED', default_profile=True, following=False)>\n",
      "following : False\n",
      "friends : <bound method User.friends of User(follow_request_sent=None, has_extended_profile=False, profile_use_background_image=True, _json={u'follow_request_sent': None, u'has_extended_profile': False, u'profile_use_background_image': True, u'default_profile_image': False, u'id': 585697621, u'profile_background_image_url_https': u'https://abs.twimg.com/images/themes/theme1/bg.png', u'verified': False, u'profile_text_color': u'333333', u'profile_image_url_https': u'https://pbs.twimg.com/profile_images/721307680292282369/nesq2DPL_normal.jpg', u'profile_sidebar_fill_color': u'DDEEF6', u'entities': {u'description': {u'urls': []}}, u'followers_count': 281, u'profile_sidebar_border_color': u'C0DEED', u'id_str': u'585697621', u'profile_background_color': u'C0DEED', u'listed_count': 0, u'is_translation_enabled': False, u'utc_offset': -18000, u'statuses_count': 4615, u'description': u'', u'friends_count': 231, u'location': u'', u'profile_link_color': u'0084B4', u'profile_image_url': u'http://pbs.twimg.com/profile_images/721307680292282369/nesq2DPL_normal.jpg', u'following': None, u'geo_enabled': True, u'profile_banner_url': u'https://pbs.twimg.com/profile_banners/585697621/1460819656', u'profile_background_image_url': u'http://abs.twimg.com/images/themes/theme1/bg.png', u'screen_name': u'amberr_austin', u'lang': u'en', u'profile_background_tile': False, u'favourites_count': 510, u'name': u'.', u'notifications': None, u'url': None, u'created_at': u'Sun May 20 14:07:41 +0000 2012', u'contributors_enabled': False, u'time_zone': u'Central Time (US & Canada)', u'protected': False, u'default_profile': True, u'is_translator': False}, time_zone=u'Central Time (US & Canada)', id=585697621, _api=<tweepy.api.API object at 0x103bac190>, verified=False, profile_text_color=u'333333', profile_image_url_https=u'https://pbs.twimg.com/profile_images/721307680292282369/nesq2DPL_normal.jpg', profile_sidebar_fill_color=u'DDEEF6', is_translator=False, geo_enabled=True, entities={u'description': {u'urls': []}}, followers_count=281, protected=False, id_str=u'585697621', default_profile_image=False, listed_count=0, lang=u'en', utc_offset=-18000, statuses_count=4615, description=u'', friends_count=231, profile_link_color=u'0084B4', profile_image_url=u'http://pbs.twimg.com/profile_images/721307680292282369/nesq2DPL_normal.jpg', notifications=None, profile_background_image_url_https=u'https://abs.twimg.com/images/themes/theme1/bg.png', profile_background_color=u'C0DEED', profile_banner_url=u'https://pbs.twimg.com/profile_banners/585697621/1460819656', profile_background_image_url=u'http://abs.twimg.com/images/themes/theme1/bg.png', name=u'.', is_translation_enabled=False, profile_background_tile=False, favourites_count=510, screen_name=u'amberr_austin', url=None, created_at=datetime.datetime(2012, 5, 20, 14, 7, 41), contributors_enabled=False, location=u'', profile_sidebar_border_color=u'C0DEED', default_profile=True, following=False)>\n",
      "friends_count : 231\n",
      "geo_enabled : True\n",
      "has_extended_profile : False\n",
      "id : 585697621\n",
      "id_str : 585697621\n",
      "is_translation_enabled : False\n",
      "is_translator : False\n",
      "lang : en\n",
      "listed_count : 0\n",
      "lists : <bound method User.lists of User(follow_request_sent=None, has_extended_profile=False, profile_use_background_image=True, _json={u'follow_request_sent': None, u'has_extended_profile': False, u'profile_use_background_image': True, u'default_profile_image': False, u'id': 585697621, u'profile_background_image_url_https': u'https://abs.twimg.com/images/themes/theme1/bg.png', u'verified': False, u'profile_text_color': u'333333', u'profile_image_url_https': u'https://pbs.twimg.com/profile_images/721307680292282369/nesq2DPL_normal.jpg', u'profile_sidebar_fill_color': u'DDEEF6', u'entities': {u'description': {u'urls': []}}, u'followers_count': 281, u'profile_sidebar_border_color': u'C0DEED', u'id_str': u'585697621', u'profile_background_color': u'C0DEED', u'listed_count': 0, u'is_translation_enabled': False, u'utc_offset': -18000, u'statuses_count': 4615, u'description': u'', u'friends_count': 231, u'location': u'', u'profile_link_color': u'0084B4', u'profile_image_url': u'http://pbs.twimg.com/profile_images/721307680292282369/nesq2DPL_normal.jpg', u'following': None, u'geo_enabled': True, u'profile_banner_url': u'https://pbs.twimg.com/profile_banners/585697621/1460819656', u'profile_background_image_url': u'http://abs.twimg.com/images/themes/theme1/bg.png', u'screen_name': u'amberr_austin', u'lang': u'en', u'profile_background_tile': False, u'favourites_count': 510, u'name': u'.', u'notifications': None, u'url': None, u'created_at': u'Sun May 20 14:07:41 +0000 2012', u'contributors_enabled': False, u'time_zone': u'Central Time (US & Canada)', u'protected': False, u'default_profile': True, u'is_translator': False}, time_zone=u'Central Time (US & Canada)', id=585697621, _api=<tweepy.api.API object at 0x103bac190>, verified=False, profile_text_color=u'333333', profile_image_url_https=u'https://pbs.twimg.com/profile_images/721307680292282369/nesq2DPL_normal.jpg', profile_sidebar_fill_color=u'DDEEF6', is_translator=False, geo_enabled=True, entities={u'description': {u'urls': []}}, followers_count=281, protected=False, id_str=u'585697621', default_profile_image=False, listed_count=0, lang=u'en', utc_offset=-18000, statuses_count=4615, description=u'', friends_count=231, profile_link_color=u'0084B4', profile_image_url=u'http://pbs.twimg.com/profile_images/721307680292282369/nesq2DPL_normal.jpg', notifications=None, profile_background_image_url_https=u'https://abs.twimg.com/images/themes/theme1/bg.png', profile_background_color=u'C0DEED', profile_banner_url=u'https://pbs.twimg.com/profile_banners/585697621/1460819656', profile_background_image_url=u'http://abs.twimg.com/images/themes/theme1/bg.png', name=u'.', is_translation_enabled=False, profile_background_tile=False, favourites_count=510, screen_name=u'amberr_austin', url=None, created_at=datetime.datetime(2012, 5, 20, 14, 7, 41), contributors_enabled=False, location=u'', profile_sidebar_border_color=u'C0DEED', default_profile=True, following=False)>\n",
      "lists_memberships : <bound method User.lists_memberships of User(follow_request_sent=None, has_extended_profile=False, profile_use_background_image=True, _json={u'follow_request_sent': None, u'has_extended_profile': False, u'profile_use_background_image': True, u'default_profile_image': False, u'id': 585697621, u'profile_background_image_url_https': u'https://abs.twimg.com/images/themes/theme1/bg.png', u'verified': False, u'profile_text_color': u'333333', u'profile_image_url_https': u'https://pbs.twimg.com/profile_images/721307680292282369/nesq2DPL_normal.jpg', u'profile_sidebar_fill_color': u'DDEEF6', u'entities': {u'description': {u'urls': []}}, u'followers_count': 281, u'profile_sidebar_border_color': u'C0DEED', u'id_str': u'585697621', u'profile_background_color': u'C0DEED', u'listed_count': 0, u'is_translation_enabled': False, u'utc_offset': -18000, u'statuses_count': 4615, u'description': u'', u'friends_count': 231, u'location': u'', u'profile_link_color': u'0084B4', u'profile_image_url': u'http://pbs.twimg.com/profile_images/721307680292282369/nesq2DPL_normal.jpg', u'following': None, u'geo_enabled': True, u'profile_banner_url': u'https://pbs.twimg.com/profile_banners/585697621/1460819656', u'profile_background_image_url': u'http://abs.twimg.com/images/themes/theme1/bg.png', u'screen_name': u'amberr_austin', u'lang': u'en', u'profile_background_tile': False, u'favourites_count': 510, u'name': u'.', u'notifications': None, u'url': None, u'created_at': u'Sun May 20 14:07:41 +0000 2012', u'contributors_enabled': False, u'time_zone': u'Central Time (US & Canada)', u'protected': False, u'default_profile': True, u'is_translator': False}, time_zone=u'Central Time (US & Canada)', id=585697621, _api=<tweepy.api.API object at 0x103bac190>, verified=False, profile_text_color=u'333333', profile_image_url_https=u'https://pbs.twimg.com/profile_images/721307680292282369/nesq2DPL_normal.jpg', profile_sidebar_fill_color=u'DDEEF6', is_translator=False, geo_enabled=True, entities={u'description': {u'urls': []}}, followers_count=281, protected=False, id_str=u'585697621', default_profile_image=False, listed_count=0, lang=u'en', utc_offset=-18000, statuses_count=4615, description=u'', friends_count=231, profile_link_color=u'0084B4', profile_image_url=u'http://pbs.twimg.com/profile_images/721307680292282369/nesq2DPL_normal.jpg', notifications=None, profile_background_image_url_https=u'https://abs.twimg.com/images/themes/theme1/bg.png', profile_background_color=u'C0DEED', profile_banner_url=u'https://pbs.twimg.com/profile_banners/585697621/1460819656', profile_background_image_url=u'http://abs.twimg.com/images/themes/theme1/bg.png', name=u'.', is_translation_enabled=False, profile_background_tile=False, favourites_count=510, screen_name=u'amberr_austin', url=None, created_at=datetime.datetime(2012, 5, 20, 14, 7, 41), contributors_enabled=False, location=u'', profile_sidebar_border_color=u'C0DEED', default_profile=True, following=False)>\n",
      "lists_subscriptions : <bound method User.lists_subscriptions of User(follow_request_sent=None, has_extended_profile=False, profile_use_background_image=True, _json={u'follow_request_sent': None, u'has_extended_profile': False, u'profile_use_background_image': True, u'default_profile_image': False, u'id': 585697621, u'profile_background_image_url_https': u'https://abs.twimg.com/images/themes/theme1/bg.png', u'verified': False, u'profile_text_color': u'333333', u'profile_image_url_https': u'https://pbs.twimg.com/profile_images/721307680292282369/nesq2DPL_normal.jpg', u'profile_sidebar_fill_color': u'DDEEF6', u'entities': {u'description': {u'urls': []}}, u'followers_count': 281, u'profile_sidebar_border_color': u'C0DEED', u'id_str': u'585697621', u'profile_background_color': u'C0DEED', u'listed_count': 0, u'is_translation_enabled': False, u'utc_offset': -18000, u'statuses_count': 4615, u'description': u'', u'friends_count': 231, u'location': u'', u'profile_link_color': u'0084B4', u'profile_image_url': u'http://pbs.twimg.com/profile_images/721307680292282369/nesq2DPL_normal.jpg', u'following': None, u'geo_enabled': True, u'profile_banner_url': u'https://pbs.twimg.com/profile_banners/585697621/1460819656', u'profile_background_image_url': u'http://abs.twimg.com/images/themes/theme1/bg.png', u'screen_name': u'amberr_austin', u'lang': u'en', u'profile_background_tile': False, u'favourites_count': 510, u'name': u'.', u'notifications': None, u'url': None, u'created_at': u'Sun May 20 14:07:41 +0000 2012', u'contributors_enabled': False, u'time_zone': u'Central Time (US & Canada)', u'protected': False, u'default_profile': True, u'is_translator': False}, time_zone=u'Central Time (US & Canada)', id=585697621, _api=<tweepy.api.API object at 0x103bac190>, verified=False, profile_text_color=u'333333', profile_image_url_https=u'https://pbs.twimg.com/profile_images/721307680292282369/nesq2DPL_normal.jpg', profile_sidebar_fill_color=u'DDEEF6', is_translator=False, geo_enabled=True, entities={u'description': {u'urls': []}}, followers_count=281, protected=False, id_str=u'585697621', default_profile_image=False, listed_count=0, lang=u'en', utc_offset=-18000, statuses_count=4615, description=u'', friends_count=231, profile_link_color=u'0084B4', profile_image_url=u'http://pbs.twimg.com/profile_images/721307680292282369/nesq2DPL_normal.jpg', notifications=None, profile_background_image_url_https=u'https://abs.twimg.com/images/themes/theme1/bg.png', profile_background_color=u'C0DEED', profile_banner_url=u'https://pbs.twimg.com/profile_banners/585697621/1460819656', profile_background_image_url=u'http://abs.twimg.com/images/themes/theme1/bg.png', name=u'.', is_translation_enabled=False, profile_background_tile=False, favourites_count=510, screen_name=u'amberr_austin', url=None, created_at=datetime.datetime(2012, 5, 20, 14, 7, 41), contributors_enabled=False, location=u'', profile_sidebar_border_color=u'C0DEED', default_profile=True, following=False)>\n",
      "location : \n",
      "name : .\n",
      "notifications : None\n",
      "parse : <bound method type.parse of <class 'tweepy.models.User'>>\n",
      "parse_list : <bound method type.parse_list of <class 'tweepy.models.User'>>\n",
      "profile_background_color : C0DEED\n",
      "profile_background_image_url : http://abs.twimg.com/images/themes/theme1/bg.png\n",
      "profile_background_image_url_https : https://abs.twimg.com/images/themes/theme1/bg.png\n",
      "profile_background_tile : False\n",
      "profile_banner_url : https://pbs.twimg.com/profile_banners/585697621/1460819656\n",
      "profile_image_url : http://pbs.twimg.com/profile_images/721307680292282369/nesq2DPL_normal.jpg\n",
      "profile_image_url_https : https://pbs.twimg.com/profile_images/721307680292282369/nesq2DPL_normal.jpg\n",
      "profile_link_color : 0084B4\n",
      "profile_sidebar_border_color : C0DEED\n",
      "profile_sidebar_fill_color : DDEEF6\n",
      "profile_text_color : 333333\n",
      "profile_use_background_image : True\n",
      "protected : False\n",
      "screen_name : amberr_austin\n",
      "statuses_count : 4615\n",
      "time_zone : Central Time (US & Canada)\n",
      "timeline : <bound method User.timeline of User(follow_request_sent=None, has_extended_profile=False, profile_use_background_image=True, _json={u'follow_request_sent': None, u'has_extended_profile': False, u'profile_use_background_image': True, u'default_profile_image': False, u'id': 585697621, u'profile_background_image_url_https': u'https://abs.twimg.com/images/themes/theme1/bg.png', u'verified': False, u'profile_text_color': u'333333', u'profile_image_url_https': u'https://pbs.twimg.com/profile_images/721307680292282369/nesq2DPL_normal.jpg', u'profile_sidebar_fill_color': u'DDEEF6', u'entities': {u'description': {u'urls': []}}, u'followers_count': 281, u'profile_sidebar_border_color': u'C0DEED', u'id_str': u'585697621', u'profile_background_color': u'C0DEED', u'listed_count': 0, u'is_translation_enabled': False, u'utc_offset': -18000, u'statuses_count': 4615, u'description': u'', u'friends_count': 231, u'location': u'', u'profile_link_color': u'0084B4', u'profile_image_url': u'http://pbs.twimg.com/profile_images/721307680292282369/nesq2DPL_normal.jpg', u'following': None, u'geo_enabled': True, u'profile_banner_url': u'https://pbs.twimg.com/profile_banners/585697621/1460819656', u'profile_background_image_url': u'http://abs.twimg.com/images/themes/theme1/bg.png', u'screen_name': u'amberr_austin', u'lang': u'en', u'profile_background_tile': False, u'favourites_count': 510, u'name': u'.', u'notifications': None, u'url': None, u'created_at': u'Sun May 20 14:07:41 +0000 2012', u'contributors_enabled': False, u'time_zone': u'Central Time (US & Canada)', u'protected': False, u'default_profile': True, u'is_translator': False}, time_zone=u'Central Time (US & Canada)', id=585697621, _api=<tweepy.api.API object at 0x103bac190>, verified=False, profile_text_color=u'333333', profile_image_url_https=u'https://pbs.twimg.com/profile_images/721307680292282369/nesq2DPL_normal.jpg', profile_sidebar_fill_color=u'DDEEF6', is_translator=False, geo_enabled=True, entities={u'description': {u'urls': []}}, followers_count=281, protected=False, id_str=u'585697621', default_profile_image=False, listed_count=0, lang=u'en', utc_offset=-18000, statuses_count=4615, description=u'', friends_count=231, profile_link_color=u'0084B4', profile_image_url=u'http://pbs.twimg.com/profile_images/721307680292282369/nesq2DPL_normal.jpg', notifications=None, profile_background_image_url_https=u'https://abs.twimg.com/images/themes/theme1/bg.png', profile_background_color=u'C0DEED', profile_banner_url=u'https://pbs.twimg.com/profile_banners/585697621/1460819656', profile_background_image_url=u'http://abs.twimg.com/images/themes/theme1/bg.png', name=u'.', is_translation_enabled=False, profile_background_tile=False, favourites_count=510, screen_name=u'amberr_austin', url=None, created_at=datetime.datetime(2012, 5, 20, 14, 7, 41), contributors_enabled=False, location=u'', profile_sidebar_border_color=u'C0DEED', default_profile=True, following=False)>\n",
      "unfollow : <bound method User.unfollow of User(follow_request_sent=None, has_extended_profile=False, profile_use_background_image=True, _json={u'follow_request_sent': None, u'has_extended_profile': False, u'profile_use_background_image': True, u'default_profile_image': False, u'id': 585697621, u'profile_background_image_url_https': u'https://abs.twimg.com/images/themes/theme1/bg.png', u'verified': False, u'profile_text_color': u'333333', u'profile_image_url_https': u'https://pbs.twimg.com/profile_images/721307680292282369/nesq2DPL_normal.jpg', u'profile_sidebar_fill_color': u'DDEEF6', u'entities': {u'description': {u'urls': []}}, u'followers_count': 281, u'profile_sidebar_border_color': u'C0DEED', u'id_str': u'585697621', u'profile_background_color': u'C0DEED', u'listed_count': 0, u'is_translation_enabled': False, u'utc_offset': -18000, u'statuses_count': 4615, u'description': u'', u'friends_count': 231, u'location': u'', u'profile_link_color': u'0084B4', u'profile_image_url': u'http://pbs.twimg.com/profile_images/721307680292282369/nesq2DPL_normal.jpg', u'following': None, u'geo_enabled': True, u'profile_banner_url': u'https://pbs.twimg.com/profile_banners/585697621/1460819656', u'profile_background_image_url': u'http://abs.twimg.com/images/themes/theme1/bg.png', u'screen_name': u'amberr_austin', u'lang': u'en', u'profile_background_tile': False, u'favourites_count': 510, u'name': u'.', u'notifications': None, u'url': None, u'created_at': u'Sun May 20 14:07:41 +0000 2012', u'contributors_enabled': False, u'time_zone': u'Central Time (US & Canada)', u'protected': False, u'default_profile': True, u'is_translator': False}, time_zone=u'Central Time (US & Canada)', id=585697621, _api=<tweepy.api.API object at 0x103bac190>, verified=False, profile_text_color=u'333333', profile_image_url_https=u'https://pbs.twimg.com/profile_images/721307680292282369/nesq2DPL_normal.jpg', profile_sidebar_fill_color=u'DDEEF6', is_translator=False, geo_enabled=True, entities={u'description': {u'urls': []}}, followers_count=281, protected=False, id_str=u'585697621', default_profile_image=False, listed_count=0, lang=u'en', utc_offset=-18000, statuses_count=4615, description=u'', friends_count=231, profile_link_color=u'0084B4', profile_image_url=u'http://pbs.twimg.com/profile_images/721307680292282369/nesq2DPL_normal.jpg', notifications=None, profile_background_image_url_https=u'https://abs.twimg.com/images/themes/theme1/bg.png', profile_background_color=u'C0DEED', profile_banner_url=u'https://pbs.twimg.com/profile_banners/585697621/1460819656', profile_background_image_url=u'http://abs.twimg.com/images/themes/theme1/bg.png', name=u'.', is_translation_enabled=False, profile_background_tile=False, favourites_count=510, screen_name=u'amberr_austin', url=None, created_at=datetime.datetime(2012, 5, 20, 14, 7, 41), contributors_enabled=False, location=u'', profile_sidebar_border_color=u'C0DEED', default_profile=True, following=False)>\n",
      "url : None\n",
      "utc_offset : -18000\n",
      "verified : False\n"
     ]
    }
   ],
   "source": [
    "user=tweet.author\n",
    "\n",
    "for param in dir(user):\n",
    "    if not param.startswith(\"_\"):\n",
    "        print \"%s : %s\" % (param, eval(\"user.\" + param))"
   ]
  },
  {
   "cell_type": "markdown",
   "metadata": {},
   "source": [
    "### Using Cursor for Pagination"
   ]
  },
  {
   "cell_type": "markdown",
   "metadata": {},
   "source": [
    "For data mining you will be dealing with a large amount of results. Cursor is a simple way to handle interation and results pages."
   ]
  },
  {
   "cell_type": "code",
   "execution_count": 14,
   "metadata": {
    "collapsed": false
   },
   "outputs": [
    {
     "name": "stdout",
     "output_type": "stream",
     "text": [
      "1500\n"
     ]
    }
   ],
   "source": [
    "results = []\n",
    "for tweet in tweepy.Cursor(api.search, q=\"Austin\").items(1500):\n",
    "    results.append(tweet)\n",
    "\n",
    "print len(results)"
   ]
  },
  {
   "cell_type": "markdown",
   "metadata": {},
   "source": [
    "### Store Results in a Data Frame"
   ]
  },
  {
   "cell_type": "code",
   "execution_count": 15,
   "metadata": {
    "collapsed": false
   },
   "outputs": [],
   "source": [
    "def process_results(results):\n",
    "    id_list = [tweet.id for tweet in results]\n",
    "    data_set = pd.DataFrame(id_list, columns=[\"id\"])\n",
    "\n",
    "    # Processing Tweet Data\n",
    "\n",
    "    data_set[\"text\"] = [tweet.text for tweet in results]\n",
    "    data_set[\"created_at\"] = [tweet.created_at for tweet in results]\n",
    "    data_set[\"retweet_count\"] = [tweet.retweet_count for tweet in results]\n",
    "    data_set[\"favorite_count\"] = [tweet.favorite_count for tweet in results]\n",
    "    data_set[\"source\"] = [tweet.source for tweet in results]\n",
    "\n",
    "    # Processing User Data\n",
    "    data_set[\"user_id\"] = [tweet.author.id for tweet in results]\n",
    "    data_set[\"user_screen_name\"] = [tweet.author.screen_name for tweet in results]\n",
    "    data_set[\"user_name\"] = [tweet.author.name for tweet in results]\n",
    "    data_set[\"user_created_at\"] = [tweet.author.created_at for tweet in results]\n",
    "    data_set[\"user_description\"] = [tweet.author.description for tweet in results]\n",
    "    data_set[\"user_followers_count\"] = [tweet.author.followers_count for tweet in results]\n",
    "    data_set[\"user_friends_count\"] = [tweet.author.friends_count for tweet in results]\n",
    "    data_set[\"user_location\"] = [tweet.author.location for tweet in results]\n",
    "\n",
    "    return data_set\n",
    "data_set = process_results(results)"
   ]
  },
  {
   "cell_type": "markdown",
   "metadata": {},
   "source": [
    "## Looking at the Data"
   ]
  },
  {
   "cell_type": "code",
   "execution_count": 17,
   "metadata": {
    "collapsed": false
   },
   "outputs": [
    {
     "data": {
      "text/plain": [
       "0            Pittsburgh ➡ Annapolis⚓⛵\n",
       "1                                 202\n",
       "2                                    \n",
       "3                          Austin, TX\n",
       "4                                    \n",
       "5                                    \n",
       "6                       Austin, Texas\n",
       "7            ÜT: -6.261838,106.782233\n",
       "8                                    \n",
       "9                                    \n",
       "10                       Indianapolis\n",
       "11                      San Francisco\n",
       "12                       Emo, Ontario\n",
       "13                         Dallas, TX\n",
       "14                  pacific northwest\n",
       "15                          FW, Texas\n",
       "16                         Austin, TX\n",
       "17                                   \n",
       "18                      Central Texas\n",
       "19                      Central Texas\n",
       "20                      Central Texas\n",
       "21                                   \n",
       "22                        Chattanooga\n",
       "23                                   \n",
       "24                                USA\n",
       "                    ...              \n",
       "1475                 Bogotá, Colombia\n",
       "1476                         Colorado\n",
       "1477     AUS; LED; SFO; BLR; MFE; QRO\n",
       "1478                   Wisconsin, USA\n",
       "1479                  San Antonio, TX\n",
       "1480                 sawyerville , al\n",
       "1481                  IG: C_Money_253\n",
       "1482                    United States\n",
       "1483                                 \n",
       "1484                                 \n",
       "1485                       Austin, TX\n",
       "1486                       Austin, TX\n",
       "1487                Grand Prairie, TX\n",
       "1488                       Austin, TX\n",
       "1489                       Austin, TX\n",
       "1490                       Austin, TX\n",
       "1491    Plymouth soon to be Chicago  \n",
       "1492          Columbia, Maryland, USA\n",
       "1493                       Austin, TX\n",
       "1494            Austin-Montopolis, TX\n",
       "1495                       Austin, TX\n",
       "1496                       Austin, TX\n",
       "1497                       Austin, TX\n",
       "1498                       Austin, TX\n",
       "1499                    Austin, Texas\n",
       "Name: user_location, dtype: object"
      ]
     },
     "execution_count": 17,
     "metadata": {},
     "output_type": "execute_result"
    }
   ],
   "source": [
    "data_set.user_location"
   ]
  },
  {
   "cell_type": "code",
   "execution_count": 19,
   "metadata": {
    "collapsed": false
   },
   "outputs": [
    {
     "data": {
      "text/html": [
       "<div>\n",
       "<table border=\"1\" class=\"dataframe\">\n",
       "  <thead>\n",
       "    <tr style=\"text-align: right;\">\n",
       "      <th></th>\n",
       "      <th>id</th>\n",
       "      <th>text</th>\n",
       "      <th>created_at</th>\n",
       "      <th>retweet_count</th>\n",
       "      <th>favorite_count</th>\n",
       "      <th>source</th>\n",
       "      <th>user_id</th>\n",
       "      <th>user_screen_name</th>\n",
       "      <th>user_name</th>\n",
       "      <th>user_created_at</th>\n",
       "      <th>user_description</th>\n",
       "      <th>user_followers_count</th>\n",
       "      <th>user_friends_count</th>\n",
       "      <th>user_location</th>\n",
       "    </tr>\n",
       "  </thead>\n",
       "  <tbody>\n",
       "    <tr>\n",
       "      <th>95</th>\n",
       "      <td>726864166582145024</td>\n",
       "      <td>Top 10 IPython Notebook #Tutorials for #DataSc...</td>\n",
       "      <td>2016-05-01 20:01:36</td>\n",
       "      <td>30</td>\n",
       "      <td>44</td>\n",
       "      <td>Hootsuite</td>\n",
       "      <td>20167623</td>\n",
       "      <td>kdnuggets</td>\n",
       "      <td>Gregory Piatetsky</td>\n",
       "      <td>2009-02-05 17:37:26</td>\n",
       "      <td>KDnuggets President, #Analytics, #BigData, #Da...</td>\n",
       "      <td>55697</td>\n",
       "      <td>407</td>\n",
       "      <td>Brookline, MA, USA</td>\n",
       "    </tr>\n",
       "    <tr>\n",
       "      <th>96</th>\n",
       "      <td>726848919620210688</td>\n",
       "      <td>How to calculate inner matrix product in Ipyth...</td>\n",
       "      <td>2016-05-01 19:01:01</td>\n",
       "      <td>0</td>\n",
       "      <td>0</td>\n",
       "      <td>Buffer</td>\n",
       "      <td>2311645130</td>\n",
       "      <td>AnalyticsVidhya</td>\n",
       "      <td>Analytics Vidhya</td>\n",
       "      <td>2014-01-26 10:48:31</td>\n",
       "      <td>Join the largest analystics community https://...</td>\n",
       "      <td>4779</td>\n",
       "      <td>264</td>\n",
       "      <td></td>\n",
       "    </tr>\n",
       "    <tr>\n",
       "      <th>97</th>\n",
       "      <td>726845654752854016</td>\n",
       "      <td>@clauersen Indeed... prob will for my current ...</td>\n",
       "      <td>2016-05-01 18:48:02</td>\n",
       "      <td>0</td>\n",
       "      <td>1</td>\n",
       "      <td>TweetDeck</td>\n",
       "      <td>845999910</td>\n",
       "      <td>zhao_shirley</td>\n",
       "      <td>Shirley Zhao</td>\n",
       "      <td>2012-09-25 18:26:20</td>\n",
       "      <td>#medlibs #datalibs #scilibs #academic #librari...</td>\n",
       "      <td>281</td>\n",
       "      <td>394</td>\n",
       "      <td>Salt Lake City, UT</td>\n",
       "    </tr>\n",
       "    <tr>\n",
       "      <th>98</th>\n",
       "      <td>726820163035656193</td>\n",
       "      <td>RT @AnalyticsVidhya: How to transpose the high...</td>\n",
       "      <td>2016-05-01 17:06:45</td>\n",
       "      <td>1</td>\n",
       "      <td>0</td>\n",
       "      <td>Hootsuite</td>\n",
       "      <td>17982188</td>\n",
       "      <td>hendrosubagyo</td>\n",
       "      <td>hendro subagyo</td>\n",
       "      <td>2008-12-09 03:07:46</td>\n",
       "      <td>ora mandeg ngelmu</td>\n",
       "      <td>282</td>\n",
       "      <td>192</td>\n",
       "      <td>Jakarta</td>\n",
       "    </tr>\n",
       "    <tr>\n",
       "      <th>99</th>\n",
       "      <td>726818666415853568</td>\n",
       "      <td>How to transpose the higher dimension matrix i...</td>\n",
       "      <td>2016-05-01 17:00:48</td>\n",
       "      <td>1</td>\n",
       "      <td>2</td>\n",
       "      <td>Buffer</td>\n",
       "      <td>2311645130</td>\n",
       "      <td>AnalyticsVidhya</td>\n",
       "      <td>Analytics Vidhya</td>\n",
       "      <td>2014-01-26 10:48:31</td>\n",
       "      <td>Join the largest analystics community https://...</td>\n",
       "      <td>4779</td>\n",
       "      <td>264</td>\n",
       "      <td></td>\n",
       "    </tr>\n",
       "  </tbody>\n",
       "</table>\n",
       "</div>"
      ],
      "text/plain": [
       "                    id                                               text          created_at  retweet_count  \\\n",
       "95  726864166582145024  Top 10 IPython Notebook #Tutorials for #DataSc... 2016-05-01 20:01:36             30   \n",
       "96  726848919620210688  How to calculate inner matrix product in Ipyth... 2016-05-01 19:01:01              0   \n",
       "97  726845654752854016  @clauersen Indeed... prob will for my current ... 2016-05-01 18:48:02              0   \n",
       "98  726820163035656193  RT @AnalyticsVidhya: How to transpose the high... 2016-05-01 17:06:45              1   \n",
       "99  726818666415853568  How to transpose the higher dimension matrix i... 2016-05-01 17:00:48              1   \n",
       "\n",
       "    favorite_count     source     user_id user_screen_name          user_name     user_created_at  \\\n",
       "95              44  Hootsuite    20167623        kdnuggets  Gregory Piatetsky 2009-02-05 17:37:26   \n",
       "96               0     Buffer  2311645130  AnalyticsVidhya   Analytics Vidhya 2014-01-26 10:48:31   \n",
       "97               1  TweetDeck   845999910     zhao_shirley       Shirley Zhao 2012-09-25 18:26:20   \n",
       "98               0  Hootsuite    17982188    hendrosubagyo     hendro subagyo 2008-12-09 03:07:46   \n",
       "99               2     Buffer  2311645130  AnalyticsVidhya   Analytics Vidhya 2014-01-26 10:48:31   \n",
       "\n",
       "                                     user_description  user_followers_count  user_friends_count       user_location  \n",
       "95  KDnuggets President, #Analytics, #BigData, #Da...                 55697                 407  Brookline, MA, USA  \n",
       "96  Join the largest analystics community https://...                  4779                 264                      \n",
       "97  #medlibs #datalibs #scilibs #academic #librari...                   281                 394  Salt Lake City, UT  \n",
       "98                                  ora mandeg ngelmu                   282                 192             Jakarta  \n",
       "99  Join the largest analystics community https://...                  4779                 264                      "
      ]
     },
     "execution_count": 19,
     "metadata": {},
     "output_type": "execute_result"
    }
   ],
   "source": [
    "data_set.tail(5)"
   ]
  },
  {
   "cell_type": "markdown",
   "metadata": {},
   "source": [
    "# Visualizing Results"
   ]
  },
  {
   "cell_type": "code",
   "execution_count": 18,
   "metadata": {
    "collapsed": false
   },
   "outputs": [
    {
     "data": {
      "image/png": "[encoded data removed]",
      "text/plain": [
       "<matplotlib.figure.Figure at 0x118672d10>"
      ]
     },
     "metadata": {},
     "output_type": "display_data"
    }
   ],
   "source": [
    "sources = data_set[\"source\"].value_counts()[:5][::-1]\n",
    "\n",
    "plt.barh(xrange(len(sources)), sources.values)\n",
    "plt.yticks(np.arange(len(sources)) + 0.4, sources.index)\n",
    "plt.show()"
   ]
  },
  {
   "cell_type": "code",
   "execution_count": null,
   "metadata": {
    "collapsed": true
   },
   "outputs": [],
   "source": []
  }
 ],
 "metadata": {
  "kernelspec": {
   "display_name": "Python 2",
   "language": "python",
   "name": "python2"
  },
  "language_info": {
   "codemirror_mode": {
    "name": "ipython",
    "version": 2
   },
   "file_extension": ".py",
   "mimetype": "text/x-python",
   "name": "python",
   "nbconvert_exporter": "python",
   "pygments_lexer": "ipython2",
   "version": "2.7.11"
  }
 },
 "nbformat": 4,
 "nbformat_minor": 0
}
