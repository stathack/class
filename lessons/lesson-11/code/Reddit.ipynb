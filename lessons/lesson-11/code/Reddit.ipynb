{
 "cells": [
  {
   "cell_type": "markdown",
   "metadata": {},
   "source": [
    "https://praw.readthedocs.io/en/stable/"
   ]
  },
  {
   "cell_type": "code",
   "execution_count": 1,
   "metadata": {
    "collapsed": true
   },
   "outputs": [],
   "source": [
    "import praw"
   ]
  },
  {
   "cell_type": "code",
   "execution_count": 2,
   "metadata": {
    "collapsed": true
   },
   "outputs": [],
   "source": [
    "r = praw.Reddit(user_agent='Test Script by /u/bboe')"
   ]
  },
  {
   "cell_type": "code",
   "execution_count": 3,
   "metadata": {
    "collapsed": false
   },
   "outputs": [
    {
     "name": "stderr",
     "output_type": "stream",
     "text": [
      "/Users/chrisconnell/anaconda/lib/python2.7/site-packages/praw/decorators.py:77: DeprecationWarning: reddit intends to disable password-based authentication of API clients sometime in the near future. As a result this method will be removed in a future major version of PRAW.\n",
      "\n",
      "For more information please see:\n",
      "\n",
      "* Original reddit deprecation notice: https://www.reddit.com/comments/2ujhkr/\n",
      "\n",
      "* Updated delayed deprecation notice: https://www.reddit.com/comments/37e2mv/\n",
      "\n",
      "Pass ``disable_warning=True`` to ``login`` to disable this warning.\n",
      "  warn(msg, DeprecationWarning)\n"
     ]
    },
    {
     "name": "stdout",
     "output_type": "stream",
     "text": [
      "Password for stathack: ········\n"
     ]
    }
   ],
   "source": [
    "r.login(username='stathack')"
   ]
  },
  {
   "cell_type": "code",
   "execution_count": 20,
   "metadata": {
    "collapsed": true
   },
   "outputs": [],
   "source": [
    "submissions = r.get_subreddit('dataisbeautiful').get_top(limit=100)"
   ]
  },
  {
   "cell_type": "code",
   "execution_count": 27,
   "metadata": {
    "collapsed": false
   },
   "outputs": [
    {
     "data": {
      "text/plain": [
       "[[<praw.objects.Comment at 0x105e27b90>,\n",
       "  <praw.objects.Comment at 0x105e241d0>,\n",
       "  <praw.objects.Comment at 0x105e24410>,\n",
       "  <praw.objects.Comment at 0x105ef19d0>,\n",
       "  <praw.objects.Comment at 0x105ef1b50>,\n",
       "  <praw.objects.Comment at 0x105e95590>,\n",
       "  <praw.objects.Comment at 0x105e95a90>,\n",
       "  <praw.objects.Comment at 0x105e95b10>,\n",
       "  <praw.objects.Comment at 0x105595850>,\n",
       "  <praw.objects.Comment at 0x105595410>,\n",
       "  <praw.objects.Comment at 0x1055954d0>,\n",
       "  <praw.objects.Comment at 0x105595710>,\n",
       "  <praw.objects.Comment at 0x105595790>,\n",
       "  <praw.objects.Comment at 0x105595590>,\n",
       "  <praw.objects.Comment at 0x105e02190>,\n",
       "  <praw.objects.Comment at 0x105e02050>,\n",
       "  <praw.objects.Comment at 0x105e02f50>,\n",
       "  <praw.objects.Comment at 0x105e16290>],\n",
       " [<praw.objects.Comment at 0x105e40390>,\n",
       "  <praw.objects.Comment at 0x105e40b50>,\n",
       "  <praw.objects.Comment at 0x105e40190>,\n",
       "  <praw.objects.Comment at 0x105e40710>,\n",
       "  <praw.objects.Comment at 0x105e40450>,\n",
       "  <praw.objects.Comment at 0x105e407d0>,\n",
       "  <praw.objects.Comment at 0x105e40850>,\n",
       "  <praw.objects.Comment at 0x105505e50>,\n",
       "  <praw.objects.Comment at 0x105f1ee10>,\n",
       "  <praw.objects.Comment at 0x105f1e710>],\n",
       " [<praw.objects.Comment at 0x105f84fd0>,\n",
       "  <praw.objects.Comment at 0x107760190>,\n",
       "  <praw.objects.Comment at 0x107760550>,\n",
       "  <praw.objects.Comment at 0x107760610>,\n",
       "  <praw.objects.Comment at 0x1077609d0>,\n",
       "  <praw.objects.Comment at 0x107760a90>,\n",
       "  <praw.objects.Comment at 0x107760c10>],\n",
       " [<praw.objects.Comment at 0x107784510>,\n",
       "  <praw.objects.Comment at 0x1077845d0>,\n",
       "  <praw.objects.Comment at 0x107784810>,\n",
       "  <praw.objects.Comment at 0x107784990>,\n",
       "  <praw.objects.Comment at 0x107784a50>,\n",
       "  <praw.objects.Comment at 0x107784b10>],\n",
       " [<praw.objects.Comment at 0x107792d10>,\n",
       "  <praw.objects.Comment at 0x107792e90>,\n",
       "  <praw.objects.Comment at 0x107792f50>,\n",
       "  <praw.objects.Comment at 0x1077a22d0>,\n",
       "  <praw.objects.Comment at 0x1077a2390>,\n",
       "  <praw.objects.Comment at 0x1077a2450>,\n",
       "  <praw.objects.Comment at 0x1077a26d0>,\n",
       "  <praw.objects.Comment at 0x1077a2790>,\n",
       "  <praw.objects.Comment at 0x1077a2850>,\n",
       "  <praw.objects.Comment at 0x1077a2910>,\n",
       "  <praw.objects.Comment at 0x1077a29d0>,\n",
       "  <praw.objects.Comment at 0x1077a2a90>,\n",
       "  <praw.objects.Comment at 0x1077a2b50>,\n",
       "  <praw.objects.Comment at 0x1077a2c10>,\n",
       "  <praw.objects.Comment at 0x1077a2cd0>,\n",
       "  <praw.objects.Comment at 0x1077a2d90>,\n",
       "  <praw.objects.Comment at 0x1077a2e50>,\n",
       "  <praw.objects.Comment at 0x1077a2f10>,\n",
       "  <praw.objects.Comment at 0x1077a2fd0>,\n",
       "  <praw.objects.Comment at 0x1077b20d0>,\n",
       "  <praw.objects.Comment at 0x1077b2190>,\n",
       "  <praw.objects.Comment at 0x1077b2250>,\n",
       "  <praw.objects.Comment at 0x1077b2310>,\n",
       "  <praw.objects.Comment at 0x1077b23d0>,\n",
       "  <praw.objects.Comment at 0x1077b2490>],\n",
       " [<praw.objects.Comment at 0x1077b2f10>,\n",
       "  <praw.objects.Comment at 0x1077c4250>,\n",
       "  <praw.objects.Comment at 0x1077c4490>,\n",
       "  <praw.objects.Comment at 0x1077c4850>,\n",
       "  <praw.objects.Comment at 0x1077c49d0>],\n",
       " [<praw.objects.Comment at 0x1077d0290>,\n",
       "  <praw.objects.Comment at 0x1077d0350>,\n",
       "  <praw.objects.Comment at 0x1077d04d0>,\n",
       "  <praw.objects.Comment at 0x1077d0650>,\n",
       "  <praw.objects.Comment at 0x1077d0710>,\n",
       "  <praw.objects.Comment at 0x1077d0890>,\n",
       "  <praw.objects.Comment at 0x1077d0ad0>],\n",
       " [<praw.objects.Comment at 0x1079076d0>],\n",
       " [<praw.objects.Comment at 0x107907f90>,\n",
       "  <praw.objects.Comment at 0x107912090>],\n",
       " [<praw.objects.Comment at 0x107912950>,\n",
       "  <praw.objects.Comment at 0x107912a10>,\n",
       "  <praw.objects.Comment at 0x107912ad0>,\n",
       "  <praw.objects.Comment at 0x107912b90>],\n",
       " [],\n",
       " [],\n",
       " [<praw.objects.Comment at 0x1079224d0>]]"
      ]
     },
     "execution_count": 27,
     "metadata": {},
     "output_type": "execute_result"
    }
   ],
   "source": [
    "[x.comments for x in submissions]"
   ]
  },
  {
   "cell_type": "code",
   "execution_count": 13,
   "metadata": {
    "collapsed": false
   },
   "outputs": [
    {
     "ename": "TypeError",
     "evalue": "'generator' object has no attribute '__getitem__'",
     "output_type": "error",
     "traceback": [
      "\u001b[0;31m---------------------------------------------------------------------------\u001b[0m",
      "\u001b[0;31mTypeError\u001b[0m                                 Traceback (most recent call last)",
      "\u001b[0;32m<ipython-input-13-73c6e9eab584>\u001b[0m in \u001b[0;36m<module>\u001b[0;34m()\u001b[0m\n\u001b[0;32m----> 1\u001b[0;31m \u001b[0mdir\u001b[0m\u001b[0;34m(\u001b[0m\u001b[0msubmissions\u001b[0m\u001b[0;34m[\u001b[0m\u001b[0;36m0\u001b[0m\u001b[0;34m]\u001b[0m\u001b[0;34m)\u001b[0m\u001b[0;34m\u001b[0m\u001b[0m\n\u001b[0m",
      "\u001b[0;31mTypeError\u001b[0m: 'generator' object has no attribute '__getitem__'"
     ]
    }
   ],
   "source": [
    "dir(submissions[0])"
   ]
  },
  {
   "cell_type": "code",
   "execution_count": null,
   "metadata": {
    "collapsed": true
   },
   "outputs": [],
   "source": []
  }
 ],
 "metadata": {
  "kernelspec": {
   "display_name": "Python 2",
   "language": "python",
   "name": "python2"
  },
  "language_info": {
   "codemirror_mode": {
    "name": "ipython",
    "version": 2
   },
   "file_extension": ".py",
   "mimetype": "text/x-python",
   "name": "python",
   "nbconvert_exporter": "python",
   "pygments_lexer": "ipython2",
   "version": "2.7.11"
  }
 },
 "nbformat": 4,
 "nbformat_minor": 0
}
