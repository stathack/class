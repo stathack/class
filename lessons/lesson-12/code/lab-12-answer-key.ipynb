{
 "cells": [
  {
   "cell_type": "markdown",
   "metadata": {},
   "source": [
    "# ATX-DAT-2 | Lab 12 | Answer Key"
   ]
  },
  {
   "cell_type": "code",
   "execution_count": 2,
   "metadata": {
    "collapsed": true
   },
   "outputs": [],
   "source": [
    "import os\n",
    "import numpy as np\n",
    "import pandas as pd\n",
    "import matplotlib.pyplot as plt\n",
    "from sklearn import tree, ensemble, metrics, cross_validation, externals\n",
    "\n",
    "pd.set_option('display.max_rows', 10)\n",
    "pd.set_option('display.notebook_repr_html', True)\n",
    "pd.set_option('display.max_columns', 10)\n",
    "\n",
    "%matplotlib inline\n",
    "plt.style.use('ggplot')"
   ]
  },
  {
   "cell_type": "markdown",
   "metadata": {},
   "source": [
    "Today we are revisiting the `boston` dataset from session 8."
   ]
  },
  {
   "cell_type": "markdown",
   "metadata": {},
   "source": [
    "## Dataset documentation"
   ]
  },
  {
   "cell_type": "markdown",
   "metadata": {},
   "source": [
    "The Boston dataset concerns itself with housing values in suburbs of Boston.  A description of the dataset is as follows:\n",
    "\n",
    "- CRIM: per capita crime rate by town\n",
    "- ZN: proportion of residential land zoned for lots over 25,000 sqft\n",
    "- INDUS: proportion of non-retail business acres per town\n",
    "- CHAS: Charles River dummy variable (= 1 if tract bounds river; 0 otherwise)\n",
    "- NOX: nitric oxides concentration (parts per 10 million)\n",
    "- RM: average number of rooms per dwelling\n",
    "- AGE: proportion of owner-occupied units built prior to 1940\n",
    "- DIS: weighted distances to five Boston employment centers\n",
    "- RAD: index of accessibility to radial highways\n",
    "- TAX: full-value property-tax rate (per ten thousands of dollars)\n",
    "- PTRATIO: pupil-teacher ratio by town\n",
    "- B: 1000(Bk - 0.63)^2 where Bk is the proportion of blacks by town\n",
    "- LSTAT: % lower status of the population\n",
    "- MEDV: Median value of owner-occupied homes (in thousands of dollars)"
   ]
  },
  {
   "cell_type": "markdown",
   "metadata": {},
   "source": [
    "## Optional: Installing Graphviz"
   ]
  },
  {
   "cell_type": "markdown",
   "metadata": {},
   "source": [
    "- Mac:\n",
    "  - Type `conda install graphviz` at the command line\n",
    "- Windows\n",
    "  - Download and install the MSI file: http://www.graphviz.org/Download_windows.php\n",
    "  - Add it to your Path: Go to Control Panel, System, Advanced System Settings, Environment Variables.  Under system variables,edit \"Path\" to include the path to the \"bin\" folder, such as: C:\\Program Files (x86)\\Graphviz2.38\\bin"
   ]
  },
  {
   "cell_type": "code",
   "execution_count": 10,
   "metadata": {
    "collapsed": false
   },
   "outputs": [
    {
     "ename": "ImportError",
     "evalue": "No module named gvmagic",
     "output_type": "error",
     "traceback": [
      "\u001b[0;31m---------------------------------------------------------------------------\u001b[0m",
      "\u001b[0;31mImportError\u001b[0m                               Traceback (most recent call last)",
      "\u001b[0;32m<ipython-input-10-3871f1e2792d>\u001b[0m in \u001b[0;36m<module>\u001b[0;34m()\u001b[0m\n\u001b[0;32m----> 1\u001b[0;31m \u001b[0mget_ipython\u001b[0m\u001b[0;34m(\u001b[0m\u001b[0;34m)\u001b[0m\u001b[0;34m.\u001b[0m\u001b[0mmagic\u001b[0m\u001b[0;34m(\u001b[0m\u001b[0;34mu'load_ext gvmagic'\u001b[0m\u001b[0;34m)\u001b[0m\u001b[0;34m\u001b[0m\u001b[0m\n\u001b[0m",
      "\u001b[0;32m/Users/chrisconnell/anaconda/lib/python2.7/site-packages/IPython/core/interactiveshell.pyc\u001b[0m in \u001b[0;36mmagic\u001b[0;34m(self, arg_s)\u001b[0m\n\u001b[1;32m   2161\u001b[0m         \u001b[0mmagic_name\u001b[0m\u001b[0;34m,\u001b[0m \u001b[0m_\u001b[0m\u001b[0;34m,\u001b[0m \u001b[0mmagic_arg_s\u001b[0m \u001b[0;34m=\u001b[0m \u001b[0marg_s\u001b[0m\u001b[0;34m.\u001b[0m\u001b[0mpartition\u001b[0m\u001b[0;34m(\u001b[0m\u001b[0;34m' '\u001b[0m\u001b[0;34m)\u001b[0m\u001b[0;34m\u001b[0m\u001b[0m\n\u001b[1;32m   2162\u001b[0m         \u001b[0mmagic_name\u001b[0m \u001b[0;34m=\u001b[0m \u001b[0mmagic_name\u001b[0m\u001b[0;34m.\u001b[0m\u001b[0mlstrip\u001b[0m\u001b[0;34m(\u001b[0m\u001b[0mprefilter\u001b[0m\u001b[0;34m.\u001b[0m\u001b[0mESC_MAGIC\u001b[0m\u001b[0;34m)\u001b[0m\u001b[0;34m\u001b[0m\u001b[0m\n\u001b[0;32m-> 2163\u001b[0;31m         \u001b[0;32mreturn\u001b[0m \u001b[0mself\u001b[0m\u001b[0;34m.\u001b[0m\u001b[0mrun_line_magic\u001b[0m\u001b[0;34m(\u001b[0m\u001b[0mmagic_name\u001b[0m\u001b[0;34m,\u001b[0m \u001b[0mmagic_arg_s\u001b[0m\u001b[0;34m)\u001b[0m\u001b[0;34m\u001b[0m\u001b[0m\n\u001b[0m\u001b[1;32m   2164\u001b[0m \u001b[0;34m\u001b[0m\u001b[0m\n\u001b[1;32m   2165\u001b[0m     \u001b[0;31m#-------------------------------------------------------------------------\u001b[0m\u001b[0;34m\u001b[0m\u001b[0;34m\u001b[0m\u001b[0m\n",
      "\u001b[0;32m/Users/chrisconnell/anaconda/lib/python2.7/site-packages/IPython/core/interactiveshell.pyc\u001b[0m in \u001b[0;36mrun_line_magic\u001b[0;34m(self, magic_name, line)\u001b[0m\n\u001b[1;32m   2082\u001b[0m                 \u001b[0mkwargs\u001b[0m\u001b[0;34m[\u001b[0m\u001b[0;34m'local_ns'\u001b[0m\u001b[0;34m]\u001b[0m \u001b[0;34m=\u001b[0m \u001b[0msys\u001b[0m\u001b[0;34m.\u001b[0m\u001b[0m_getframe\u001b[0m\u001b[0;34m(\u001b[0m\u001b[0mstack_depth\u001b[0m\u001b[0;34m)\u001b[0m\u001b[0;34m.\u001b[0m\u001b[0mf_locals\u001b[0m\u001b[0;34m\u001b[0m\u001b[0m\n\u001b[1;32m   2083\u001b[0m             \u001b[0;32mwith\u001b[0m \u001b[0mself\u001b[0m\u001b[0;34m.\u001b[0m\u001b[0mbuiltin_trap\u001b[0m\u001b[0;34m:\u001b[0m\u001b[0;34m\u001b[0m\u001b[0m\n\u001b[0;32m-> 2084\u001b[0;31m                 \u001b[0mresult\u001b[0m \u001b[0;34m=\u001b[0m \u001b[0mfn\u001b[0m\u001b[0;34m(\u001b[0m\u001b[0;34m*\u001b[0m\u001b[0margs\u001b[0m\u001b[0;34m,\u001b[0m\u001b[0;34m**\u001b[0m\u001b[0mkwargs\u001b[0m\u001b[0;34m)\u001b[0m\u001b[0;34m\u001b[0m\u001b[0m\n\u001b[0m\u001b[1;32m   2085\u001b[0m             \u001b[0;32mreturn\u001b[0m \u001b[0mresult\u001b[0m\u001b[0;34m\u001b[0m\u001b[0m\n\u001b[1;32m   2086\u001b[0m \u001b[0;34m\u001b[0m\u001b[0m\n",
      "\u001b[0;32m<decorator-gen-64>\u001b[0m in \u001b[0;36mload_ext\u001b[0;34m(self, module_str)\u001b[0m\n",
      "\u001b[0;32m/Users/chrisconnell/anaconda/lib/python2.7/site-packages/IPython/core/magic.pyc\u001b[0m in \u001b[0;36m<lambda>\u001b[0;34m(f, *a, **k)\u001b[0m\n\u001b[1;32m    191\u001b[0m     \u001b[0;31m# but it's overkill for just that one bit of state.\u001b[0m\u001b[0;34m\u001b[0m\u001b[0;34m\u001b[0m\u001b[0m\n\u001b[1;32m    192\u001b[0m     \u001b[0;32mdef\u001b[0m \u001b[0mmagic_deco\u001b[0m\u001b[0;34m(\u001b[0m\u001b[0marg\u001b[0m\u001b[0;34m)\u001b[0m\u001b[0;34m:\u001b[0m\u001b[0;34m\u001b[0m\u001b[0m\n\u001b[0;32m--> 193\u001b[0;31m         \u001b[0mcall\u001b[0m \u001b[0;34m=\u001b[0m \u001b[0;32mlambda\u001b[0m \u001b[0mf\u001b[0m\u001b[0;34m,\u001b[0m \u001b[0;34m*\u001b[0m\u001b[0ma\u001b[0m\u001b[0;34m,\u001b[0m \u001b[0;34m**\u001b[0m\u001b[0mk\u001b[0m\u001b[0;34m:\u001b[0m \u001b[0mf\u001b[0m\u001b[0;34m(\u001b[0m\u001b[0;34m*\u001b[0m\u001b[0ma\u001b[0m\u001b[0;34m,\u001b[0m \u001b[0;34m**\u001b[0m\u001b[0mk\u001b[0m\u001b[0;34m)\u001b[0m\u001b[0;34m\u001b[0m\u001b[0m\n\u001b[0m\u001b[1;32m    194\u001b[0m \u001b[0;34m\u001b[0m\u001b[0m\n\u001b[1;32m    195\u001b[0m         \u001b[0;32mif\u001b[0m \u001b[0mcallable\u001b[0m\u001b[0;34m(\u001b[0m\u001b[0marg\u001b[0m\u001b[0;34m)\u001b[0m\u001b[0;34m:\u001b[0m\u001b[0;34m\u001b[0m\u001b[0m\n",
      "\u001b[0;32m/Users/chrisconnell/anaconda/lib/python2.7/site-packages/IPython/core/magics/extension.pyc\u001b[0m in \u001b[0;36mload_ext\u001b[0;34m(self, module_str)\u001b[0m\n\u001b[1;32m     64\u001b[0m         \u001b[0;32mif\u001b[0m \u001b[0;32mnot\u001b[0m \u001b[0mmodule_str\u001b[0m\u001b[0;34m:\u001b[0m\u001b[0;34m\u001b[0m\u001b[0m\n\u001b[1;32m     65\u001b[0m             \u001b[0;32mraise\u001b[0m \u001b[0mUsageError\u001b[0m\u001b[0;34m(\u001b[0m\u001b[0;34m'Missing module name.'\u001b[0m\u001b[0;34m)\u001b[0m\u001b[0;34m\u001b[0m\u001b[0m\n\u001b[0;32m---> 66\u001b[0;31m         \u001b[0mres\u001b[0m \u001b[0;34m=\u001b[0m \u001b[0mself\u001b[0m\u001b[0;34m.\u001b[0m\u001b[0mshell\u001b[0m\u001b[0;34m.\u001b[0m\u001b[0mextension_manager\u001b[0m\u001b[0;34m.\u001b[0m\u001b[0mload_extension\u001b[0m\u001b[0;34m(\u001b[0m\u001b[0mmodule_str\u001b[0m\u001b[0;34m)\u001b[0m\u001b[0;34m\u001b[0m\u001b[0m\n\u001b[0m\u001b[1;32m     67\u001b[0m \u001b[0;34m\u001b[0m\u001b[0m\n\u001b[1;32m     68\u001b[0m         \u001b[0;32mif\u001b[0m \u001b[0mres\u001b[0m \u001b[0;34m==\u001b[0m \u001b[0;34m'already loaded'\u001b[0m\u001b[0;34m:\u001b[0m\u001b[0;34m\u001b[0m\u001b[0m\n",
      "\u001b[0;32m/Users/chrisconnell/anaconda/lib/python2.7/site-packages/IPython/core/extensions.pyc\u001b[0m in \u001b[0;36mload_extension\u001b[0;34m(self, module_str)\u001b[0m\n\u001b[1;32m     82\u001b[0m             \u001b[0;32mif\u001b[0m \u001b[0mmodule_str\u001b[0m \u001b[0;32mnot\u001b[0m \u001b[0;32min\u001b[0m \u001b[0msys\u001b[0m\u001b[0;34m.\u001b[0m\u001b[0mmodules\u001b[0m\u001b[0;34m:\u001b[0m\u001b[0;34m\u001b[0m\u001b[0m\n\u001b[1;32m     83\u001b[0m                 \u001b[0;32mwith\u001b[0m \u001b[0mprepended_to_syspath\u001b[0m\u001b[0;34m(\u001b[0m\u001b[0mself\u001b[0m\u001b[0;34m.\u001b[0m\u001b[0mipython_extension_dir\u001b[0m\u001b[0;34m)\u001b[0m\u001b[0;34m:\u001b[0m\u001b[0;34m\u001b[0m\u001b[0m\n\u001b[0;32m---> 84\u001b[0;31m                     \u001b[0m__import__\u001b[0m\u001b[0;34m(\u001b[0m\u001b[0mmodule_str\u001b[0m\u001b[0;34m)\u001b[0m\u001b[0;34m\u001b[0m\u001b[0m\n\u001b[0m\u001b[1;32m     85\u001b[0m             \u001b[0mmod\u001b[0m \u001b[0;34m=\u001b[0m \u001b[0msys\u001b[0m\u001b[0;34m.\u001b[0m\u001b[0mmodules\u001b[0m\u001b[0;34m[\u001b[0m\u001b[0mmodule_str\u001b[0m\u001b[0;34m]\u001b[0m\u001b[0;34m\u001b[0m\u001b[0m\n\u001b[1;32m     86\u001b[0m             \u001b[0;32mif\u001b[0m \u001b[0mself\u001b[0m\u001b[0;34m.\u001b[0m\u001b[0m_call_load_ipython_extension\u001b[0m\u001b[0;34m(\u001b[0m\u001b[0mmod\u001b[0m\u001b[0;34m)\u001b[0m\u001b[0;34m:\u001b[0m\u001b[0;34m\u001b[0m\u001b[0m\n",
      "\u001b[0;31mImportError\u001b[0m: No module named gvmagic"
     ]
    }
   ],
   "source": [
    "%load_ext gvmagic"
   ]
  },
  {
   "cell_type": "code",
   "execution_count": 3,
   "metadata": {
    "collapsed": true
   },
   "outputs": [],
   "source": [
    "df = pd.read_csv(os.path.join('..', 'datasets', 'boston.csv'))"
   ]
  },
  {
   "cell_type": "code",
   "execution_count": 4,
   "metadata": {
    "collapsed": false
   },
   "outputs": [
    {
     "data": {
      "text/html": [
       "<div>\n",
       "<table border=\"1\" class=\"dataframe\">\n",
       "  <thead>\n",
       "    <tr style=\"text-align: right;\">\n",
       "      <th></th>\n",
       "      <th>CRIM</th>\n",
       "      <th>ZN</th>\n",
       "      <th>INDUS</th>\n",
       "      <th>CHAS</th>\n",
       "      <th>NOX</th>\n",
       "      <th>...</th>\n",
       "      <th>TAX</th>\n",
       "      <th>PTRATIO</th>\n",
       "      <th>BLACK</th>\n",
       "      <th>LSTAT</th>\n",
       "      <th>MEDV</th>\n",
       "    </tr>\n",
       "  </thead>\n",
       "  <tbody>\n",
       "    <tr>\n",
       "      <th>0</th>\n",
       "      <td>0.00632</td>\n",
       "      <td>18</td>\n",
       "      <td>2.31</td>\n",
       "      <td>0</td>\n",
       "      <td>0.538</td>\n",
       "      <td>...</td>\n",
       "      <td>296</td>\n",
       "      <td>15.3</td>\n",
       "      <td>396.90</td>\n",
       "      <td>4.98</td>\n",
       "      <td>24.0</td>\n",
       "    </tr>\n",
       "    <tr>\n",
       "      <th>1</th>\n",
       "      <td>0.02731</td>\n",
       "      <td>0</td>\n",
       "      <td>7.07</td>\n",
       "      <td>0</td>\n",
       "      <td>0.469</td>\n",
       "      <td>...</td>\n",
       "      <td>242</td>\n",
       "      <td>17.8</td>\n",
       "      <td>396.90</td>\n",
       "      <td>9.14</td>\n",
       "      <td>21.6</td>\n",
       "    </tr>\n",
       "    <tr>\n",
       "      <th>2</th>\n",
       "      <td>0.02729</td>\n",
       "      <td>0</td>\n",
       "      <td>7.07</td>\n",
       "      <td>0</td>\n",
       "      <td>0.469</td>\n",
       "      <td>...</td>\n",
       "      <td>242</td>\n",
       "      <td>17.8</td>\n",
       "      <td>392.83</td>\n",
       "      <td>4.03</td>\n",
       "      <td>34.7</td>\n",
       "    </tr>\n",
       "    <tr>\n",
       "      <th>3</th>\n",
       "      <td>0.03237</td>\n",
       "      <td>0</td>\n",
       "      <td>2.18</td>\n",
       "      <td>0</td>\n",
       "      <td>0.458</td>\n",
       "      <td>...</td>\n",
       "      <td>222</td>\n",
       "      <td>18.7</td>\n",
       "      <td>394.63</td>\n",
       "      <td>2.94</td>\n",
       "      <td>33.4</td>\n",
       "    </tr>\n",
       "    <tr>\n",
       "      <th>4</th>\n",
       "      <td>0.06905</td>\n",
       "      <td>0</td>\n",
       "      <td>2.18</td>\n",
       "      <td>0</td>\n",
       "      <td>0.458</td>\n",
       "      <td>...</td>\n",
       "      <td>222</td>\n",
       "      <td>18.7</td>\n",
       "      <td>396.90</td>\n",
       "      <td>5.33</td>\n",
       "      <td>36.2</td>\n",
       "    </tr>\n",
       "  </tbody>\n",
       "</table>\n",
       "<p>5 rows × 14 columns</p>\n",
       "</div>"
      ],
      "text/plain": [
       "      CRIM  ZN  INDUS  CHAS    NOX  ...   TAX  PTRATIO   BLACK  LSTAT  MEDV\n",
       "0  0.00632  18   2.31     0  0.538  ...   296     15.3  396.90   4.98  24.0\n",
       "1  0.02731   0   7.07     0  0.469  ...   242     17.8  396.90   9.14  21.6\n",
       "2  0.02729   0   7.07     0  0.469  ...   242     17.8  392.83   4.03  34.7\n",
       "3  0.03237   0   2.18     0  0.458  ...   222     18.7  394.63   2.94  33.4\n",
       "4  0.06905   0   2.18     0  0.458  ...   222     18.7  396.90   5.33  36.2\n",
       "\n",
       "[5 rows x 14 columns]"
      ]
     },
     "execution_count": 4,
     "metadata": {},
     "output_type": "execute_result"
    }
   ],
   "source": [
    "df.head()"
   ]
  },
  {
   "cell_type": "code",
   "execution_count": 5,
   "metadata": {
    "collapsed": false
   },
   "outputs": [
    {
     "data": {
      "text/plain": [
       "Index([u'CRIM', u'ZN', u'INDUS', u'CHAS', u'NOX', u'RM', u'AGE', u'DIS',\n",
       "       u'RAD', u'TAX', u'PTRATIO', u'BLACK', u'LSTAT', u'MEDV'],\n",
       "      dtype='object')"
      ]
     },
     "execution_count": 5,
     "metadata": {},
     "output_type": "execute_result"
    }
   ],
   "source": [
    "df.columns"
   ]
  },
  {
   "cell_type": "markdown",
   "metadata": {},
   "source": [
    "## Part A - Regression Decision Trees"
   ]
  },
  {
   "cell_type": "markdown",
   "metadata": {},
   "source": [
    "### Question 1: Create a feature matrix `X` with all features but `MEDV`.  Also create a response vector `y` with `MEDV`"
   ]
  },
  {
   "cell_type": "code",
   "execution_count": 6,
   "metadata": {
    "collapsed": true
   },
   "outputs": [],
   "source": [
    "X = df[df.columns.values]\n",
    "X.drop('MEDV', axis = 1, inplace = True)\n",
    "\n",
    "y = df.MEDV"
   ]
  },
  {
   "cell_type": "markdown",
   "metadata": {},
   "source": [
    "### Question 2: Split the dataset into a training and testing sets (60%, 40%)"
   ]
  },
  {
   "cell_type": "code",
   "execution_count": 7,
   "metadata": {
    "collapsed": true
   },
   "outputs": [],
   "source": [
    "train_X, test_X, train_y, test_y = cross_validation.train_test_split(X, y, test_size = 0.4)"
   ]
  },
  {
   "cell_type": "markdown",
   "metadata": {},
   "source": [
    "### Question 3: Create a decision tree (`tree.DecisionTreeRegressor`) and train the model"
   ]
  },
  {
   "cell_type": "markdown",
   "metadata": {},
   "source": [
    "(Check http://scikit-learn.org/stable/modules/generated/sklearn.tree.DecisionTreeRegressor.html as needed)"
   ]
  },
  {
   "cell_type": "code",
   "execution_count": 8,
   "metadata": {
    "collapsed": false
   },
   "outputs": [
    {
     "data": {
      "text/plain": [
       "DecisionTreeRegressor(criterion='mse', max_depth=None, max_features=None,\n",
       "           max_leaf_nodes=None, min_samples_leaf=1, min_samples_split=2,\n",
       "           min_weight_fraction_leaf=0.0, random_state=None,\n",
       "           splitter='best')"
      ]
     },
     "execution_count": 8,
     "metadata": {},
     "output_type": "execute_result"
    }
   ],
   "source": [
    "model = tree.DecisionTreeRegressor()\n",
    "model.fit(train_X, train_y)"
   ]
  },
  {
   "cell_type": "markdown",
   "metadata": {},
   "source": [
    "### Question 4: What are the training and testing errors?"
   ]
  },
  {
   "cell_type": "markdown",
   "metadata": {},
   "source": [
    "(Check http://scikit-learn.org/stable/modules/generated/sklearn.metrics.mean_squared_error.html as needed)"
   ]
  },
  {
   "cell_type": "code",
   "execution_count": 9,
   "metadata": {
    "collapsed": false
   },
   "outputs": [
    {
     "name": "stdout",
     "output_type": "stream",
     "text": [
      "0.0\n",
      "4.864919159\n"
     ]
    }
   ],
   "source": [
    "train_y_hat = model.predict(train_X)\n",
    "print np.sqrt(metrics.mean_squared_error(train_y, train_y_hat))\n",
    "\n",
    "test_y_hat = model.predict(test_X)\n",
    "print np.sqrt(metrics.mean_squared_error(test_y, test_y_hat))"
   ]
  },
  {
   "cell_type": "markdown",
   "metadata": {},
   "source": [
    "Answer: .0 (training) and 5.48 (testing)"
   ]
  },
  {
   "cell_type": "markdown",
   "metadata": {},
   "source": [
    "### Question 5: Retrain your model limiting the depth of the tree to 4"
   ]
  },
  {
   "cell_type": "code",
   "execution_count": 10,
   "metadata": {
    "collapsed": false
   },
   "outputs": [
    {
     "data": {
      "text/plain": [
       "DecisionTreeRegressor(criterion='mse', max_depth=4, max_features=None,\n",
       "           max_leaf_nodes=None, min_samples_leaf=1, min_samples_split=2,\n",
       "           min_weight_fraction_leaf=0.0, random_state=None,\n",
       "           splitter='best')"
      ]
     },
     "execution_count": 10,
     "metadata": {},
     "output_type": "execute_result"
    }
   ],
   "source": [
    "model = tree.DecisionTreeRegressor(max_depth = 4)\n",
    "model.fit(train_X, train_y)"
   ]
  },
  {
   "cell_type": "markdown",
   "metadata": {},
   "source": [
    "### Question 6: Display graphically your model"
   ]
  },
  {
   "cell_type": "code",
   "execution_count": 11,
   "metadata": {
    "collapsed": false
   },
   "outputs": [
    {
     "data": {
      "image/svg+xml": [
       "<?xml version=\"1.0\" encoding=\"UTF-8\" standalone=\"no\"?>\r\n",
       "<!DOCTYPE svg PUBLIC \"-//W3C//DTD SVG 1.1//EN\"\r\n",
       " \"http://www.w3.org/Graphics/SVG/1.1/DTD/svg11.dtd\">\r\n",
       "<!-- Generated by graphviz version 2.38.0 (20140413.2041)\r\n",
       " -->\r\n",
       "<!-- Title: Tree Pages: 1 -->\r\n",
       "<svg width=\"2226pt\" height=\"417pt\"\r\n",
       " viewBox=\"0.00 0.00 2225.50 417.00\" xmlns=\"http://www.w3.org/2000/svg\" xmlns:xlink=\"http://www.w3.org/1999/xlink\">\r\n",
       "<g id=\"graph0\" class=\"graph\" transform=\"scale(1 1) rotate(0) translate(4 413)\">\r\n",
       "<title>Tree</title>\r\n",
       "<polygon fill=\"white\" stroke=\"none\" points=\"-4,4 -4,-413 2221.5,-413 2221.5,4 -4,4\"/>\r\n",
       "<!-- 0 -->\r\n",
       "<g id=\"node1\" class=\"node\"><title>0</title>\r\n",
       "<polygon fill=\"none\" stroke=\"black\" points=\"1141,-409 1001,-409 1001,-356 1141,-356 1141,-409\"/>\r\n",
       "<text text-anchor=\"middle\" x=\"1071\" y=\"-393.8\" font-family=\"Times New Roman,serif\" font-size=\"14.00\">LSTAT &lt;= 9.7150</text>\r\n",
       "<text text-anchor=\"middle\" x=\"1071\" y=\"-378.8\" font-family=\"Times New Roman,serif\" font-size=\"14.00\">mse = 78.6572560424</text>\r\n",
       "<text text-anchor=\"middle\" x=\"1071\" y=\"-363.8\" font-family=\"Times New Roman,serif\" font-size=\"14.00\">samples = 303</text>\r\n",
       "</g>\r\n",
       "<!-- 1 -->\r\n",
       "<g id=\"node2\" class=\"node\"><title>1</title>\r\n",
       "<polygon fill=\"none\" stroke=\"black\" points=\"859,-320 719,-320 719,-267 859,-267 859,-320\"/>\r\n",
       "<text text-anchor=\"middle\" x=\"789\" y=\"-304.8\" font-family=\"Times New Roman,serif\" font-size=\"14.00\">LSTAT &lt;= 4.6600</text>\r\n",
       "<text text-anchor=\"middle\" x=\"789\" y=\"-289.8\" font-family=\"Times New Roman,serif\" font-size=\"14.00\">mse = 67.2129373824</text>\r\n",
       "<text text-anchor=\"middle\" x=\"789\" y=\"-274.8\" font-family=\"Times New Roman,serif\" font-size=\"14.00\">samples = 122</text>\r\n",
       "</g>\r\n",
       "<!-- 0&#45;&gt;1 -->\r\n",
       "<g id=\"edge1\" class=\"edge\"><title>0&#45;&gt;1</title>\r\n",
       "<path fill=\"none\" stroke=\"black\" d=\"M1000.93,-359.883C960.827,-347.51 910.372,-331.945 868.754,-319.105\"/>\r\n",
       "<polygon fill=\"black\" stroke=\"black\" points=\"869.786,-315.761 859.198,-316.157 867.722,-322.449 869.786,-315.761\"/>\r\n",
       "</g>\r\n",
       "<!-- 16 -->\r\n",
       "<g id=\"node17\" class=\"node\"><title>16</title>\r\n",
       "<polygon fill=\"none\" stroke=\"black\" points=\"1429,-320 1289,-320 1289,-267 1429,-267 1429,-320\"/>\r\n",
       "<text text-anchor=\"middle\" x=\"1359\" y=\"-304.8\" font-family=\"Times New Roman,serif\" font-size=\"14.00\">LSTAT &lt;= 16.0850</text>\r\n",
       "<text text-anchor=\"middle\" x=\"1359\" y=\"-289.8\" font-family=\"Times New Roman,serif\" font-size=\"14.00\">mse = 23.2406642044</text>\r\n",
       "<text text-anchor=\"middle\" x=\"1359\" y=\"-274.8\" font-family=\"Times New Roman,serif\" font-size=\"14.00\">samples = 181</text>\r\n",
       "</g>\r\n",
       "<!-- 0&#45;&gt;16 -->\r\n",
       "<g id=\"edge16\" class=\"edge\"><title>0&#45;&gt;16</title>\r\n",
       "<path fill=\"none\" stroke=\"black\" d=\"M1141.08,-360.329C1182.72,-347.75 1235.68,-331.754 1278.96,-318.68\"/>\r\n",
       "<polygon fill=\"black\" stroke=\"black\" points=\"1280.04,-322.009 1288.6,-315.766 1278.02,-315.308 1280.04,-322.009\"/>\r\n",
       "</g>\r\n",
       "<!-- 2 -->\r\n",
       "<g id=\"node3\" class=\"node\"><title>2</title>\r\n",
       "<polygon fill=\"none\" stroke=\"black\" points=\"471,-231 331,-231 331,-178 471,-178 471,-231\"/>\r\n",
       "<text text-anchor=\"middle\" x=\"401\" y=\"-215.8\" font-family=\"Times New Roman,serif\" font-size=\"14.00\">DIS &lt;= 3.9580</text>\r\n",
       "<text text-anchor=\"middle\" x=\"401\" y=\"-200.8\" font-family=\"Times New Roman,serif\" font-size=\"14.00\">mse = 66.0189594173</text>\r\n",
       "<text text-anchor=\"middle\" x=\"401\" y=\"-185.8\" font-family=\"Times New Roman,serif\" font-size=\"14.00\">samples = 31</text>\r\n",
       "</g>\r\n",
       "<!-- 1&#45;&gt;2 -->\r\n",
       "<g id=\"edge2\" class=\"edge\"><title>1&#45;&gt;2</title>\r\n",
       "<path fill=\"none\" stroke=\"black\" d=\"M718.736,-276.745C651.818,-261.74 551.188,-239.176 481.169,-223.476\"/>\r\n",
       "<polygon fill=\"black\" stroke=\"black\" points=\"481.592,-219.984 471.068,-221.211 480.06,-226.814 481.592,-219.984\"/>\r\n",
       "</g>\r\n",
       "<!-- 9 -->\r\n",
       "<g id=\"node10\" class=\"node\"><title>9</title>\r\n",
       "<polygon fill=\"none\" stroke=\"black\" points=\"859,-231 719,-231 719,-178 859,-178 859,-231\"/>\r\n",
       "<text text-anchor=\"middle\" x=\"789\" y=\"-215.8\" font-family=\"Times New Roman,serif\" font-size=\"14.00\">RM &lt;= 6.7905</text>\r\n",
       "<text text-anchor=\"middle\" x=\"789\" y=\"-200.8\" font-family=\"Times New Roman,serif\" font-size=\"14.00\">mse = 29.5905977539</text>\r\n",
       "<text text-anchor=\"middle\" x=\"789\" y=\"-185.8\" font-family=\"Times New Roman,serif\" font-size=\"14.00\">samples = 91</text>\r\n",
       "</g>\r\n",
       "<!-- 1&#45;&gt;9 -->\r\n",
       "<g id=\"edge9\" class=\"edge\"><title>1&#45;&gt;9</title>\r\n",
       "<path fill=\"none\" stroke=\"black\" d=\"M789,-266.868C789,-258.886 789,-249.932 789,-241.384\"/>\r\n",
       "<polygon fill=\"black\" stroke=\"black\" points=\"792.5,-241.25 789,-231.25 785.5,-241.25 792.5,-241.25\"/>\r\n",
       "</g>\r\n",
       "<!-- 3 -->\r\n",
       "<g id=\"node4\" class=\"node\"><title>3</title>\r\n",
       "<polygon fill=\"none\" stroke=\"black\" points=\"259,-142 119,-142 119,-89 259,-89 259,-142\"/>\r\n",
       "<text text-anchor=\"middle\" x=\"189\" y=\"-126.8\" font-family=\"Times New Roman,serif\" font-size=\"14.00\">AGE &lt;= 29.1500</text>\r\n",
       "<text text-anchor=\"middle\" x=\"189\" y=\"-111.8\" font-family=\"Times New Roman,serif\" font-size=\"14.00\">mse = 27.1851530612</text>\r\n",
       "<text text-anchor=\"middle\" x=\"189\" y=\"-96.8\" font-family=\"Times New Roman,serif\" font-size=\"14.00\">samples = 14</text>\r\n",
       "</g>\r\n",
       "<!-- 2&#45;&gt;3 -->\r\n",
       "<g id=\"edge3\" class=\"edge\"><title>2&#45;&gt;3</title>\r\n",
       "<path fill=\"none\" stroke=\"black\" d=\"M338.825,-177.985C314.341,-167.937 286.071,-156.336 260.729,-145.936\"/>\r\n",
       "<polygon fill=\"black\" stroke=\"black\" points=\"261.754,-142.573 251.173,-142.015 259.096,-149.049 261.754,-142.573\"/>\r\n",
       "</g>\r\n",
       "<!-- 6 -->\r\n",
       "<g id=\"node7\" class=\"node\"><title>6</title>\r\n",
       "<polygon fill=\"none\" stroke=\"black\" points=\"471,-142 331,-142 331,-89 471,-89 471,-142\"/>\r\n",
       "<text text-anchor=\"middle\" x=\"401\" y=\"-126.8\" font-family=\"Times New Roman,serif\" font-size=\"14.00\">RM &lt;= 7.3975</text>\r\n",
       "<text text-anchor=\"middle\" x=\"401\" y=\"-111.8\" font-family=\"Times New Roman,serif\" font-size=\"14.00\">mse = 20.2247750865</text>\r\n",
       "<text text-anchor=\"middle\" x=\"401\" y=\"-96.8\" font-family=\"Times New Roman,serif\" font-size=\"14.00\">samples = 17</text>\r\n",
       "</g>\r\n",
       "<!-- 2&#45;&gt;6 -->\r\n",
       "<g id=\"edge6\" class=\"edge\"><title>2&#45;&gt;6</title>\r\n",
       "<path fill=\"none\" stroke=\"black\" d=\"M401,-177.868C401,-169.886 401,-160.932 401,-152.384\"/>\r\n",
       "<polygon fill=\"black\" stroke=\"black\" points=\"404.5,-152.25 401,-142.25 397.5,-152.25 404.5,-152.25\"/>\r\n",
       "</g>\r\n",
       "<!-- 4 -->\r\n",
       "<g id=\"node5\" class=\"node\"><title>4</title>\r\n",
       "<polygon fill=\"none\" stroke=\"black\" points=\"98,-53 0,-53 0,-0 98,-0 98,-53\"/>\r\n",
       "<text text-anchor=\"middle\" x=\"49\" y=\"-37.8\" font-family=\"Times New Roman,serif\" font-size=\"14.00\">mse = 0.0000</text>\r\n",
       "<text text-anchor=\"middle\" x=\"49\" y=\"-22.8\" font-family=\"Times New Roman,serif\" font-size=\"14.00\">samples = 1</text>\r\n",
       "<text text-anchor=\"middle\" x=\"49\" y=\"-7.8\" font-family=\"Times New Roman,serif\" font-size=\"14.00\">value = [ 31.5]</text>\r\n",
       "</g>\r\n",
       "<!-- 3&#45;&gt;4 -->\r\n",
       "<g id=\"edge4\" class=\"edge\"><title>3&#45;&gt;4</title>\r\n",
       "<path fill=\"none\" stroke=\"black\" d=\"M147.753,-88.8677C132.508,-79.3945 115.062,-68.5529 99.1169,-58.6441\"/>\r\n",
       "<polygon fill=\"black\" stroke=\"black\" points=\"100.777,-55.5552 90.4364,-53.2497 97.0826,-61.5007 100.777,-55.5552\"/>\r\n",
       "</g>\r\n",
       "<!-- 5 -->\r\n",
       "<g id=\"node6\" class=\"node\"><title>5</title>\r\n",
       "<polygon fill=\"none\" stroke=\"black\" points=\"261.5,-53 116.5,-53 116.5,-0 261.5,-0 261.5,-53\"/>\r\n",
       "<text text-anchor=\"middle\" x=\"189\" y=\"-37.8\" font-family=\"Times New Roman,serif\" font-size=\"14.00\">mse = 11.7044</text>\r\n",
       "<text text-anchor=\"middle\" x=\"189\" y=\"-22.8\" font-family=\"Times New Roman,serif\" font-size=\"14.00\">samples = 13</text>\r\n",
       "<text text-anchor=\"middle\" x=\"189\" y=\"-7.8\" font-family=\"Times New Roman,serif\" font-size=\"14.00\">value = [ 47.18461538]</text>\r\n",
       "</g>\r\n",
       "<!-- 3&#45;&gt;5 -->\r\n",
       "<g id=\"edge5\" class=\"edge\"><title>3&#45;&gt;5</title>\r\n",
       "<path fill=\"none\" stroke=\"black\" d=\"M189,-88.8677C189,-80.8856 189,-71.9321 189,-63.3836\"/>\r\n",
       "<polygon fill=\"black\" stroke=\"black\" points=\"192.5,-63.2497 189,-53.2497 185.5,-63.2498 192.5,-63.2497\"/>\r\n",
       "</g>\r\n",
       "<!-- 7 -->\r\n",
       "<g id=\"node8\" class=\"node\"><title>7</title>\r\n",
       "<polygon fill=\"none\" stroke=\"black\" points=\"384,-53 280,-53 280,-0 384,-0 384,-53\"/>\r\n",
       "<text text-anchor=\"middle\" x=\"332\" y=\"-37.8\" font-family=\"Times New Roman,serif\" font-size=\"14.00\">mse = 8.9611</text>\r\n",
       "<text text-anchor=\"middle\" x=\"332\" y=\"-22.8\" font-family=\"Times New Roman,serif\" font-size=\"14.00\">samples = 15</text>\r\n",
       "<text text-anchor=\"middle\" x=\"332\" y=\"-7.8\" font-family=\"Times New Roman,serif\" font-size=\"14.00\">value = [ 31.66]</text>\r\n",
       "</g>\r\n",
       "<!-- 6&#45;&gt;7 -->\r\n",
       "<g id=\"edge7\" class=\"edge\"><title>6&#45;&gt;7</title>\r\n",
       "<path fill=\"none\" stroke=\"black\" d=\"M380.671,-88.8677C373.784,-80.1839 365.985,-70.3503 358.68,-61.1394\"/>\r\n",
       "<polygon fill=\"black\" stroke=\"black\" points=\"361.378,-58.9099 352.422,-53.2497 355.894,-63.2596 361.378,-58.9099\"/>\r\n",
       "</g>\r\n",
       "<!-- 8 -->\r\n",
       "<g id=\"node9\" class=\"node\"><title>8</title>\r\n",
       "<polygon fill=\"none\" stroke=\"black\" points=\"506,-53 402,-53 402,-0 506,-0 506,-53\"/>\r\n",
       "<text text-anchor=\"middle\" x=\"454\" y=\"-37.8\" font-family=\"Times New Roman,serif\" font-size=\"14.00\">mse = 0.0625</text>\r\n",
       "<text text-anchor=\"middle\" x=\"454\" y=\"-22.8\" font-family=\"Times New Roman,serif\" font-size=\"14.00\">samples = 2</text>\r\n",
       "<text text-anchor=\"middle\" x=\"454\" y=\"-7.8\" font-family=\"Times New Roman,serif\" font-size=\"14.00\">value = [ 42.55]</text>\r\n",
       "</g>\r\n",
       "<!-- 6&#45;&gt;8 -->\r\n",
       "<g id=\"edge8\" class=\"edge\"><title>6&#45;&gt;8</title>\r\n",
       "<path fill=\"none\" stroke=\"black\" d=\"M416.615,-88.8677C421.745,-80.4471 427.533,-70.9453 432.996,-61.9784\"/>\r\n",
       "<polygon fill=\"black\" stroke=\"black\" points=\"436.1,-63.6108 438.313,-53.2497 430.122,-59.9689 436.1,-63.6108\"/>\r\n",
       "</g>\r\n",
       "<!-- 10 -->\r\n",
       "<g id=\"node11\" class=\"node\"><title>10</title>\r\n",
       "<polygon fill=\"none\" stroke=\"black\" points=\"777,-142 637,-142 637,-89 777,-89 777,-142\"/>\r\n",
       "<text text-anchor=\"middle\" x=\"707\" y=\"-126.8\" font-family=\"Times New Roman,serif\" font-size=\"14.00\">DIS &lt;= 1.3714</text>\r\n",
       "<text text-anchor=\"middle\" x=\"707\" y=\"-111.8\" font-family=\"Times New Roman,serif\" font-size=\"14.00\">mse = 18.6168278013</text>\r\n",
       "<text text-anchor=\"middle\" x=\"707\" y=\"-96.8\" font-family=\"Times New Roman,serif\" font-size=\"14.00\">samples = 67</text>\r\n",
       "</g>\r\n",
       "<!-- 9&#45;&gt;10 -->\r\n",
       "<g id=\"edge10\" class=\"edge\"><title>9&#45;&gt;10</title>\r\n",
       "<path fill=\"none\" stroke=\"black\" d=\"M764.841,-177.868C756.491,-169.008 747.013,-158.953 738.181,-149.582\"/>\r\n",
       "<polygon fill=\"black\" stroke=\"black\" points=\"740.676,-147.126 731.27,-142.25 735.582,-151.927 740.676,-147.126\"/>\r\n",
       "</g>\r\n",
       "<!-- 13 -->\r\n",
       "<g id=\"node14\" class=\"node\"><title>13</title>\r\n",
       "<polygon fill=\"none\" stroke=\"black\" points=\"940,-142 800,-142 800,-89 940,-89 940,-142\"/>\r\n",
       "<text text-anchor=\"middle\" x=\"870\" y=\"-126.8\" font-family=\"Times New Roman,serif\" font-size=\"14.00\">INDUS &lt;= 9.1700</text>\r\n",
       "<text text-anchor=\"middle\" x=\"870\" y=\"-111.8\" font-family=\"Times New Roman,serif\" font-size=\"14.00\">mse = 22.6220659722</text>\r\n",
       "<text text-anchor=\"middle\" x=\"870\" y=\"-96.8\" font-family=\"Times New Roman,serif\" font-size=\"14.00\">samples = 24</text>\r\n",
       "</g>\r\n",
       "<!-- 9&#45;&gt;13 -->\r\n",
       "<g id=\"edge13\" class=\"edge\"><title>9&#45;&gt;13</title>\r\n",
       "<path fill=\"none\" stroke=\"black\" d=\"M812.865,-177.868C821.113,-169.008 830.475,-158.953 839.2,-149.582\"/>\r\n",
       "<polygon fill=\"black\" stroke=\"black\" points=\"841.774,-151.954 846.026,-142.25 836.65,-147.184 841.774,-151.954\"/>\r\n",
       "</g>\r\n",
       "<!-- 11 -->\r\n",
       "<g id=\"node12\" class=\"node\"><title>11</title>\r\n",
       "<polygon fill=\"none\" stroke=\"black\" points=\"616,-53 524,-53 524,-0 616,-0 616,-53\"/>\r\n",
       "<text text-anchor=\"middle\" x=\"570\" y=\"-37.8\" font-family=\"Times New Roman,serif\" font-size=\"14.00\">mse = 0.0000</text>\r\n",
       "<text text-anchor=\"middle\" x=\"570\" y=\"-22.8\" font-family=\"Times New Roman,serif\" font-size=\"14.00\">samples = 1</text>\r\n",
       "<text text-anchor=\"middle\" x=\"570\" y=\"-7.8\" font-family=\"Times New Roman,serif\" font-size=\"14.00\">value = [ 50.]</text>\r\n",
       "</g>\r\n",
       "<!-- 10&#45;&gt;11 -->\r\n",
       "<g id=\"edge11\" class=\"edge\"><title>10&#45;&gt;11</title>\r\n",
       "<path fill=\"none\" stroke=\"black\" d=\"M666.636,-88.8677C651.719,-79.3945 634.647,-68.5529 619.043,-58.6441\"/>\r\n",
       "<polygon fill=\"black\" stroke=\"black\" points=\"620.866,-55.656 610.548,-53.2497 617.114,-61.5652 620.866,-55.656\"/>\r\n",
       "</g>\r\n",
       "<!-- 12 -->\r\n",
       "<g id=\"node13\" class=\"node\"><title>12</title>\r\n",
       "<polygon fill=\"none\" stroke=\"black\" points=\"779.5,-53 634.5,-53 634.5,-0 779.5,-0 779.5,-53\"/>\r\n",
       "<text text-anchor=\"middle\" x=\"707\" y=\"-37.8\" font-family=\"Times New Roman,serif\" font-size=\"14.00\">mse = 9.0919</text>\r\n",
       "<text text-anchor=\"middle\" x=\"707\" y=\"-22.8\" font-family=\"Times New Roman,serif\" font-size=\"14.00\">samples = 66</text>\r\n",
       "<text text-anchor=\"middle\" x=\"707\" y=\"-7.8\" font-family=\"Times New Roman,serif\" font-size=\"14.00\">value = [ 24.36666667]</text>\r\n",
       "</g>\r\n",
       "<!-- 10&#45;&gt;12 -->\r\n",
       "<g id=\"edge12\" class=\"edge\"><title>10&#45;&gt;12</title>\r\n",
       "<path fill=\"none\" stroke=\"black\" d=\"M707,-88.8677C707,-80.8856 707,-71.9321 707,-63.3836\"/>\r\n",
       "<polygon fill=\"black\" stroke=\"black\" points=\"710.5,-63.2497 707,-53.2497 703.5,-63.2498 710.5,-63.2497\"/>\r\n",
       "</g>\r\n",
       "<!-- 14 -->\r\n",
       "<g id=\"node15\" class=\"node\"><title>14</title>\r\n",
       "<polygon fill=\"none\" stroke=\"black\" points=\"942.5,-53 797.5,-53 797.5,-0 942.5,-0 942.5,-53\"/>\r\n",
       "<text text-anchor=\"middle\" x=\"870\" y=\"-37.8\" font-family=\"Times New Roman,serif\" font-size=\"14.00\">mse = 14.3825</text>\r\n",
       "<text text-anchor=\"middle\" x=\"870\" y=\"-22.8\" font-family=\"Times New Roman,serif\" font-size=\"14.00\">samples = 21</text>\r\n",
       "<text text-anchor=\"middle\" x=\"870\" y=\"-7.8\" font-family=\"Times New Roman,serif\" font-size=\"14.00\">value = [ 33.08095238]</text>\r\n",
       "</g>\r\n",
       "<!-- 13&#45;&gt;14 -->\r\n",
       "<g id=\"edge14\" class=\"edge\"><title>13&#45;&gt;14</title>\r\n",
       "<path fill=\"none\" stroke=\"black\" d=\"M870,-88.8677C870,-80.8856 870,-71.9321 870,-63.3836\"/>\r\n",
       "<polygon fill=\"black\" stroke=\"black\" points=\"873.5,-63.2497 870,-53.2497 866.5,-63.2498 873.5,-63.2497\"/>\r\n",
       "</g>\r\n",
       "<!-- 15 -->\r\n",
       "<g id=\"node16\" class=\"node\"><title>15</title>\r\n",
       "<polygon fill=\"none\" stroke=\"black\" points=\"1059,-53 961,-53 961,-0 1059,-0 1059,-53\"/>\r\n",
       "<text text-anchor=\"middle\" x=\"1010\" y=\"-37.8\" font-family=\"Times New Roman,serif\" font-size=\"14.00\">mse = 1.6467</text>\r\n",
       "<text text-anchor=\"middle\" x=\"1010\" y=\"-22.8\" font-family=\"Times New Roman,serif\" font-size=\"14.00\">samples = 3</text>\r\n",
       "<text text-anchor=\"middle\" x=\"1010\" y=\"-7.8\" font-family=\"Times New Roman,serif\" font-size=\"14.00\">value = [ 23.6]</text>\r\n",
       "</g>\r\n",
       "<!-- 13&#45;&gt;15 -->\r\n",
       "<g id=\"edge15\" class=\"edge\"><title>13&#45;&gt;15</title>\r\n",
       "<path fill=\"none\" stroke=\"black\" d=\"M911.247,-88.8677C926.492,-79.3945 943.938,-68.5529 959.883,-58.6441\"/>\r\n",
       "<polygon fill=\"black\" stroke=\"black\" points=\"961.917,-61.5007 968.564,-53.2497 958.223,-55.5552 961.917,-61.5007\"/>\r\n",
       "</g>\r\n",
       "<!-- 17 -->\r\n",
       "<g id=\"node18\" class=\"node\"><title>17</title>\r\n",
       "<polygon fill=\"none\" stroke=\"black\" points=\"1429,-231 1289,-231 1289,-178 1429,-178 1429,-231\"/>\r\n",
       "<text text-anchor=\"middle\" x=\"1359\" y=\"-215.8\" font-family=\"Times New Roman,serif\" font-size=\"14.00\">BLACK &lt;= 116.0250</text>\r\n",
       "<text text-anchor=\"middle\" x=\"1359\" y=\"-200.8\" font-family=\"Times New Roman,serif\" font-size=\"14.00\">mse = 7.95366746623</text>\r\n",
       "<text text-anchor=\"middle\" x=\"1359\" y=\"-185.8\" font-family=\"Times New Roman,serif\" font-size=\"14.00\">samples = 89</text>\r\n",
       "</g>\r\n",
       "<!-- 16&#45;&gt;17 -->\r\n",
       "<g id=\"edge17\" class=\"edge\"><title>16&#45;&gt;17</title>\r\n",
       "<path fill=\"none\" stroke=\"black\" d=\"M1359,-266.868C1359,-258.886 1359,-249.932 1359,-241.384\"/>\r\n",
       "<polygon fill=\"black\" stroke=\"black\" points=\"1362.5,-241.25 1359,-231.25 1355.5,-241.25 1362.5,-241.25\"/>\r\n",
       "</g>\r\n",
       "<!-- 24 -->\r\n",
       "<g id=\"node25\" class=\"node\"><title>24</title>\r\n",
       "<polygon fill=\"none\" stroke=\"black\" points=\"1824,-231 1684,-231 1684,-178 1824,-178 1824,-231\"/>\r\n",
       "<text text-anchor=\"middle\" x=\"1754\" y=\"-215.8\" font-family=\"Times New Roman,serif\" font-size=\"14.00\">DIS &lt;= 1.9400</text>\r\n",
       "<text text-anchor=\"middle\" x=\"1754\" y=\"-200.8\" font-family=\"Times New Roman,serif\" font-size=\"14.00\">mse = 18.6450602552</text>\r\n",
       "<text text-anchor=\"middle\" x=\"1754\" y=\"-185.8\" font-family=\"Times New Roman,serif\" font-size=\"14.00\">samples = 92</text>\r\n",
       "</g>\r\n",
       "<!-- 16&#45;&gt;24 -->\r\n",
       "<g id=\"edge24\" class=\"edge\"><title>16&#45;&gt;24</title>\r\n",
       "<path fill=\"none\" stroke=\"black\" d=\"M1429.16,-277.046C1497.77,-261.937 1602.1,-238.956 1673.92,-223.139\"/>\r\n",
       "<polygon fill=\"black\" stroke=\"black\" points=\"1674.81,-226.525 1683.83,-220.956 1673.31,-219.689 1674.81,-226.525\"/>\r\n",
       "</g>\r\n",
       "<!-- 18 -->\r\n",
       "<g id=\"node19\" class=\"node\"><title>18</title>\r\n",
       "<polygon fill=\"none\" stroke=\"black\" points=\"1347.5,-142 1218.5,-142 1218.5,-89 1347.5,-89 1347.5,-142\"/>\r\n",
       "<text text-anchor=\"middle\" x=\"1283\" y=\"-126.8\" font-family=\"Times New Roman,serif\" font-size=\"14.00\">LSTAT &lt;= 15.0950</text>\r\n",
       "<text text-anchor=\"middle\" x=\"1283\" y=\"-111.8\" font-family=\"Times New Roman,serif\" font-size=\"14.00\">mse = 6.105</text>\r\n",
       "<text text-anchor=\"middle\" x=\"1283\" y=\"-96.8\" font-family=\"Times New Roman,serif\" font-size=\"14.00\">samples = 4</text>\r\n",
       "</g>\r\n",
       "<!-- 17&#45;&gt;18 -->\r\n",
       "<g id=\"edge18\" class=\"edge\"><title>17&#45;&gt;18</title>\r\n",
       "<path fill=\"none\" stroke=\"black\" d=\"M1336.61,-177.868C1328.95,-169.096 1320.26,-159.152 1312.14,-149.86\"/>\r\n",
       "<polygon fill=\"black\" stroke=\"black\" points=\"1314.71,-147.478 1305.49,-142.25 1309.44,-152.084 1314.71,-147.478\"/>\r\n",
       "</g>\r\n",
       "<!-- 21 -->\r\n",
       "<g id=\"node22\" class=\"node\"><title>21</title>\r\n",
       "<polygon fill=\"none\" stroke=\"black\" points=\"1506,-142 1366,-142 1366,-89 1506,-89 1506,-142\"/>\r\n",
       "<text text-anchor=\"middle\" x=\"1436\" y=\"-126.8\" font-family=\"Times New Roman,serif\" font-size=\"14.00\">RM &lt;= 6.9385</text>\r\n",
       "<text text-anchor=\"middle\" x=\"1436\" y=\"-111.8\" font-family=\"Times New Roman,serif\" font-size=\"14.00\">mse = 6.85163460208</text>\r\n",
       "<text text-anchor=\"middle\" x=\"1436\" y=\"-96.8\" font-family=\"Times New Roman,serif\" font-size=\"14.00\">samples = 85</text>\r\n",
       "</g>\r\n",
       "<!-- 17&#45;&gt;21 -->\r\n",
       "<g id=\"edge21\" class=\"edge\"><title>17&#45;&gt;21</title>\r\n",
       "<path fill=\"none\" stroke=\"black\" d=\"M1381.69,-177.868C1389.45,-169.096 1398.25,-159.152 1406.47,-149.86\"/>\r\n",
       "<polygon fill=\"black\" stroke=\"black\" points=\"1409.2,-152.058 1413.21,-142.25 1403.96,-147.418 1409.2,-152.058\"/>\r\n",
       "</g>\r\n",
       "<!-- 19 -->\r\n",
       "<g id=\"node20\" class=\"node\"><title>19</title>\r\n",
       "<polygon fill=\"none\" stroke=\"black\" points=\"1222.5,-53 1077.5,-53 1077.5,-0 1222.5,-0 1222.5,-53\"/>\r\n",
       "<text text-anchor=\"middle\" x=\"1150\" y=\"-37.8\" font-family=\"Times New Roman,serif\" font-size=\"14.00\">mse = 1.7222</text>\r\n",
       "<text text-anchor=\"middle\" x=\"1150\" y=\"-22.8\" font-family=\"Times New Roman,serif\" font-size=\"14.00\">samples = 3</text>\r\n",
       "<text text-anchor=\"middle\" x=\"1150\" y=\"-7.8\" font-family=\"Times New Roman,serif\" font-size=\"14.00\">value = [ 16.76666667]</text>\r\n",
       "</g>\r\n",
       "<!-- 18&#45;&gt;19 -->\r\n",
       "<g id=\"edge19\" class=\"edge\"><title>18&#45;&gt;19</title>\r\n",
       "<path fill=\"none\" stroke=\"black\" d=\"M1243.81,-88.8677C1229.47,-79.4822 1213.07,-68.7536 1198.03,-58.9196\"/>\r\n",
       "<polygon fill=\"black\" stroke=\"black\" points=\"1199.65,-55.795 1189.36,-53.2497 1195.82,-61.653 1199.65,-55.795\"/>\r\n",
       "</g>\r\n",
       "<!-- 20 -->\r\n",
       "<g id=\"node21\" class=\"node\"><title>20</title>\r\n",
       "<polygon fill=\"none\" stroke=\"black\" points=\"1339,-53 1241,-53 1241,-0 1339,-0 1339,-53\"/>\r\n",
       "<text text-anchor=\"middle\" x=\"1290\" y=\"-37.8\" font-family=\"Times New Roman,serif\" font-size=\"14.00\">mse = 0.0000</text>\r\n",
       "<text text-anchor=\"middle\" x=\"1290\" y=\"-22.8\" font-family=\"Times New Roman,serif\" font-size=\"14.00\">samples = 1</text>\r\n",
       "<text text-anchor=\"middle\" x=\"1290\" y=\"-7.8\" font-family=\"Times New Roman,serif\" font-size=\"14.00\">value = [ 11.7]</text>\r\n",
       "</g>\r\n",
       "<!-- 18&#45;&gt;20 -->\r\n",
       "<g id=\"edge20\" class=\"edge\"><title>18&#45;&gt;20</title>\r\n",
       "<path fill=\"none\" stroke=\"black\" d=\"M1285.06,-88.8677C1285.7,-80.8856 1286.43,-71.9321 1287.11,-63.3836\"/>\r\n",
       "<polygon fill=\"black\" stroke=\"black\" points=\"1290.61,-63.4983 1287.93,-53.2497 1283.64,-62.9368 1290.61,-63.4983\"/>\r\n",
       "</g>\r\n",
       "<!-- 22 -->\r\n",
       "<g id=\"node23\" class=\"node\"><title>22</title>\r\n",
       "<polygon fill=\"none\" stroke=\"black\" points=\"1502.5,-53 1357.5,-53 1357.5,-0 1502.5,-0 1502.5,-53\"/>\r\n",
       "<text text-anchor=\"middle\" x=\"1430\" y=\"-37.8\" font-family=\"Times New Roman,serif\" font-size=\"14.00\">mse = 5.9232</text>\r\n",
       "<text text-anchor=\"middle\" x=\"1430\" y=\"-22.8\" font-family=\"Times New Roman,serif\" font-size=\"14.00\">samples = 84</text>\r\n",
       "<text text-anchor=\"middle\" x=\"1430\" y=\"-7.8\" font-family=\"Times New Roman,serif\" font-size=\"14.00\">value = [ 20.53452381]</text>\r\n",
       "</g>\r\n",
       "<!-- 21&#45;&gt;22 -->\r\n",
       "<g id=\"edge22\" class=\"edge\"><title>21&#45;&gt;22</title>\r\n",
       "<path fill=\"none\" stroke=\"black\" d=\"M1434.23,-88.8677C1433.68,-80.8856 1433.06,-71.9321 1432.47,-63.3836\"/>\r\n",
       "<polygon fill=\"black\" stroke=\"black\" points=\"1435.96,-62.9852 1431.78,-53.2497 1428.97,-63.4669 1435.96,-62.9852\"/>\r\n",
       "</g>\r\n",
       "<!-- 23 -->\r\n",
       "<g id=\"node24\" class=\"node\"><title>23</title>\r\n",
       "<polygon fill=\"none\" stroke=\"black\" points=\"1619,-53 1521,-53 1521,-0 1619,-0 1619,-53\"/>\r\n",
       "<text text-anchor=\"middle\" x=\"1570\" y=\"-37.8\" font-family=\"Times New Roman,serif\" font-size=\"14.00\">mse = &#45;0.0000</text>\r\n",
       "<text text-anchor=\"middle\" x=\"1570\" y=\"-22.8\" font-family=\"Times New Roman,serif\" font-size=\"14.00\">samples = 1</text>\r\n",
       "<text text-anchor=\"middle\" x=\"1570\" y=\"-7.8\" font-family=\"Times New Roman,serif\" font-size=\"14.00\">value = [ 29.8]</text>\r\n",
       "</g>\r\n",
       "<!-- 21&#45;&gt;23 -->\r\n",
       "<g id=\"edge23\" class=\"edge\"><title>21&#45;&gt;23</title>\r\n",
       "<path fill=\"none\" stroke=\"black\" d=\"M1475.48,-88.8677C1489.94,-79.4822 1506.46,-68.7536 1521.61,-58.9196\"/>\r\n",
       "<polygon fill=\"black\" stroke=\"black\" points=\"1523.86,-61.6308 1530.34,-53.2497 1520.05,-55.7597 1523.86,-61.6308\"/>\r\n",
       "</g>\r\n",
       "<!-- 25 -->\r\n",
       "<g id=\"node26\" class=\"node\"><title>25</title>\r\n",
       "<polygon fill=\"none\" stroke=\"black\" points=\"1824,-142 1684,-142 1684,-89 1824,-89 1824,-142\"/>\r\n",
       "<text text-anchor=\"middle\" x=\"1754\" y=\"-126.8\" font-family=\"Times New Roman,serif\" font-size=\"14.00\">CRIM &lt;= 10.2150</text>\r\n",
       "<text text-anchor=\"middle\" x=\"1754\" y=\"-111.8\" font-family=\"Times New Roman,serif\" font-size=\"14.00\">mse = 10.6765414215</text>\r\n",
       "<text text-anchor=\"middle\" x=\"1754\" y=\"-96.8\" font-family=\"Times New Roman,serif\" font-size=\"14.00\">samples = 47</text>\r\n",
       "</g>\r\n",
       "<!-- 24&#45;&gt;25 -->\r\n",
       "<g id=\"edge25\" class=\"edge\"><title>24&#45;&gt;25</title>\r\n",
       "<path fill=\"none\" stroke=\"black\" d=\"M1754,-177.868C1754,-169.886 1754,-160.932 1754,-152.384\"/>\r\n",
       "<polygon fill=\"black\" stroke=\"black\" points=\"1757.5,-152.25 1754,-142.25 1750.5,-152.25 1757.5,-152.25\"/>\r\n",
       "</g>\r\n",
       "<!-- 28 -->\r\n",
       "<g id=\"node29\" class=\"node\"><title>28</title>\r\n",
       "<polygon fill=\"none\" stroke=\"black\" points=\"2052,-142 1912,-142 1912,-89 2052,-89 2052,-142\"/>\r\n",
       "<text text-anchor=\"middle\" x=\"1982\" y=\"-126.8\" font-family=\"Times New Roman,serif\" font-size=\"14.00\">CRIM &lt;= 0.6992</text>\r\n",
       "<text text-anchor=\"middle\" x=\"1982\" y=\"-111.8\" font-family=\"Times New Roman,serif\" font-size=\"14.00\">mse = 11.5765728395</text>\r\n",
       "<text text-anchor=\"middle\" x=\"1982\" y=\"-96.8\" font-family=\"Times New Roman,serif\" font-size=\"14.00\">samples = 45</text>\r\n",
       "</g>\r\n",
       "<!-- 24&#45;&gt;28 -->\r\n",
       "<g id=\"edge28\" class=\"edge\"><title>24&#45;&gt;28</title>\r\n",
       "<path fill=\"none\" stroke=\"black\" d=\"M1820.87,-177.985C1847.43,-167.849 1878.14,-156.131 1905.58,-145.661\"/>\r\n",
       "<polygon fill=\"black\" stroke=\"black\" points=\"1907.04,-148.85 1915.13,-142.015 1904.54,-142.31 1907.04,-148.85\"/>\r\n",
       "</g>\r\n",
       "<!-- 26 -->\r\n",
       "<g id=\"node27\" class=\"node\"><title>26</title>\r\n",
       "<polygon fill=\"none\" stroke=\"black\" points=\"1735,-53 1637,-53 1637,-0 1735,-0 1735,-53\"/>\r\n",
       "<text text-anchor=\"middle\" x=\"1686\" y=\"-37.8\" font-family=\"Times New Roman,serif\" font-size=\"14.00\">mse = 4.8962</text>\r\n",
       "<text text-anchor=\"middle\" x=\"1686\" y=\"-22.8\" font-family=\"Times New Roman,serif\" font-size=\"14.00\">samples = 21</text>\r\n",
       "<text text-anchor=\"middle\" x=\"1686\" y=\"-7.8\" font-family=\"Times New Roman,serif\" font-size=\"14.00\">value = [ 13.5]</text>\r\n",
       "</g>\r\n",
       "<!-- 25&#45;&gt;26 -->\r\n",
       "<g id=\"edge26\" class=\"edge\"><title>25&#45;&gt;26</title>\r\n",
       "<path fill=\"none\" stroke=\"black\" d=\"M1733.97,-88.8677C1727.18,-80.1839 1719.49,-70.3503 1712.29,-61.1394\"/>\r\n",
       "<polygon fill=\"black\" stroke=\"black\" points=\"1715.04,-58.9733 1706.13,-53.2497 1709.53,-63.284 1715.04,-58.9733\"/>\r\n",
       "</g>\r\n",
       "<!-- 27 -->\r\n",
       "<g id=\"node28\" class=\"node\"><title>27</title>\r\n",
       "<polygon fill=\"none\" stroke=\"black\" points=\"1891,-53 1753,-53 1753,-0 1891,-0 1891,-53\"/>\r\n",
       "<text text-anchor=\"middle\" x=\"1822\" y=\"-37.8\" font-family=\"Times New Roman,serif\" font-size=\"14.00\">mse = 9.2030</text>\r\n",
       "<text text-anchor=\"middle\" x=\"1822\" y=\"-22.8\" font-family=\"Times New Roman,serif\" font-size=\"14.00\">samples = 26</text>\r\n",
       "<text text-anchor=\"middle\" x=\"1822\" y=\"-7.8\" font-family=\"Times New Roman,serif\" font-size=\"14.00\">value = [ 9.79230769]</text>\r\n",
       "</g>\r\n",
       "<!-- 25&#45;&gt;27 -->\r\n",
       "<g id=\"edge27\" class=\"edge\"><title>25&#45;&gt;27</title>\r\n",
       "<path fill=\"none\" stroke=\"black\" d=\"M1774.03,-88.8677C1780.82,-80.1839 1788.51,-70.3503 1795.71,-61.1394\"/>\r\n",
       "<polygon fill=\"black\" stroke=\"black\" points=\"1798.47,-63.284 1801.87,-53.2497 1792.96,-58.9733 1798.47,-63.284\"/>\r\n",
       "</g>\r\n",
       "<!-- 29 -->\r\n",
       "<g id=\"node30\" class=\"node\"><title>29</title>\r\n",
       "<polygon fill=\"none\" stroke=\"black\" points=\"2054.5,-53 1909.5,-53 1909.5,-0 2054.5,-0 2054.5,-53\"/>\r\n",
       "<text text-anchor=\"middle\" x=\"1982\" y=\"-37.8\" font-family=\"Times New Roman,serif\" font-size=\"14.00\">mse = 6.6547</text>\r\n",
       "<text text-anchor=\"middle\" x=\"1982\" y=\"-22.8\" font-family=\"Times New Roman,serif\" font-size=\"14.00\">samples = 17</text>\r\n",
       "<text text-anchor=\"middle\" x=\"1982\" y=\"-7.8\" font-family=\"Times New Roman,serif\" font-size=\"14.00\">value = [ 20.22352941]</text>\r\n",
       "</g>\r\n",
       "<!-- 28&#45;&gt;29 -->\r\n",
       "<g id=\"edge29\" class=\"edge\"><title>28&#45;&gt;29</title>\r\n",
       "<path fill=\"none\" stroke=\"black\" d=\"M1982,-88.8677C1982,-80.8856 1982,-71.9321 1982,-63.3836\"/>\r\n",
       "<polygon fill=\"black\" stroke=\"black\" points=\"1985.5,-63.2497 1982,-53.2497 1978.5,-63.2498 1985.5,-63.2497\"/>\r\n",
       "</g>\r\n",
       "<!-- 30 -->\r\n",
       "<g id=\"node31\" class=\"node\"><title>30</title>\r\n",
       "<polygon fill=\"none\" stroke=\"black\" points=\"2217.5,-53 2072.5,-53 2072.5,-0 2217.5,-0 2217.5,-53\"/>\r\n",
       "<text text-anchor=\"middle\" x=\"2145\" y=\"-37.8\" font-family=\"Times New Roman,serif\" font-size=\"14.00\">mse = 4.0303</text>\r\n",
       "<text text-anchor=\"middle\" x=\"2145\" y=\"-22.8\" font-family=\"Times New Roman,serif\" font-size=\"14.00\">samples = 28</text>\r\n",
       "<text text-anchor=\"middle\" x=\"2145\" y=\"-7.8\" font-family=\"Times New Roman,serif\" font-size=\"14.00\">value = [ 14.94285714]</text>\r\n",
       "</g>\r\n",
       "<!-- 28&#45;&gt;30 -->\r\n",
       "<g id=\"edge30\" class=\"edge\"><title>28&#45;&gt;30</title>\r\n",
       "<path fill=\"none\" stroke=\"black\" d=\"M2030.02,-88.8677C2048.26,-79.1319 2069.21,-67.9509 2088.19,-57.8224\"/>\r\n",
       "<polygon fill=\"black\" stroke=\"black\" points=\"2089.86,-60.8958 2097.04,-53.0993 2086.57,-54.7203 2089.86,-60.8958\"/>\r\n",
       "</g>\r\n",
       "</g>\r\n",
       "</svg>\r\n"
      ]
     },
     "metadata": {},
     "output_type": "display_data"
    }
   ],
   "source": [
    "# Cool, no?\n",
    "\n",
    "dot_data = externals.six.StringIO()\n",
    "tree.export_graphviz(model, out_file = dot_data, feature_names = X.columns)\n",
    "%dotstr dot_data.getvalue()"
   ]
  },
  {
   "cell_type": "markdown",
   "metadata": {},
   "source": [
    "### Question 7: What are the top 5 most important features?"
   ]
  },
  {
   "cell_type": "code",
   "execution_count": 12,
   "metadata": {
    "collapsed": false
   },
   "outputs": [
    {
     "data": {
      "text/plain": [
       "[(0.77380239480206059, 'LSTAT'),\n",
       " (0.12342179765389764, 'DIS'),\n",
       " (0.055479058383487059, 'RM'),\n",
       " (0.021079960485204954, 'CRIM'),\n",
       " (0.010939839005566851, 'INDUS'),\n",
       " (0.010591092377687183, 'AGE'),\n",
       " (0.004685857292095673, 'BLACK'),\n",
       " (0.0, 'ZN'),\n",
       " (0.0, 'TAX'),\n",
       " (0.0, 'RAD'),\n",
       " (0.0, 'PTRATIO'),\n",
       " (0.0, 'NOX'),\n",
       " (0.0, 'CHAS')]"
      ]
     },
     "execution_count": 12,
     "metadata": {},
     "output_type": "execute_result"
    }
   ],
   "source": [
    "sorted(zip(model.feature_importances_, X.columns.values), reverse = True)"
   ]
  },
  {
   "cell_type": "markdown",
   "metadata": {},
   "source": [
    "Answer: `RM`, `LSTAT`, `DIS`, `NOX`, `BLACK`"
   ]
  },
  {
   "cell_type": "markdown",
   "metadata": {},
   "source": [
    "## Part B - Classification Decision Trees"
   ]
  },
  {
   "cell_type": "markdown",
   "metadata": {},
   "source": [
    "### Question 8: Let's categorize `MEDV` to 4 groups: Bottom 20% as Level 1, next 30% as Level 2, next 30% categorized as Level 3, and the top 20% as Level 4.  Please create a new variable `MEDV_Category` that stores the level number"
   ]
  },
  {
   "cell_type": "code",
   "execution_count": 1,
   "metadata": {
    "collapsed": false
   },
   "outputs": [
    {
     "ename": "NameError",
     "evalue": "name 'df' is not defined",
     "output_type": "error",
     "traceback": [
      "\u001b[0;31m---------------------------------------------------------------------------\u001b[0m",
      "\u001b[0;31mNameError\u001b[0m                                 Traceback (most recent call last)",
      "\u001b[0;32m<ipython-input-1-2acd568701f5>\u001b[0m in \u001b[0;36m<module>\u001b[0;34m()\u001b[0m\n\u001b[0;32m----> 1\u001b[0;31m \u001b[0mlevel_2\u001b[0m \u001b[0;34m=\u001b[0m \u001b[0;34m(\u001b[0m\u001b[0;34m(\u001b[0m\u001b[0mdf\u001b[0m\u001b[0;34m.\u001b[0m\u001b[0mMEDV\u001b[0m \u001b[0;34m>\u001b[0m \u001b[0mdf\u001b[0m\u001b[0;34m.\u001b[0m\u001b[0mMEDV\u001b[0m\u001b[0;34m.\u001b[0m\u001b[0mquantile\u001b[0m\u001b[0;34m(\u001b[0m\u001b[0;36m.2\u001b[0m\u001b[0;34m)\u001b[0m\u001b[0;34m)\u001b[0m \u001b[0;34m&\u001b[0m \u001b[0;34m(\u001b[0m\u001b[0mdf\u001b[0m\u001b[0;34m.\u001b[0m\u001b[0mMEDV\u001b[0m \u001b[0;34m<=\u001b[0m \u001b[0mdf\u001b[0m\u001b[0;34m.\u001b[0m\u001b[0mMEDV\u001b[0m\u001b[0;34m.\u001b[0m\u001b[0mquantile\u001b[0m\u001b[0;34m(\u001b[0m\u001b[0;36m.5\u001b[0m\u001b[0;34m)\u001b[0m\u001b[0;34m)\u001b[0m\u001b[0;34m)\u001b[0m\u001b[0;34m\u001b[0m\u001b[0m\n\u001b[0m\u001b[1;32m      2\u001b[0m \u001b[0mlevel_3\u001b[0m \u001b[0;34m=\u001b[0m \u001b[0;34m(\u001b[0m\u001b[0;34m(\u001b[0m\u001b[0mdf\u001b[0m\u001b[0;34m.\u001b[0m\u001b[0mMEDV\u001b[0m \u001b[0;34m>\u001b[0m \u001b[0mdf\u001b[0m\u001b[0;34m.\u001b[0m\u001b[0mMEDV\u001b[0m\u001b[0;34m.\u001b[0m\u001b[0mquantile\u001b[0m\u001b[0;34m(\u001b[0m\u001b[0;36m.5\u001b[0m\u001b[0;34m)\u001b[0m\u001b[0;34m)\u001b[0m \u001b[0;34m&\u001b[0m \u001b[0;34m(\u001b[0m\u001b[0mdf\u001b[0m\u001b[0;34m.\u001b[0m\u001b[0mMEDV\u001b[0m \u001b[0;34m<=\u001b[0m \u001b[0mdf\u001b[0m\u001b[0;34m.\u001b[0m\u001b[0mMEDV\u001b[0m\u001b[0;34m.\u001b[0m\u001b[0mquantile\u001b[0m\u001b[0;34m(\u001b[0m\u001b[0;36m.8\u001b[0m\u001b[0;34m)\u001b[0m\u001b[0;34m)\u001b[0m\u001b[0;34m)\u001b[0m\u001b[0;34m\u001b[0m\u001b[0m\n\u001b[1;32m      3\u001b[0m \u001b[0mlevel_4\u001b[0m \u001b[0;34m=\u001b[0m \u001b[0;34m(\u001b[0m\u001b[0mdf\u001b[0m\u001b[0;34m.\u001b[0m\u001b[0mMEDV\u001b[0m \u001b[0;34m>\u001b[0m \u001b[0mdf\u001b[0m\u001b[0;34m.\u001b[0m\u001b[0mMEDV\u001b[0m\u001b[0;34m.\u001b[0m\u001b[0mquantile\u001b[0m\u001b[0;34m(\u001b[0m\u001b[0;36m.8\u001b[0m\u001b[0;34m)\u001b[0m\u001b[0;34m)\u001b[0m\u001b[0;34m\u001b[0m\u001b[0m\n\u001b[1;32m      4\u001b[0m \u001b[0;34m\u001b[0m\u001b[0m\n\u001b[1;32m      5\u001b[0m \u001b[0mdf\u001b[0m\u001b[0;34m[\u001b[0m\u001b[0;34m'MEDV_Category'\u001b[0m\u001b[0;34m]\u001b[0m \u001b[0;34m=\u001b[0m \u001b[0;34m'1'\u001b[0m\u001b[0;34m\u001b[0m\u001b[0m\n",
      "\u001b[0;31mNameError\u001b[0m: name 'df' is not defined"
     ]
    }
   ],
   "source": [
    "level_2 = ((df.MEDV > df.MEDV.quantile(.2)) & (df.MEDV <= df.MEDV.quantile(.5)))\n",
    "level_3 = ((df.MEDV > df.MEDV.quantile(.5)) & (df.MEDV <= df.MEDV.quantile(.8)))\n",
    "level_4 = (df.MEDV > df.MEDV.quantile(.8))\n",
    "\n",
    "df['MEDV_Category'] = '1'\n",
    "df.loc[level_2, 'MEDV_Category'] = '2'\n",
    "df.loc[level_3, 'MEDV_Category'] = '3'\n",
    "df.loc[level_4, 'MEDV_Category'] = '4'"
   ]
  },
  {
   "cell_type": "markdown",
   "metadata": {},
   "source": [
    "### Question 9: Create a feature matrix `X` with all features but `MEDV`.  Also create a response vector `y` with `MEDV_Category`"
   ]
  },
  {
   "cell_type": "code",
   "execution_count": 14,
   "metadata": {
    "collapsed": false
   },
   "outputs": [],
   "source": [
    "X = df[df.columns.values]\n",
    "X.drop(['MEDV', 'MEDV_Category'], axis = 1, inplace = True)\n",
    "\n",
    "y = df.MEDV_Category"
   ]
  },
  {
   "cell_type": "markdown",
   "metadata": {},
   "source": [
    "### Question 10: Split again your dataset into a training and testing sets (60%, 40%)"
   ]
  },
  {
   "cell_type": "code",
   "execution_count": 15,
   "metadata": {
    "collapsed": true
   },
   "outputs": [],
   "source": [
    "train_X, test_X, train_y, test_y = cross_validation.train_test_split(X, y, test_size = 0.4)"
   ]
  },
  {
   "cell_type": "markdown",
   "metadata": {},
   "source": [
    "### Question 11: Create a decision tree (`tree.DecisionTreeRegressor`) of depth 2 and with leaf nodes having a minimum of 5 observations.  Then train the model model"
   ]
  },
  {
   "cell_type": "code",
   "execution_count": 16,
   "metadata": {
    "collapsed": false
   },
   "outputs": [
    {
     "data": {
      "text/plain": [
       "DecisionTreeClassifier(class_weight=None, criterion='gini', max_depth=2,\n",
       "            max_features=None, max_leaf_nodes=None, min_samples_leaf=5,\n",
       "            min_samples_split=2, min_weight_fraction_leaf=0.0,\n",
       "            random_state=None, splitter='best')"
      ]
     },
     "execution_count": 16,
     "metadata": {},
     "output_type": "execute_result"
    }
   ],
   "source": [
    "model = tree.DecisionTreeClassifier(max_depth = 2, min_samples_leaf = 5)\n",
    "model.fit(train_X, train_y)"
   ]
  },
  {
   "cell_type": "markdown",
   "metadata": {},
   "source": [
    "### Question 12: What is your 10-fold cross-validation error on your training set?"
   ]
  },
  {
   "cell_type": "code",
   "execution_count": 17,
   "metadata": {
    "collapsed": false
   },
   "outputs": [
    {
     "data": {
      "text/plain": [
       "0.58765294771968857"
      ]
     },
     "execution_count": 17,
     "metadata": {},
     "output_type": "execute_result"
    }
   ],
   "source": [
    "cross_validation.cross_val_score(model, train_X, train_y, cv = 10).mean()"
   ]
  },
  {
   "cell_type": "markdown",
   "metadata": {},
   "source": [
    "### Question 13: Display graphically your model"
   ]
  },
  {
   "cell_type": "code",
   "execution_count": 18,
   "metadata": {
    "collapsed": false
   },
   "outputs": [
    {
     "data": {
      "image/svg+xml": [
       "<?xml version=\"1.0\" encoding=\"UTF-8\" standalone=\"no\"?>\r\n",
       "<!DOCTYPE svg PUBLIC \"-//W3C//DTD SVG 1.1//EN\"\r\n",
       " \"http://www.w3.org/Graphics/SVG/1.1/DTD/svg11.dtd\">\r\n",
       "<!-- Generated by graphviz version 2.38.0 (20140413.2041)\r\n",
       " -->\r\n",
       "<!-- Title: Tree Pages: 1 -->\r\n",
       "<svg width=\"702pt\" height=\"239pt\"\r\n",
       " viewBox=\"0.00 0.00 701.50 239.00\" xmlns=\"http://www.w3.org/2000/svg\" xmlns:xlink=\"http://www.w3.org/1999/xlink\">\r\n",
       "<g id=\"graph0\" class=\"graph\" transform=\"scale(1 1) rotate(0) translate(4 235)\">\r\n",
       "<title>Tree</title>\r\n",
       "<polygon fill=\"white\" stroke=\"none\" points=\"-4,4 -4,-235 697.5,-235 697.5,4 -4,4\"/>\r\n",
       "<!-- 0 -->\r\n",
       "<g id=\"node1\" class=\"node\"><title>0</title>\r\n",
       "<polygon fill=\"none\" stroke=\"black\" points=\"414.5,-231 277.5,-231 277.5,-178 414.5,-178 414.5,-231\"/>\r\n",
       "<text text-anchor=\"middle\" x=\"346\" y=\"-215.8\" font-family=\"Times New Roman,serif\" font-size=\"14.00\">LSTAT &lt;= 9.7250</text>\r\n",
       "<text text-anchor=\"middle\" x=\"346\" y=\"-200.8\" font-family=\"Times New Roman,serif\" font-size=\"14.00\">gini = 0.73317430753</text>\r\n",
       "<text text-anchor=\"middle\" x=\"346\" y=\"-185.8\" font-family=\"Times New Roman,serif\" font-size=\"14.00\">samples = 303</text>\r\n",
       "</g>\r\n",
       "<!-- 1 -->\r\n",
       "<g id=\"node2\" class=\"node\"><title>1</title>\r\n",
       "<polygon fill=\"none\" stroke=\"black\" points=\"329.5,-142 186.5,-142 186.5,-89 329.5,-89 329.5,-142\"/>\r\n",
       "<text text-anchor=\"middle\" x=\"258\" y=\"-126.8\" font-family=\"Times New Roman,serif\" font-size=\"14.00\">RM &lt;= 6.7905</text>\r\n",
       "<text text-anchor=\"middle\" x=\"258\" y=\"-111.8\" font-family=\"Times New Roman,serif\" font-size=\"14.00\">gini = 0.591927607009</text>\r\n",
       "<text text-anchor=\"middle\" x=\"258\" y=\"-96.8\" font-family=\"Times New Roman,serif\" font-size=\"14.00\">samples = 118</text>\r\n",
       "</g>\r\n",
       "<!-- 0&#45;&gt;1 -->\r\n",
       "<g id=\"edge1\" class=\"edge\"><title>0&#45;&gt;1</title>\r\n",
       "<path fill=\"none\" stroke=\"black\" d=\"M320.073,-177.868C311.023,-168.921 300.739,-158.753 291.181,-149.304\"/>\r\n",
       "<polygon fill=\"black\" stroke=\"black\" points=\"293.618,-146.791 284.046,-142.25 288.696,-151.769 293.618,-146.791\"/>\r\n",
       "</g>\r\n",
       "<!-- 4 -->\r\n",
       "<g id=\"node5\" class=\"node\"><title>4</title>\r\n",
       "<polygon fill=\"none\" stroke=\"black\" points=\"506.5,-142 363.5,-142 363.5,-89 506.5,-89 506.5,-142\"/>\r\n",
       "<text text-anchor=\"middle\" x=\"435\" y=\"-126.8\" font-family=\"Times New Roman,serif\" font-size=\"14.00\">CRIM &lt;= 5.8480</text>\r\n",
       "<text text-anchor=\"middle\" x=\"435\" y=\"-111.8\" font-family=\"Times New Roman,serif\" font-size=\"14.00\">gini = 0.637019722425</text>\r\n",
       "<text text-anchor=\"middle\" x=\"435\" y=\"-96.8\" font-family=\"Times New Roman,serif\" font-size=\"14.00\">samples = 185</text>\r\n",
       "</g>\r\n",
       "<!-- 0&#45;&gt;4 -->\r\n",
       "<g id=\"edge4\" class=\"edge\"><title>0&#45;&gt;4</title>\r\n",
       "<path fill=\"none\" stroke=\"black\" d=\"M372.222,-177.868C381.374,-168.921 391.775,-158.753 401.442,-149.304\"/>\r\n",
       "<polygon fill=\"black\" stroke=\"black\" points=\"403.954,-151.743 408.658,-142.25 399.061,-146.737 403.954,-151.743\"/>\r\n",
       "</g>\r\n",
       "<!-- 2 -->\r\n",
       "<g id=\"node3\" class=\"node\"><title>2</title>\r\n",
       "<polygon fill=\"none\" stroke=\"black\" points=\"162,-53 0,-53 0,-0 162,-0 162,-53\"/>\r\n",
       "<text text-anchor=\"middle\" x=\"81\" y=\"-37.8\" font-family=\"Times New Roman,serif\" font-size=\"14.00\">gini = 0.5355</text>\r\n",
       "<text text-anchor=\"middle\" x=\"81\" y=\"-22.8\" font-family=\"Times New Roman,serif\" font-size=\"14.00\">samples = 78</text>\r\n",
       "<text text-anchor=\"middle\" x=\"81\" y=\"-7.8\" font-family=\"Times New Roman,serif\" font-size=\"14.00\">value = [ &#160;0. &#160;13. &#160;49. &#160;16.]</text>\r\n",
       "</g>\r\n",
       "<!-- 1&#45;&gt;2 -->\r\n",
       "<g id=\"edge2\" class=\"edge\"><title>1&#45;&gt;2</title>\r\n",
       "<path fill=\"none\" stroke=\"black\" d=\"M205.851,-88.8677C185.865,-79.0438 162.885,-67.7484 142.131,-57.5477\"/>\r\n",
       "<polygon fill=\"black\" stroke=\"black\" points=\"143.6,-54.3695 133.081,-53.0993 140.512,-60.6516 143.6,-54.3695\"/>\r\n",
       "</g>\r\n",
       "<!-- 3 -->\r\n",
       "<g id=\"node4\" class=\"node\"><title>3</title>\r\n",
       "<polygon fill=\"none\" stroke=\"black\" points=\"336,-53 180,-53 180,-0 336,-0 336,-53\"/>\r\n",
       "<text text-anchor=\"middle\" x=\"258\" y=\"-37.8\" font-family=\"Times New Roman,serif\" font-size=\"14.00\">gini = 0.1800</text>\r\n",
       "<text text-anchor=\"middle\" x=\"258\" y=\"-22.8\" font-family=\"Times New Roman,serif\" font-size=\"14.00\">samples = 40</text>\r\n",
       "<text text-anchor=\"middle\" x=\"258\" y=\"-7.8\" font-family=\"Times New Roman,serif\" font-size=\"14.00\">value = [ &#160;0. &#160;&#160;0. &#160;&#160;4. &#160;36.]</text>\r\n",
       "</g>\r\n",
       "<!-- 1&#45;&gt;3 -->\r\n",
       "<g id=\"edge3\" class=\"edge\"><title>1&#45;&gt;3</title>\r\n",
       "<path fill=\"none\" stroke=\"black\" d=\"M258,-88.8677C258,-80.8856 258,-71.9321 258,-63.3836\"/>\r\n",
       "<polygon fill=\"black\" stroke=\"black\" points=\"261.5,-63.2497 258,-53.2497 254.5,-63.2498 261.5,-63.2497\"/>\r\n",
       "</g>\r\n",
       "<!-- 5 -->\r\n",
       "<g id=\"node6\" class=\"node\"><title>5</title>\r\n",
       "<polygon fill=\"none\" stroke=\"black\" points=\"516,-53 354,-53 354,-0 516,-0 516,-53\"/>\r\n",
       "<text text-anchor=\"middle\" x=\"435\" y=\"-37.8\" font-family=\"Times New Roman,serif\" font-size=\"14.00\">gini = 0.5420</text>\r\n",
       "<text text-anchor=\"middle\" x=\"435\" y=\"-22.8\" font-family=\"Times New Roman,serif\" font-size=\"14.00\">samples = 123</text>\r\n",
       "<text text-anchor=\"middle\" x=\"435\" y=\"-7.8\" font-family=\"Times New Roman,serif\" font-size=\"14.00\">value = [ 12. &#160;75. &#160;34. &#160;&#160;2.]</text>\r\n",
       "</g>\r\n",
       "<!-- 4&#45;&gt;5 -->\r\n",
       "<g id=\"edge5\" class=\"edge\"><title>4&#45;&gt;5</title>\r\n",
       "<path fill=\"none\" stroke=\"black\" d=\"M435,-88.8677C435,-80.8856 435,-71.9321 435,-63.3836\"/>\r\n",
       "<polygon fill=\"black\" stroke=\"black\" points=\"438.5,-63.2497 435,-53.2497 431.5,-63.2498 438.5,-63.2497\"/>\r\n",
       "</g>\r\n",
       "<!-- 6 -->\r\n",
       "<g id=\"node7\" class=\"node\"><title>6</title>\r\n",
       "<polygon fill=\"none\" stroke=\"black\" points=\"693.5,-53 534.5,-53 534.5,-0 693.5,-0 693.5,-53\"/>\r\n",
       "<text text-anchor=\"middle\" x=\"614\" y=\"-37.8\" font-family=\"Times New Roman,serif\" font-size=\"14.00\">gini = 0.3855</text>\r\n",
       "<text text-anchor=\"middle\" x=\"614\" y=\"-22.8\" font-family=\"Times New Roman,serif\" font-size=\"14.00\">samples = 62</text>\r\n",
       "<text text-anchor=\"middle\" x=\"614\" y=\"-7.8\" font-family=\"Times New Roman,serif\" font-size=\"14.00\">value = [ 47. &#160;12. &#160;&#160;3. &#160;&#160;0.]</text>\r\n",
       "</g>\r\n",
       "<!-- 4&#45;&gt;6 -->\r\n",
       "<g id=\"edge6\" class=\"edge\"><title>4&#45;&gt;6</title>\r\n",
       "<path fill=\"none\" stroke=\"black\" d=\"M487.738,-88.8677C507.95,-79.0438 531.19,-67.7484 552.178,-57.5477\"/>\r\n",
       "<polygon fill=\"black\" stroke=\"black\" points=\"553.866,-60.6186 561.33,-53.0993 550.806,-54.3228 553.866,-60.6186\"/>\r\n",
       "</g>\r\n",
       "</g>\r\n",
       "</svg>\r\n"
      ]
     },
     "metadata": {},
     "output_type": "display_data"
    }
   ],
   "source": [
    "dot_data = externals.six.StringIO()\n",
    "tree.export_graphviz(model, out_file = dot_data, feature_names = X.columns)\n",
    "%dotstr dot_data.getvalue()"
   ]
  },
  {
   "cell_type": "markdown",
   "metadata": {},
   "source": [
    "### Question 14: What are the features used by the model?"
   ]
  },
  {
   "cell_type": "code",
   "execution_count": 19,
   "metadata": {
    "collapsed": false
   },
   "outputs": [
    {
     "data": {
      "text/plain": [
       "[(0.41707524711967858, 'LSTAT'),\n",
       " (0.33020054830820389, 'CRIM'),\n",
       " (0.25272420457211753, 'RM'),\n",
       " (0.0, 'ZN'),\n",
       " (0.0, 'TAX'),\n",
       " (0.0, 'RAD'),\n",
       " (0.0, 'PTRATIO'),\n",
       " (0.0, 'NOX'),\n",
       " (0.0, 'INDUS'),\n",
       " (0.0, 'DIS'),\n",
       " (0.0, 'CHAS'),\n",
       " (0.0, 'BLACK'),\n",
       " (0.0, 'AGE')]"
      ]
     },
     "execution_count": 19,
     "metadata": {},
     "output_type": "execute_result"
    }
   ],
   "source": [
    "sorted(zip(model.feature_importances_, X.columns.values), reverse = True)"
   ]
  },
  {
   "cell_type": "markdown",
   "metadata": {},
   "source": [
    "Answer: `LSTAT`, `RM`, `CRIM`"
   ]
  },
  {
   "cell_type": "markdown",
   "metadata": {},
   "source": [
    "## Part C - Random Forest with Categorical Variables"
   ]
  },
  {
   "cell_type": "markdown",
   "metadata": {},
   "source": [
    "### Question 15: Create a Random Forest Classifier with `n_estimators = 1000, max_features = 4, min_samples_leaf = 5, oob_score = True`"
   ]
  },
  {
   "cell_type": "markdown",
   "metadata": {},
   "source": [
    "(Check http://scikit-learn.org/stable/modules/generated/sklearn.ensemble.RandomForestClassifier.html as needed)"
   ]
  },
  {
   "cell_type": "code",
   "execution_count": 20,
   "metadata": {
    "collapsed": false
   },
   "outputs": [
    {
     "data": {
      "text/plain": [
       "RandomForestClassifier(bootstrap=True, class_weight=None, criterion='gini',\n",
       "            max_depth=None, max_features=4, max_leaf_nodes=None,\n",
       "            min_samples_leaf=5, min_samples_split=2,\n",
       "            min_weight_fraction_leaf=0.0, n_estimators=1000, n_jobs=1,\n",
       "            oob_score=True, random_state=None, verbose=0, warm_start=False)"
      ]
     },
     "execution_count": 20,
     "metadata": {},
     "output_type": "execute_result"
    }
   ],
   "source": [
    "model = ensemble.RandomForestClassifier(n_estimators = 1000, max_features = 4, min_samples_leaf = 5, oob_score = True)\n",
    "model.fit(train_X, train_y)"
   ]
  },
  {
   "cell_type": "markdown",
   "metadata": {},
   "source": [
    "### Question 16: What is the Out-of-bag (OOB) error?"
   ]
  },
  {
   "cell_type": "markdown",
   "metadata": {},
   "source": [
    "(We will cover this in a future lecture... but Out-of-bag (OOB) error, also called out-of-bag estimate, is a method of measuring the prediction error of random forestswhen sub-sample data was used for training.  OOB is the mean prediction error on each training sample $x_i$, using only the trees that did not have $x_i$ in their bootstrap sample)"
   ]
  },
  {
   "cell_type": "code",
   "execution_count": 21,
   "metadata": {
    "collapsed": false
   },
   "outputs": [
    {
     "data": {
      "text/plain": [
       "0.72937293729372932"
      ]
     },
     "execution_count": 21,
     "metadata": {},
     "output_type": "execute_result"
    }
   ],
   "source": [
    "model.oob_score_"
   ]
  },
  {
   "cell_type": "markdown",
   "metadata": {},
   "source": [
    "Answer: ~.7 or ~70%"
   ]
  },
  {
   "cell_type": "markdown",
   "metadata": {},
   "source": [
    "### Question 17: What is your 10-fold cross-validation error on your training set?"
   ]
  },
  {
   "cell_type": "code",
   "execution_count": 22,
   "metadata": {
    "collapsed": false
   },
   "outputs": [
    {
     "data": {
      "text/plain": [
       "0.73273637374860956"
      ]
     },
     "execution_count": 22,
     "metadata": {},
     "output_type": "execute_result"
    }
   ],
   "source": [
    "cross_validation.cross_val_score(model, train_X, train_y, cv = 10).mean()"
   ]
  },
  {
   "cell_type": "markdown",
   "metadata": {},
   "source": [
    "Answer: ~.7 or ~70%"
   ]
  }
 ],
 "metadata": {
  "kernelspec": {
   "display_name": "Python 2",
   "language": "python",
   "name": "python2"
  },
  "language_info": {
   "codemirror_mode": {
    "name": "ipython",
    "version": 2
   },
   "file_extension": ".py",
   "mimetype": "text/x-python",
   "name": "python",
   "nbconvert_exporter": "python",
   "pygments_lexer": "ipython2",
   "version": "2.7.11"
  }
 },
 "nbformat": 4,
 "nbformat_minor": 0
}
