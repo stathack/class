{
 "cells": [
  {
   "cell_type": "markdown",
   "metadata": {},
   "source": [
    "# SF-DAT-21 | Codealong 12 | Answer Key"
   ]
  },
  {
   "cell_type": "code",
   "execution_count": 1,
   "metadata": {
    "collapsed": false
   },
   "outputs": [],
   "source": [
    "import os\n",
    "import math\n",
    "import numpy as np\n",
    "import pandas as pd\n",
    "import matplotlib.pyplot as plt\n",
    "\n",
    "pd.set_option('display.max_rows', 10)\n",
    "pd.set_option('display.notebook_repr_html', True)\n",
    "pd.set_option('display.max_columns', 10)\n",
    "\n",
    "%matplotlib inline\n",
    "plt.style.use('ggplot')"
   ]
  },
  {
   "cell_type": "markdown",
   "metadata": {},
   "source": [
    "## Part A - The 2008 Democratic Primaries"
   ]
  },
  {
   "cell_type": "markdown",
   "metadata": {},
   "source": [
    "(dataset adapted from http://www.stat.ucla.edu/~cocteau/primaries.csv)"
   ]
  },
  {
   "cell_type": "code",
   "execution_count": 2,
   "metadata": {
    "collapsed": false
   },
   "outputs": [],
   "source": [
    "df = pd.read_csv(os.path.join('..', 'datasets', '2008-democrat-primaries.csv'))"
   ]
  },
  {
   "cell_type": "code",
   "execution_count": 3,
   "metadata": {
    "collapsed": false
   },
   "outputs": [
    {
     "data": {
      "text/plain": [
       "Index([u'fips', u'county_name', u'state_postal', u'region', u'election_date',\n",
       "       u'racetype', u'tvotes', u'clinton', u'obama', u'edwards', u'margin',\n",
       "       u'winner', u'POP05_SQMI', u'popUnder30_00', u'pop65up_00',\n",
       "       u'presVote04', u'kerry04', u'Bush04', u'pres04margin', u'pres04winner',\n",
       "       u'pop06', u'pop00', u'hisp06', u'white06', u'black06', u'indian06',\n",
       "       u'asian06', u'hawaii06', u'mixed06', u'pct_less_30k', u'pct_more_100k',\n",
       "       u'pct_hs_grad', u'pct_labor_force', u'pct_homeowner', u'unempFeb07',\n",
       "       u'unempFeb08', u'unempChg', u'pctUnins00', u'subForPctHomes',\n",
       "       u'poverty05', u'median_hhi05', u'Catholic', u'So.Bapt.Conv',\n",
       "       u'Un.Methodist', u'E.L.C.A.', u'Construction', u'Manufacturing',\n",
       "       u'FinancialActivities', u'GoodsProducing', u'ServiceProviding'],\n",
       "      dtype='object')"
      ]
     },
     "execution_count": 3,
     "metadata": {},
     "output_type": "execute_result"
    }
   ],
   "source": [
    "df.columns"
   ]
  },
  {
   "cell_type": "code",
   "execution_count": 4,
   "metadata": {
    "collapsed": true
   },
   "outputs": [],
   "source": [
    "df['y'] = (df.winner == 'obama')"
   ]
  },
  {
   "cell_type": "markdown",
   "metadata": {
    "collapsed": true
   },
   "source": [
    "### First cut: Is a county more than 20% black?"
   ]
  },
  {
   "cell_type": "code",
   "execution_count": 5,
   "metadata": {
    "collapsed": false
   },
   "outputs": [],
   "source": [
    "df['black06_fraction'] = df.black06 / df.pop06 # Fraction of the black voters"
   ]
  },
  {
   "cell_type": "code",
   "execution_count": 6,
   "metadata": {
    "collapsed": false
   },
   "outputs": [
    {
     "data": {
      "text/plain": [
       "0     4118\n",
       "1    12085\n",
       "2     3823\n",
       "3     1751\n",
       "4     3471\n",
       "Name: tvotes, dtype: int64"
      ]
     },
     "execution_count": 6,
     "metadata": {},
     "output_type": "execute_result"
    }
   ],
   "source": [
    "df.tvotes.head() # Total number of voters"
   ]
  },
  {
   "cell_type": "code",
   "execution_count": 7,
   "metadata": {
    "collapsed": true
   },
   "outputs": [],
   "source": [
    "node_df = df # Set the current node dataframe as the dataset dataframe\n",
    "left_df = node_df[node_df.black06_fraction <= .2] # Row selection\n",
    "right_df = node_df[node_df.black06_fraction > .2] # Row selection"
   ]
  },
  {
   "cell_type": "markdown",
   "metadata": {
    "collapsed": true
   },
   "source": [
    "#### First cut/right node"
   ]
  },
  {
   "cell_type": "code",
   "execution_count": 8,
   "metadata": {
    "collapsed": false
   },
   "outputs": [
    {
     "data": {
      "text/plain": [
       "380"
      ]
     },
     "execution_count": 8,
     "metadata": {},
     "output_type": "execute_result"
    }
   ],
   "source": [
    "(right_df.y == 1).sum() # Obama"
   ]
  },
  {
   "cell_type": "code",
   "execution_count": 9,
   "metadata": {
    "collapsed": false
   },
   "outputs": [
    {
     "data": {
      "text/plain": [
       "70"
      ]
     },
     "execution_count": 9,
     "metadata": {},
     "output_type": "execute_result"
    }
   ],
   "source": [
    "(right_df.y == 0).sum() # Clinton"
   ]
  },
  {
   "cell_type": "markdown",
   "metadata": {},
   "source": [
    "Obama wins these counties 380 to 69."
   ]
  },
  {
   "cell_type": "code",
   "execution_count": 10,
   "metadata": {
    "collapsed": false
   },
   "outputs": [],
   "source": [
    "def obama_vs_clinton(df):\n",
    "    obama = (df.y == 1).sum()\n",
    "    clinton = (df.y == 0).sum()\n",
    "    if obama > clinton:\n",
    "        print 'Obama wins these counties {} to {}.'.format(obama, clinton)\n",
    "    elif clinton > obama:\n",
    "        print 'Clinton wins these counties {} to {}.'.format(clinton, obama)\n",
    "    else:\n",
    "        print 'Obama and Clinton tie in these counties {} {}.'.format(obama, clinton)"
   ]
  },
  {
   "cell_type": "code",
   "execution_count": 11,
   "metadata": {
    "collapsed": false
   },
   "outputs": [
    {
     "name": "stdout",
     "output_type": "stream",
     "text": [
      "Obama wins these counties 380 to 70.\n"
     ]
    }
   ],
   "source": [
    "obama_vs_clinton(right_df)"
   ]
  },
  {
   "cell_type": "markdown",
   "metadata": {},
   "source": [
    "### Second cut: Is high school graduation rate higher than 78%?"
   ]
  },
  {
   "cell_type": "code",
   "execution_count": 12,
   "metadata": {
    "collapsed": true
   },
   "outputs": [],
   "source": [
    "node_df = left_df\n",
    "left_df = node_df[node_df.pct_hs_grad <= .78]\n",
    "right_df = node_df[node_df.pct_hs_grad > .78]"
   ]
  },
  {
   "cell_type": "code",
   "execution_count": 13,
   "metadata": {
    "collapsed": false
   },
   "outputs": [
    {
     "name": "stdout",
     "output_type": "stream",
     "text": [
      "Clinton wins these counties 714 to 93.\n"
     ]
    }
   ],
   "source": [
    "obama_vs_clinton(left_df)"
   ]
  },
  {
   "cell_type": "markdown",
   "metadata": {},
   "source": [
    "### Third cut: Is high school graduation rate higher than 87%?"
   ]
  },
  {
   "cell_type": "code",
   "execution_count": 14,
   "metadata": {
    "collapsed": true
   },
   "outputs": [],
   "source": [
    "node_df = right_df\n",
    "left_df = node_df[node_df.pct_hs_grad <= .87]\n",
    "right_df = node_df[node_df.pct_hs_grad > .87]"
   ]
  },
  {
   "cell_type": "code",
   "execution_count": 15,
   "metadata": {
    "collapsed": false
   },
   "outputs": [
    {
     "name": "stdout",
     "output_type": "stream",
     "text": [
      "Obama wins these counties 176 to 36.\n"
     ]
    }
   ],
   "source": [
    "obama_vs_clinton(right_df)"
   ]
  },
  {
   "cell_type": "markdown",
   "metadata": {},
   "source": [
    "## Part B - Building the 2008 Democratic Primaries Decision Tree by Hand"
   ]
  },
  {
   "cell_type": "code",
   "execution_count": 16,
   "metadata": {
    "collapsed": false
   },
   "outputs": [],
   "source": [
    "class Node:\n",
    "\n",
    "    @staticmethod\n",
    "    def root(df):\n",
    "        classes = sorted(set(df.y))\n",
    "        return Node(classes, df)\n",
    "\n",
    "    def decision(self, left_filter):\n",
    "        # collect the observations for which the decision split is true and\n",
    "        # create the corresponding left node\n",
    "        left_filter = left_filter(self.df)\n",
    "        left_df = self.df[left_filter]\n",
    "        self.left = Node(self.classes, left_df)\n",
    "\n",
    "        # same thing on the right side but for the observations that don't\n",
    "        # satisfy the decision split (the \"else\")\n",
    "        right_filter = [not(b) for b in left_filter]\n",
    "        right_df = self.df[right_filter]\n",
    "        self.right = Node(self.classes, right_df)\n",
    "\n",
    "        # the entropy after the decision split is the weighted average of the\n",
    "        # children entropy\n",
    "        self.after = (self.left.samples * self.left.before\n",
    "                      + self.right.samples * self.right.before) / self.samples\n",
    "\n",
    "        # the information gain corresponds to the entropy lost between the\n",
    "        # parent node (this node and the \"before\") and its child (the \"after\")\n",
    "        self.information_gain = self.before - self.after\n",
    "\n",
    "        return self\n",
    "\n",
    "    def __init__(self, classes, df):\n",
    "        self.classes = classes\n",
    "        self.df = df\n",
    "\n",
    "        # counts of the remaining observations in the subspace per classes\n",
    "        self.counts = [sum(self.df.y == y) for y in self.classes]\n",
    "\n",
    "        # number of observations in the subspace\n",
    "        self.samples = sum(self.counts)\n",
    "\n",
    "        # for empty subspaces, probabilties and entropy are set to zero\n",
    "        if self.samples == 0:\n",
    "            self.probabilities = [0. for count in self.counts]\n",
    "            self.before = 0.\n",
    "        else:\n",
    "            self.probabilities = [1. * count / self.samples for count in self.counts]\n",
    "            self.before = - sum(map(lambda p: p * math.log(p, 2),\n",
    "                                    filter(lambda p : p > 0., self.probabilities)))\n",
    "\n",
    "    def status(self):\n",
    "        print \"before:\"\n",
    "        print \"\\tparent:\"\n",
    "        print \"\\t\\tsamples       =\", self.samples\n",
    "        print \"\\t\\tcounts        =\", self.counts\n",
    "        print \"\\t\\tprobabilities =\", self.probabilities\n",
    "        print \"\\t\\tentropy       =\", self.before\n",
    "        print \"after:\"\n",
    "        print \"\\tleft child:\"\n",
    "        print \"\\t\\tsamples       =\", self.left.samples\n",
    "        print \"\\t\\tcounts        =\", self.left.counts\n",
    "        print \"\\t\\tprobabilities =\", self.left.probabilities\n",
    "        print \"\\t\\tentropy       =\", self.left.before\n",
    "        print \"\\tright child:\"\n",
    "        print \"\\t\\tsamples       =\", self.right.samples\n",
    "        print \"\\t\\tcounts        =\", self.right.counts\n",
    "        print \"\\t\\tprobabilities =\", self.right.probabilities\n",
    "        print \"\\t\\tentropy       =\", self.right.before\n",
    "        print\n",
    "        print \"before entropy                =\", self.before\n",
    "        print \"after entropy                 =\", self.after\n",
    "        print \"information gain              =\", self.information_gain"
   ]
  },
  {
   "cell_type": "markdown",
   "metadata": {},
   "source": [
    "### First cut"
   ]
  },
  {
   "cell_type": "code",
   "execution_count": 17,
   "metadata": {
    "collapsed": false
   },
   "outputs": [],
   "source": [
    "node = Node.root(df)"
   ]
  },
  {
   "cell_type": "markdown",
   "metadata": {
    "collapsed": true
   },
   "source": [
    "#### Candidate #1: Is a county more than 20% black?"
   ]
  },
  {
   "cell_type": "code",
   "execution_count": 18,
   "metadata": {
    "collapsed": false
   },
   "outputs": [
    {
     "name": "stdout",
     "output_type": "stream",
     "text": [
      "before:\n",
      "\tparent:\n",
      "\t\tsamples       = 2261\n",
      "\t\tcounts        = [1230, 1031]\n",
      "\t\tprobabilities = [0.5440070765148165, 0.45599292348518355]\n",
      "\t\tentropy       = 0.994404850929\n",
      "after:\n",
      "\tleft child:\n",
      "\t\tsamples       = 1810\n",
      "\t\tcounts        = [1160, 650]\n",
      "\t\tprobabilities = [0.6408839779005525, 0.35911602209944754]\n",
      "\t\tentropy       = 0.941946973925\n",
      "\tright child:\n",
      "\t\tsamples       = 451\n",
      "\t\tcounts        = [70, 381]\n",
      "\t\tprobabilities = [0.15521064301552107, 0.844789356984479]\n",
      "\t\tentropy       = 0.622727770437\n",
      "\n",
      "before entropy                = 0.994404850929\n",
      "after entropy                 = 0.878272555184\n",
      "information gain              = 0.116132295745\n"
     ]
    }
   ],
   "source": [
    "node.decision(lambda df: df.black06_fraction <= .2).status()"
   ]
  },
  {
   "cell_type": "markdown",
   "metadata": {
    "collapsed": true
   },
   "source": [
    "#### Candidate #2: Is high school graduation rate higher than 78%?"
   ]
  },
  {
   "cell_type": "code",
   "execution_count": 19,
   "metadata": {
    "collapsed": false
   },
   "outputs": [
    {
     "name": "stdout",
     "output_type": "stream",
     "text": [
      "before:\n",
      "\tparent:\n",
      "\t\tsamples       = 2261\n",
      "\t\tcounts        = [1230, 1031]\n",
      "\t\tprobabilities = [0.5440070765148165, 0.45599292348518355]\n",
      "\t\tentropy       = 0.994404850929\n",
      "after:\n",
      "\tleft child:\n",
      "\t\tsamples       = 1174\n",
      "\t\tcounts        = [781, 393]\n",
      "\t\tprobabilities = [0.6652470187393527, 0.33475298126064734]\n",
      "\t\tentropy       = 0.919708944493\n",
      "\tright child:\n",
      "\t\tsamples       = 1087\n",
      "\t\tcounts        = [449, 638]\n",
      "\t\tprobabilities = [0.41306347746090155, 0.5869365225390984]\n",
      "\t\tentropy       = 0.978081108578\n",
      "\n",
      "before entropy                = 0.994404850929\n",
      "after entropy                 = 0.947771988438\n",
      "information gain              = 0.0466328624907\n"
     ]
    }
   ],
   "source": [
    "node.decision(lambda df: df.pct_hs_grad <= .78).status()"
   ]
  },
  {
   "cell_type": "markdown",
   "metadata": {
    "collapsed": true
   },
   "source": [
    "#### Candidate #3: Is high school graduation rate higher than 87%?"
   ]
  },
  {
   "cell_type": "code",
   "execution_count": 20,
   "metadata": {
    "collapsed": false
   },
   "outputs": [
    {
     "name": "stdout",
     "output_type": "stream",
     "text": [
      "before:\n",
      "\tparent:\n",
      "\t\tsamples       = 2261\n",
      "\t\tcounts        = [1230, 1031]\n",
      "\t\tprobabilities = [0.5440070765148165, 0.45599292348518355]\n",
      "\t\tentropy       = 0.994404850929\n",
      "after:\n",
      "\tleft child:\n",
      "\t\tsamples       = 2042\n",
      "\t\tcounts        = [1194, 848]\n",
      "\t\tprobabilities = [0.584720861900098, 0.4152791380999021]\n",
      "\t\tentropy       = 0.979189497469\n",
      "\tright child:\n",
      "\t\tsamples       = 219\n",
      "\t\tcounts        = [36, 183]\n",
      "\t\tprobabilities = [0.1643835616438356, 0.8356164383561644]\n",
      "\t\tentropy       = 0.644694043812\n",
      "\n",
      "before entropy                = 0.994404850929\n",
      "after entropy                 = 0.946790335881\n",
      "information gain              = 0.0476145150476\n"
     ]
    }
   ],
   "source": [
    "node.decision(lambda df: df.pct_hs_grad <= .87).status()"
   ]
  }
 ],
 "metadata": {
  "kernelspec": {
   "display_name": "Python 2",
   "language": "python",
   "name": "python2"
  },
  "language_info": {
   "codemirror_mode": {
    "name": "ipython",
    "version": 2
   },
   "file_extension": ".py",
   "mimetype": "text/x-python",
   "name": "python",
   "nbconvert_exporter": "python",
   "pygments_lexer": "ipython2",
   "version": "2.7.11"
  }
 },
 "nbformat": 4,
 "nbformat_minor": 0
}
