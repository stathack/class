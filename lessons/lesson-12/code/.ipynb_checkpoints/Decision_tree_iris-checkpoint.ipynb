{
 "cells": [
  {
   "cell_type": "code",
   "execution_count": 105,
   "metadata": {
    "collapsed": true
   },
   "outputs": [],
   "source": [
    "import numpy as np \n",
    "from sklearn.cross_validation import train_test_split \n",
    "from sklearn.tree import DecisionTreeClassifier \n",
    "from sklearn.tree import export_graphviz \n",
    "from sklearn.metrics import confusion_matrix\n",
    "from sklearn.metrics import accuracy_score\n",
    "import pandas as pd\n",
    "import pprint\n",
    "import urllib2\n",
    "\n",
    "url = \"http://mlr.cs.umass.edu/ml/machine-learning-databases/iris/iris.data\"\n",
    "\n",
    "\n",
    "f = urllib2.urlopen(url)\n",
    "\n",
    "headers = ['Sepal Length', 'Sepal Width', 'Petal Length', 'Petal Width', 'Class'\n",
    "    ]\n",
    "\n",
    "iris= pd.read_csv(f,header=0, names=headers)"
   ]
  },
  {
   "cell_type": "code",
   "execution_count": 1,
   "metadata": {
    "collapsed": false
   },
   "outputs": [],
   "source": [
    "##summarize data\n",
    "iris.describe()\n",
    "#iris.corr()\n",
    "#iris.head()\n",
    "#iris.tail()\n",
    "#iris.values\n",
    "#headers"
   ]
  },
  {
   "cell_type": "code",
   "execution_count": 124,
   "metadata": {
    "collapsed": false
   },
   "outputs": [
    {
     "data": {
      "text/plain": [
       "((119, 4), (119,))"
      ]
     },
     "execution_count": 124,
     "metadata": {},
     "output_type": "execute_result"
    }
   ],
   "source": [
    "X = iris.iloc[:,:4].values \n",
    "y = iris.iloc[:,4].values \n",
    "\n",
    "\n",
    "X_train, X_test, y_train, y_test = train_test_split(X, y, test_size = 0.2, random_state = 0)\n",
    "X_train.shape, y_train.shape"
   ]
  },
  {
   "cell_type": "code",
   "execution_count": 133,
   "metadata": {
    "collapsed": false
   },
   "outputs": [
    {
     "name": "stdout",
     "output_type": "stream",
     "text": [
      "[[37  0  0]\n",
      " [ 0 39  1]\n",
      " [ 0  2 40]]\n",
      "0.9\n"
     ]
    }
   ],
   "source": [
    "tree = DecisionTreeClassifier( criterion ='entropy',random_state = 0) \n",
    "fittedtree=tree.fit( X_train, y_train) \n",
    "predictions=fittedtree.predict(X_test)\n",
    "\n",
    "print confusion_matrix(y_train, fittedtree.predict(X_train))\n",
    "print accuracy_score(y_test, fittedtree.predict(X_test))\n",
    "\n",
    "export_graphviz(fittedtree,  out_file =' tree.dot',  feature_names =['Sepal Length', 'Sepal Width', 'Petal Length', 'Petal Width'])"
   ]
  },
  {
   "cell_type": "code",
   "execution_count": 115,
   "metadata": {
    "collapsed": false
   },
   "outputs": [
    {
     "name": "stdout",
     "output_type": "stream",
     "text": [
      "0.9\n",
      "0.974789915966\n"
     ]
    }
   ],
   "source": [
    "\n",
    "tree = DecisionTreeClassifier( criterion ='entropy', max_depth=3,random_state = 0) \n",
    "fittedtree=tree.fit(X_train , y_train) \n",
    "print accuracy_score(y_test, fittedtree.predict(X_test))\n",
    "print accuracy_score(y_train, fittedtree.predict(X_train))"
   ]
  },
  {
   "cell_type": "code",
   "execution_count": 97,
   "metadata": {
    "collapsed": false
   },
   "outputs": [],
   "source": [
    "from sklearn.cross_validation import StratifiedKFold\n",
    "kfold=StratifiedKFold(y=y_train, n_folds=5, random_state=0)\n"
   ]
  },
  {
   "cell_type": "code",
   "execution_count": 128,
   "metadata": {
    "collapsed": false
   },
   "outputs": [
    {
     "name": "stdout",
     "output_type": "stream",
     "text": [
      " Fold: 1, Acc: 0.920\n",
      " Fold: 2, Acc: 1.000\n",
      " Fold: 3, Acc: 0.913\n",
      " Fold: 4, Acc: 0.957\n",
      " Fold: 5, Acc: 1.000\n",
      " CV accuracy: 0.958 +/- 0.037\n"
     ]
    }
   ],
   "source": [
    "tree = DecisionTreeClassifier( criterion ='entropy',max_depth=2,random_state = 0)\n",
    "\n",
    "scores=[]\n",
    "for k, (train, test) in enumerate(kfold):\n",
    "    d=tree.fit(X_train[train],y_train[train])\n",
    "    score=accuracy_score( d.predict(X_train[ test]), y_train[ test])\n",
    "    scores.append( score)\n",
    "    print(' Fold: %s, Acc: %.3f' % (k + 1,  score))\n",
    "\n",
    "print(' CV accuracy: %.3f +/- %.3f' % (np.mean( scores), np.std( scores)))"
   ]
  },
  {
   "cell_type": "code",
   "execution_count": 132,
   "metadata": {
    "collapsed": false
   },
   "outputs": [
    {
     "ename": "AttributeError",
     "evalue": "'numpy.ndarray' object has no attribute 'predict'",
     "output_type": "error",
     "traceback": [
      "\u001b[0;31m---------------------------------------------------------------------------\u001b[0m",
      "\u001b[0;31mAttributeError\u001b[0m                            Traceback (most recent call last)",
      "\u001b[0;32m<ipython-input-132-7bbb3676a406>\u001b[0m in \u001b[0;36m<module>\u001b[0;34m()\u001b[0m\n\u001b[0;32m----> 1\u001b[0;31m \u001b[0;32mprint\u001b[0m \u001b[0maccuracy_score\u001b[0m\u001b[0;34m(\u001b[0m\u001b[0my_test\u001b[0m\u001b[0;34m,\u001b[0m \u001b[0mfittedtree\u001b[0m\u001b[0;34m.\u001b[0m\u001b[0mpredict\u001b[0m\u001b[0;34m(\u001b[0m\u001b[0mX_test\u001b[0m\u001b[0;34m)\u001b[0m\u001b[0;34m)\u001b[0m\u001b[0;34m\u001b[0m\u001b[0m\n\u001b[0m\u001b[1;32m      2\u001b[0m \u001b[0;34m\u001b[0m\u001b[0m\n\u001b[1;32m      3\u001b[0m \u001b[0mfittedtree\u001b[0m\u001b[0;34m=\u001b[0m\u001b[0mfittedtree\u001b[0m\u001b[0;34m.\u001b[0m\u001b[0mpredict\u001b[0m\u001b[0;34m(\u001b[0m\u001b[0mX_test\u001b[0m\u001b[0;34m,\u001b[0m\u001b[0my_test\u001b[0m\u001b[0;34m)\u001b[0m\u001b[0;34m\u001b[0m\u001b[0m\n\u001b[1;32m      4\u001b[0m \u001b[0mexport_graphviz\u001b[0m\u001b[0;34m(\u001b[0m\u001b[0mfittedtree\u001b[0m\u001b[0;34m,\u001b[0m  \u001b[0mout_file\u001b[0m \u001b[0;34m=\u001b[0m\u001b[0;34m' tree.dot'\u001b[0m\u001b[0;34m,\u001b[0m  \u001b[0mfeature_names\u001b[0m \u001b[0;34m=\u001b[0m\u001b[0;34m[\u001b[0m\u001b[0;34m'Sepal Length'\u001b[0m\u001b[0;34m,\u001b[0m \u001b[0;34m'Sepal Width'\u001b[0m\u001b[0;34m,\u001b[0m \u001b[0;34m'Petal Length'\u001b[0m\u001b[0;34m,\u001b[0m \u001b[0;34m'Petal Width'\u001b[0m\u001b[0;34m]\u001b[0m\u001b[0;34m)\u001b[0m\u001b[0;34m\u001b[0m\u001b[0m\n",
      "\u001b[0;31mAttributeError\u001b[0m: 'numpy.ndarray' object has no attribute 'predict'"
     ]
    }
   ],
   "source": [
    "print accuracy_score(y_test, fittedtree.predict(X_test))\n",
    "\n",
    "fittedtree=fittedtree.predict(X_test,y_test)\n",
    "export_graphviz(fittedtree,  out_file =' tree.dot',  feature_names =['Sepal Length', 'Sepal Width', 'Petal Length', 'Petal Width'])"
   ]
  },
  {
   "cell_type": "code",
   "execution_count": null,
   "metadata": {
    "collapsed": true
   },
   "outputs": [],
   "source": []
  }
 ],
 "metadata": {
  "kernelspec": {
   "display_name": "Python 2",
   "language": "python",
   "name": "python2"
  },
  "language_info": {
   "codemirror_mode": {
    "name": "ipython",
    "version": 2
   },
   "file_extension": ".py",
   "mimetype": "text/x-python",
   "name": "python",
   "nbconvert_exporter": "python",
   "pygments_lexer": "ipython2",
   "version": "2.7.11"
  }
 },
 "nbformat": 4,
 "nbformat_minor": 0
}
